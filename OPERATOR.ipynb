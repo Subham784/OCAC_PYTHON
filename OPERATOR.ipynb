{
 "cells": [
  {
   "cell_type": "markdown",
   "id": "7d378b44-6064-4f5c-936f-a4e5a489d880",
   "metadata": {},
   "source": [
    "# OPERATORS"
   ]
  },
  {
   "cell_type": "raw",
   "id": "875f351e-7e9e-47ad-8290-a86c5275d515",
   "metadata": {},
   "source": [
    ".Operators are special symbols in python that carry out arithmetic or logical computation\n",
    ".The value that the operator operates on is called the operand"
   ]
  },
  {
   "cell_type": "markdown",
   "id": "1ec861cb-be28-425a-bc91-77cc6901c598",
   "metadata": {},
   "source": [
    "### Operator Types\n"
   ]
  },
  {
   "cell_type": "raw",
   "id": "9d240616-a452-45ab-a46f-e2d2878e40a2",
   "metadata": {},
   "source": [
    "1.Arithmetic Operators\n",
    "2.Comparision (Relational) Operators\n",
    "3.Logical (Boolean) Oerators\n",
    "4.Bitwise Operators\n",
    "5.Assignment Operators\n",
    "6.Special operators (Membership Operators & Identity Operators)"
   ]
  },
  {
   "cell_type": "markdown",
   "id": "40033d8d-553c-418c-91c5-1f0694ed710a",
   "metadata": {},
   "source": [
    "# Arithmetic Operators"
   ]
  },
  {
   "cell_type": "raw",
   "id": "79ed802a-090e-4b88-9463-340981240bc0",
   "metadata": {},
   "source": [
    ".Arithmetic operators are used to perform mathematical operations like addition, subtraction, multiplication etc.\n",
    ".+, -, *, /, %, //, ** are arithmetic operators"
   ]
  },
  {
   "cell_type": "code",
   "execution_count": 2,
   "id": "7887fd08-0f44-4e56-98d6-fd92d559b2a8",
   "metadata": {},
   "outputs": [
    {
     "data": {
      "text/plain": [
       "12"
      ]
     },
     "execution_count": 2,
     "metadata": {},
     "output_type": "execute_result"
    }
   ],
   "source": [
    "#ADDITION\n",
    "9+3"
   ]
  },
  {
   "cell_type": "code",
   "execution_count": 3,
   "id": "6788a214-58e1-420e-a891-29c458f2aef1",
   "metadata": {},
   "outputs": [
    {
     "data": {
      "text/plain": [
       "9"
      ]
     },
     "execution_count": 3,
     "metadata": {},
     "output_type": "execute_result"
    }
   ],
   "source": [
    "#SUBTRACTION\n",
    "24-15"
   ]
  },
  {
   "cell_type": "code",
   "execution_count": 5,
   "id": "09bfc6f6-c874-4a91-be7f-4c28ebb4379d",
   "metadata": {},
   "outputs": [
    {
     "data": {
      "text/plain": [
       "24"
      ]
     },
     "execution_count": 5,
     "metadata": {},
     "output_type": "execute_result"
    }
   ],
   "source": [
    "#MULTIPLICATION\n",
    "4*6"
   ]
  },
  {
   "cell_type": "code",
   "execution_count": 6,
   "id": "8b68662e-253f-48df-89b4-12c376219c3c",
   "metadata": {},
   "outputs": [
    {
     "data": {
      "text/plain": [
       "9.0"
      ]
     },
     "execution_count": 6,
     "metadata": {},
     "output_type": "execute_result"
    }
   ],
   "source": [
    "#DIVISION\n",
    "18/2"
   ]
  },
  {
   "cell_type": "raw",
   "id": "7261aff3-c28e-4e20-aebe-9d34c08d2d20",
   "metadata": {},
   "source": [
    ".Division_> always gives output as float"
   ]
  },
  {
   "cell_type": "code",
   "execution_count": 7,
   "id": "ec2dce2b-26dc-412a-825d-83ef63670950",
   "metadata": {},
   "outputs": [
    {
     "data": {
      "text/plain": [
       "512"
      ]
     },
     "execution_count": 7,
     "metadata": {},
     "output_type": "execute_result"
    }
   ],
   "source": [
    "#POWER/EXPONENT\n",
    "8**3  "
   ]
  },
  {
   "cell_type": "code",
   "execution_count": 8,
   "id": "cf325f33-7776-4a03-aa68-7604309cf939",
   "metadata": {},
   "outputs": [
    {
     "data": {
      "text/plain": [
       "9"
      ]
     },
     "execution_count": 8,
     "metadata": {},
     "output_type": "execute_result"
    }
   ],
   "source": [
    "#FLOOR DIVISION\n",
    "18//2"
   ]
  },
  {
   "cell_type": "code",
   "execution_count": 12,
   "id": "b6b30909-d3bb-4875-aaba-866ad343c550",
   "metadata": {},
   "outputs": [
    {
     "data": {
      "text/plain": [
       "2"
      ]
     },
     "execution_count": 12,
     "metadata": {},
     "output_type": "execute_result"
    }
   ],
   "source": [
    "#MODULO --> remainder\n",
    "18%4"
   ]
  },
  {
   "cell_type": "code",
   "execution_count": 13,
   "id": "7ff40570-4600-4559-99fb-663df6cee226",
   "metadata": {},
   "outputs": [
    {
     "data": {
      "text/plain": [
       "90"
      ]
     },
     "execution_count": 13,
     "metadata": {},
     "output_type": "execute_result"
    }
   ],
   "source": [
    "#PARANTASIS\n",
    "(3+6) * (2+8)"
   ]
  },
  {
   "cell_type": "code",
   "execution_count": 14,
   "id": "4ae438a8-247f-4c59-840c-402f38a559b4",
   "metadata": {},
   "outputs": [
    {
     "name": "stdout",
     "output_type": "stream",
     "text": [
      "56\n",
      "1.1428571428571428\n",
      "1\n"
     ]
    }
   ],
   "source": [
    "#MATHEMATICAL OPERATION WITH VARIABLE ASSIGMENT\n",
    "a=8\n",
    "b=7\n",
    "print(a*b)\n",
    "print(a/b)\n",
    "print(a%b)"
   ]
  },
  {
   "cell_type": "markdown",
   "id": "5be58a09-cfdf-4551-8978-6b208ef3a5f0",
   "metadata": {},
   "source": [
    "## Arthimetic operators Precedence"
   ]
  },
  {
   "cell_type": "raw",
   "id": "abd6b6ca-acbe-4064-94dc-9aa5c715f86a",
   "metadata": {},
   "source": [
    ".Paracenthesis\n",
    ".Exponents\n",
    ".Floor Division\n",
    ".Multiplication\n",
    ".Division\n",
    ".Modulus\n",
    ".Addition\n",
    ".Subtraction    "
   ]
  },
  {
   "cell_type": "code",
   "execution_count": 15,
   "id": "88d5941b-7ff7-40bf-963b-d9d57dd235b9",
   "metadata": {},
   "outputs": [
    {
     "data": {
      "text/plain": [
       "8.0"
      ]
     },
     "execution_count": 15,
     "metadata": {},
     "output_type": "execute_result"
    }
   ],
   "source": [
    "#BODMAS\n",
    "a-b*a/b+a"
   ]
  },
  {
   "cell_type": "code",
   "execution_count": 16,
   "id": "f53bdcc1-911a-46a3-b4b9-a21d8002384a",
   "metadata": {},
   "outputs": [
    {
     "data": {
      "text/plain": [
       "30"
      ]
     },
     "execution_count": 16,
     "metadata": {},
     "output_type": "execute_result"
    }
   ],
   "source": [
    "(3*(4+6))"
   ]
  },
  {
   "cell_type": "code",
   "execution_count": 17,
   "id": "c02f8230-99d5-4db0-9657-a60adb029a9d",
   "metadata": {},
   "outputs": [
    {
     "data": {
      "text/plain": [
       "45"
      ]
     },
     "execution_count": 17,
     "metadata": {},
     "output_type": "execute_result"
    }
   ],
   "source": [
    "3//5%2+7**2-4"
   ]
  },
  {
   "cell_type": "code",
   "execution_count": 20,
   "id": "c839e275-e958-438b-8c99-f6455f88df62",
   "metadata": {},
   "outputs": [
    {
     "data": {
      "text/plain": [
       "14.25"
      ]
     },
     "execution_count": 20,
     "metadata": {},
     "output_type": "execute_result"
    }
   ],
   "source": [
    "7//2*6/4/2+12%3**3"
   ]
  },
  {
   "cell_type": "markdown",
   "id": "0ac4d30d-6e64-4b7c-bf0c-c80a106a82ae",
   "metadata": {},
   "source": [
    "## Comparison/Relational Opoerators"
   ]
  },
  {
   "cell_type": "raw",
   "id": "ae71cbc8-6837-49a9-8568-347d6a9750ae",
   "metadata": {},
   "source": [
    ".Comparison operators are used to compare values. it either True or False according to the condition\n",
    ".>, <, ==, !=, >=, <= are comparision operators"
   ]
  },
  {
   "cell_type": "code",
   "execution_count": 21,
   "id": "ee918e70-0c56-472a-a3ec-d9f9fc99bd9f",
   "metadata": {},
   "outputs": [
    {
     "data": {
      "text/plain": [
       "True"
      ]
     },
     "execution_count": 21,
     "metadata": {},
     "output_type": "execute_result"
    }
   ],
   "source": [
    "#GREATER THAN\n",
    "30 > 25"
   ]
  },
  {
   "cell_type": "code",
   "execution_count": 22,
   "id": "fdfb56f3-1585-4f5d-a90e-5d78cd10fdc3",
   "metadata": {},
   "outputs": [
    {
     "data": {
      "text/plain": [
       "False"
      ]
     },
     "execution_count": 22,
     "metadata": {},
     "output_type": "execute_result"
    }
   ],
   "source": [
    "#LESS THAN\n",
    "37 < 28"
   ]
  },
  {
   "cell_type": "code",
   "execution_count": 23,
   "id": "8bbd0d45-2945-43b7-95a2-e95cae0bed9f",
   "metadata": {},
   "outputs": [
    {
     "data": {
      "text/plain": [
       "True"
      ]
     },
     "execution_count": 23,
     "metadata": {},
     "output_type": "execute_result"
    }
   ],
   "source": [
    "#EQUAL\n",
    "37 == 37"
   ]
  },
  {
   "cell_type": "code",
   "execution_count": 24,
   "id": "8e72c403-2141-4e68-8ff3-a405816c0fd5",
   "metadata": {},
   "outputs": [
    {
     "data": {
      "text/plain": [
       "True"
      ]
     },
     "execution_count": 24,
     "metadata": {},
     "output_type": "execute_result"
    }
   ],
   "source": [
    "#NOT EQUAL\n",
    "37 != 27"
   ]
  },
  {
   "cell_type": "code",
   "execution_count": 1,
   "id": "4c6ac054-42c8-4972-9621-815ed53dfc09",
   "metadata": {},
   "outputs": [
    {
     "data": {
      "text/plain": [
       "True"
      ]
     },
     "execution_count": 1,
     "metadata": {},
     "output_type": "execute_result"
    }
   ],
   "source": [
    "##GREATERTHAN OR EQUAL TO\n",
    "8 >= 8"
   ]
  },
  {
   "cell_type": "code",
   "execution_count": 2,
   "id": "aafbbbcf-84c5-46fd-97ca-a180e1a5b16c",
   "metadata": {},
   "outputs": [
    {
     "data": {
      "text/plain": [
       "False"
      ]
     },
     "execution_count": 2,
     "metadata": {},
     "output_type": "execute_result"
    }
   ],
   "source": [
    "#LESSTHAN EQUAL TO\n",
    "9 <= 4"
   ]
  },
  {
   "cell_type": "code",
   "execution_count": 3,
   "id": "33ca8f36-3c08-4043-98fa-902df7302a76",
   "metadata": {},
   "outputs": [
    {
     "data": {
      "text/plain": [
       "True"
      ]
     },
     "execution_count": 3,
     "metadata": {},
     "output_type": "execute_result"
    }
   ],
   "source": [
    "84 == 84.0"
   ]
  },
  {
   "cell_type": "code",
   "execution_count": 4,
   "id": "ff737f4e-d458-4a75-817c-74d491e4e5f1",
   "metadata": {},
   "outputs": [
    {
     "data": {
      "text/plain": [
       "False"
      ]
     },
     "execution_count": 4,
     "metadata": {},
     "output_type": "execute_result"
    }
   ],
   "source": [
    "'RAMA' == 'rama'"
   ]
  },
  {
   "cell_type": "markdown",
   "id": "5a578205-da4b-485b-93b4-2aea57cb19b3",
   "metadata": {},
   "source": [
    "## Bitwise Operators"
   ]
  },
  {
   "cell_type": "raw",
   "id": "f04c9546-b219-4501-9f6a-f135797ae952",
   "metadata": {},
   "source": [
    "Bitwise operators act on operands as if they were string to binary digits. it operates bit by bit..(&, |, ~, ^, >>, <<) are Bitwise operators"
   ]
  },
  {
   "cell_type": "raw",
   "id": "3795cb99-7fb2-40e5-96ed-f90af2b10300",
   "metadata": {},
   "source": [
    ".| or in bitewise operators\n",
    ".& and in bitwise operators"
   ]
  },
  {
   "cell_type": "code",
   "execution_count": 5,
   "id": "de8dd5f6-404a-428b-8f64-ab5d5b0a061c",
   "metadata": {},
   "outputs": [
    {
     "data": {
      "text/plain": [
       "'0b110010'"
      ]
     },
     "execution_count": 5,
     "metadata": {},
     "output_type": "execute_result"
    }
   ],
   "source": [
    "bin(50)"
   ]
  },
  {
   "cell_type": "code",
   "execution_count": 6,
   "id": "181d2978-059b-4e52-876e-e4a58c5f0a55",
   "metadata": {},
   "outputs": [
    {
     "data": {
      "text/plain": [
       "13"
      ]
     },
     "execution_count": 6,
     "metadata": {},
     "output_type": "execute_result"
    }
   ],
   "source": [
    "0b1101"
   ]
  },
  {
   "cell_type": "code",
   "execution_count": 13,
   "id": "e77df383-680f-47ac-afc9-ff474ff6d57e",
   "metadata": {},
   "outputs": [
    {
     "name": "stdout",
     "output_type": "stream",
     "text": [
      "6\n"
     ]
    }
   ],
   "source": [
    "#BITWISE OR\n",
    "a=6           #1 1 0\n",
    "b=4           #1 0 0\n",
    "\n",
    "print(a | b)   # 1 1 0 result"
   ]
  },
  {
   "cell_type": "code",
   "execution_count": 14,
   "id": "9cbc6c63-ba9f-411b-b505-e5c5b1e29060",
   "metadata": {},
   "outputs": [
    {
     "name": "stdout",
     "output_type": "stream",
     "text": [
      "4\n"
     ]
    }
   ],
   "source": [
    "#BITWISE AND\n",
    "a=6           #1 1 0\n",
    "b=4           #1 0 0\n",
    "\n",
    "print(a & b)    #1 0 0 result"
   ]
  },
  {
   "cell_type": "code",
   "execution_count": 15,
   "id": "06659dda-0625-47e4-adc9-3dbde4fa5b36",
   "metadata": {},
   "outputs": [
    {
     "data": {
      "text/plain": [
       "11"
      ]
     },
     "execution_count": 15,
     "metadata": {},
     "output_type": "execute_result"
    }
   ],
   "source": [
    "8 | 3"
   ]
  },
  {
   "cell_type": "code",
   "execution_count": 16,
   "id": "3d26e6a6-44e9-44a2-8027-6e0722076880",
   "metadata": {},
   "outputs": [
    {
     "data": {
      "text/plain": [
       "0"
      ]
     },
     "execution_count": 16,
     "metadata": {},
     "output_type": "execute_result"
    }
   ],
   "source": [
    "8 & 3"
   ]
  },
  {
   "cell_type": "markdown",
   "id": "8b1825b5-8443-4008-a0f1-5813f7bc62aa",
   "metadata": {},
   "source": [
    "## Logical Operators"
   ]
  },
  {
   "cell_type": "raw",
   "id": "f93e293f-23f0-4994-a90c-6decadcbdfad",
   "metadata": {},
   "source": [
    ".it returns bool type only\n",
    ".Logical operators are and, or, not operators"
   ]
  },
  {
   "cell_type": "code",
   "execution_count": 18,
   "id": "ddfb9361-a787-4066-a893-f5ea7b334abd",
   "metadata": {},
   "outputs": [
    {
     "data": {
      "text/plain": [
       "True"
      ]
     },
     "execution_count": 18,
     "metadata": {},
     "output_type": "execute_result"
    }
   ],
   "source": [
    "(5 > 7) or (4 < 9)"
   ]
  },
  {
   "cell_type": "code",
   "execution_count": 19,
   "id": "e6bc427e-d239-45a4-a1e3-24ef2de90e61",
   "metadata": {},
   "outputs": [
    {
     "data": {
      "text/plain": [
       "False"
      ]
     },
     "execution_count": 19,
     "metadata": {},
     "output_type": "execute_result"
    }
   ],
   "source": [
    "(5 > 7) and (4 < 9)"
   ]
  },
  {
   "cell_type": "code",
   "execution_count": 20,
   "id": "ede2d710-beb1-4315-bc0c-707f15f0fde1",
   "metadata": {},
   "outputs": [
    {
     "data": {
      "text/plain": [
       "False"
      ]
     },
     "execution_count": 20,
     "metadata": {},
     "output_type": "execute_result"
    }
   ],
   "source": [
    "not True"
   ]
  },
  {
   "cell_type": "code",
   "execution_count": 22,
   "id": "a36f7e40-8c8c-4822-a40f-161e71f49bc2",
   "metadata": {},
   "outputs": [
    {
     "data": {
      "text/plain": [
       "True"
      ]
     },
     "execution_count": 22,
     "metadata": {},
     "output_type": "execute_result"
    }
   ],
   "source": [
    "not False"
   ]
  },
  {
   "cell_type": "code",
   "execution_count": 24,
   "id": "8b1995e3-72a0-4003-83f4-e4ffb3324c2b",
   "metadata": {},
   "outputs": [
    {
     "data": {
      "text/plain": [
       "True"
      ]
     },
     "execution_count": 24,
     "metadata": {},
     "output_type": "execute_result"
    }
   ],
   "source": [
    "my_str='Rama'\n",
    "my_str.isalpha() or my_str.isnum()"
   ]
  },
  {
   "cell_type": "code",
   "execution_count": null,
   "id": "2978b356-0234-45ad-93eb-187634f5cafb",
   "metadata": {},
   "outputs": [],
   "source": [
    "# my_str is Rama\n",
    "# the condition is my_str is "
   ]
  },
  {
   "cell_type": "code",
   "execution_count": 26,
   "id": "d411e7aa-4c32-4e9d-8f4d-1138671c76f6",
   "metadata": {},
   "outputs": [
    {
     "name": "stdout",
     "output_type": "stream",
     "text": [
      "True\n"
     ]
    }
   ],
   "source": [
    "(5 == 5) and (5 == 7) or (7 == 7)"
   ]
  },
  {
   "cell_type": "raw",
   "id": "b8e84a39-ffa1-4168-9a54-107829514613",
   "metadata": {},
   "source": [
    "#[26]:(5 == 5)= True(1)\n",
    " #     (5 == 7)= False(0)\n",
    "# True(1) and False(0) = False(0)\n",
    "#False(0) or (7 ==7)= True(1)\n",
    "#False(0) or True(1) = True(1)\n",
    "#Result TRUE"
   ]
  },
  {
   "cell_type": "markdown",
   "id": "50eb3ef2-75b5-4960-9160-f924a522843c",
   "metadata": {},
   "source": [
    "## Assignment Operators"
   ]
  },
  {
   "cell_type": "raw",
   "id": "dbe59fcc-a946-4f35-96ab-3deb934a16b2",
   "metadata": {},
   "source": [
    ".Assignment operators are used in Python to asign values to variables.\n",
    ".(=, +=, -=, *=, /=, %=, //=, **=, &=,|=, ^=, >>=, <<=)are assignment operators"
   ]
  },
  {
   "cell_type": "code",
   "execution_count": 27,
   "id": "53477550-9223-4cce-a957-54e10cd61d20",
   "metadata": {},
   "outputs": [
    {
     "data": {
      "text/plain": [
       "25"
      ]
     },
     "execution_count": 27,
     "metadata": {},
     "output_type": "execute_result"
    }
   ],
   "source": [
    "a=25\n",
    "a # is a simple assignment operator that assigns the value 25 on the right to the variable a on the left. "
   ]
  },
  {
   "cell_type": "code",
   "execution_count": 28,
   "id": "fc787b98-b5cc-49bd-a798-0e674d454f9c",
   "metadata": {},
   "outputs": [
    {
     "name": "stdout",
     "output_type": "stream",
     "text": [
      "26\n"
     ]
    }
   ],
   "source": [
    "a=a+1 #add AND\n",
    "print(a) #(a=a+1) means (a=a+1) a value is 25+1=26 so result is 26."
   ]
  },
  {
   "cell_type": "code",
   "execution_count": 29,
   "id": "486be234-2a6d-43e7-98e4-902ac202905e",
   "metadata": {},
   "outputs": [
    {
     "data": {
      "text/plain": [
       "27"
      ]
     },
     "execution_count": 29,
     "metadata": {},
     "output_type": "execute_result"
    }
   ],
   "source": [
    "a+=1\n",
    "a      #(a+=1) means (a+1) so a value is 26+1=27 so result is 27."
   ]
  },
  {
   "cell_type": "code",
   "execution_count": 30,
   "id": "3625aea7-a81a-4f27-99e1-f6793b1341d7",
   "metadata": {},
   "outputs": [
    {
     "data": {
      "text/plain": [
       "24"
      ]
     },
     "execution_count": 30,
     "metadata": {},
     "output_type": "execute_result"
    }
   ],
   "source": [
    "a-=3\n",
    "a       #(a-=1) means (a-1) so a value is 27-1=24 so result is 24."
   ]
  },
  {
   "cell_type": "code",
   "execution_count": 31,
   "id": "2bf31e20-3112-4dad-8cb2-c893688d4312",
   "metadata": {},
   "outputs": [],
   "source": [
    "# Multiple AND (*=)\n",
    "# Divide AND (/=)\n",
    "# Modulus AND (%=)\n",
    "# Floor Division (//=)\n",
    "# Exponent AND (**=)"
   ]
  },
  {
   "cell_type": "markdown",
   "id": "7879d074-26b9-42d3-9186-309693813d5d",
   "metadata": {},
   "source": [
    "## Identity Operators"
   ]
  },
  {
   "cell_type": "raw",
   "id": "0cd992a2-14f3-4c00-87a9-79b8dc2e0389",
   "metadata": {},
   "source": [
    "is and is not are the identity operators in python.\n",
    "They are used to check if two values (or variables) are located on the same part of the memory.\n",
    ".is operator (# is - True if the operands are identical)\n",
    ".is not operators (# is not - True if the operands are not identical)"
   ]
  },
  {
   "cell_type": "code",
   "execution_count": 32,
   "id": "78e8e401-fac1-4f73-994b-0a85a26611d2",
   "metadata": {},
   "outputs": [
    {
     "name": "stdout",
     "output_type": "stream",
     "text": [
      "True\n"
     ]
    }
   ],
   "source": [
    "a=7\n",
    "b=7\n",
    "print (a is b)   # (a is b) means a value is 7 and b value is 7 so a(7) is b(7) so result is True"
   ]
  },
  {
   "cell_type": "code",
   "execution_count": 33,
   "id": "016a2d32-7b16-41d3-88d5-fc2de0ca9e00",
   "metadata": {},
   "outputs": [
    {
     "name": "stdout",
     "output_type": "stream",
     "text": [
      "False\n"
     ]
    }
   ],
   "source": [
    "a='Rama'\n",
    "b='rama'\n",
    "print(a is b)  # (a is b) means a value is 'Rama' and b value is 'rama' so a('Rama') is b('rama')the result is False because the a nd b value fst letter is small and capital letter is different so result is False. "
   ]
  },
  {
   "cell_type": "code",
   "execution_count": 34,
   "id": "7345d919-857c-423f-9666-c1828d374faa",
   "metadata": {},
   "outputs": [
    {
     "data": {
      "text/plain": [
       "True"
      ]
     },
     "execution_count": 34,
     "metadata": {},
     "output_type": "execute_result"
    }
   ],
   "source": [
    "a=58\n",
    "b=54\n",
    "a is not b   # (a is not b) means a value is 58 and b value is 54 so a(58) is not b(54) so result is True."
   ]
  },
  {
   "cell_type": "markdown",
   "id": "ff96969b-d8ea-411d-90d8-ce59c8819aa7",
   "metadata": {},
   "source": [
    "## Membership Operators"
   ]
  },
  {
   "cell_type": "raw",
   "id": "ec7d2f30-24fe-4e95-9b52-f6f7848a1d55",
   "metadata": {},
   "source": [
    ".in and not in are the membeship operators in python.\n",
    ".They are used to test whether a value or variable is found in sequence (string, list, tuple, set and dictionary)."
   ]
  },
  {
   "cell_type": "code",
   "execution_count": 1,
   "id": "40a16c0c-7ef7-424f-9b26-eaa5b838cf01",
   "metadata": {},
   "outputs": [
    {
     "data": {
      "text/plain": [
       "True"
      ]
     },
     "execution_count": 1,
     "metadata": {},
     "output_type": "execute_result"
    }
   ],
   "source": [
    "a='Ramachandra'\n",
    "'chan' in a     # Check (chan) is present in a given string or not\n",
    "                # Result (YES) is present"
   ]
  },
  {
   "cell_type": "code",
   "execution_count": 2,
   "id": "365ccfdf-c94a-4a33-b0f3-1209c15a76a3",
   "metadata": {},
   "outputs": [
    {
     "data": {
      "text/plain": [
       "False"
      ]
     },
     "execution_count": 2,
     "metadata": {},
     "output_type": "execute_result"
    }
   ],
   "source": [
    "a='ramachandra'    #  Check (rmcn) is present in a given string\n",
    "'rmcn' in a        #(YES) present \n",
    "                   # But Result is (False) because the given is present but not sequencely so result is (false)"
   ]
  },
  {
   "cell_type": "code",
   "execution_count": 4,
   "id": "5c58805f-40ca-4e51-aaef-6ee7d2d2a7ad",
   "metadata": {},
   "outputs": [
    {
     "data": {
      "text/plain": [
       "True"
      ]
     },
     "execution_count": 4,
     "metadata": {},
     "output_type": "execute_result"
    }
   ],
   "source": [
    "lst = [7, 8, 5,3, 9,]       # Check (7 N0) is present in a given list or not \n",
    "7 in lst"
   ]
  },
  {
   "cell_type": "code",
   "execution_count": 6,
   "id": "0953efde-9e0b-4dac-bd1c-c84b5bb6f217",
   "metadata": {},
   "outputs": [
    {
     "data": {
      "text/plain": [
       "True"
      ]
     },
     "execution_count": 6,
     "metadata": {},
     "output_type": "execute_result"
    }
   ],
   "source": [
    "lst = [7, 8, 5,3, 9,]       # Check (2 N0) is present in a given list or not \n",
    "2 not in lst"
   ]
  },
  {
   "cell_type": "code",
   "execution_count": null,
   "id": "b1732488-2d2d-4bc2-a101-4debd9bb4ce5",
   "metadata": {},
   "outputs": [],
   "source": []
  }
 ],
 "metadata": {
  "kernelspec": {
   "display_name": "Python 3 (ipykernel)",
   "language": "python",
   "name": "python3"
  },
  "language_info": {
   "codemirror_mode": {
    "name": "ipython",
    "version": 3
   },
   "file_extension": ".py",
   "mimetype": "text/x-python",
   "name": "python",
   "nbconvert_exporter": "python",
   "pygments_lexer": "ipython3",
   "version": "3.11.7"
  }
 },
 "nbformat": 4,
 "nbformat_minor": 5
}
