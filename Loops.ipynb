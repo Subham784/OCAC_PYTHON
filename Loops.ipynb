{
 "cells": [
  {
   "cell_type": "markdown",
   "id": "069f5713-aea0-43f6-9688-750fb7afafa9",
   "metadata": {},
   "source": [
    "## Loops\n",
    "###### .There may be a situation when you need to execute a block 0f code several number of times.\n",
    "###### .To iterate over items or elements in a given seq like list, str, dict or tup\n",
    "###### .In general statements are executed sequentially: The first statement in a function is executed first,followed by the second,and so on paths."
   ]
  },
  {
   "cell_type": "markdown",
   "id": "3bda03b4-dd42-4b53-ba67-8cd0559cb321",
   "metadata": {},
   "source": [
    "### Iteration or loops- repeate action\n",
    "###### .for loop\n",
    "###### .for iterator_name in iterating_sequence:\n",
    "###### .statement 1\n",
    "###### .statement 2\n",
    "###### . while loop\n",
    "###### .until the condition satisfies"
   ]
  },
  {
   "cell_type": "markdown",
   "id": "63f6f1db-3739-4d28-a51b-b84fb08a06c4",
   "metadata": {},
   "source": [
    "## For loop\n",
    "###### The for loop in python is used to iterate over a sequence(list,tuple,string)or other iterable objects.\n",
    "###### lopp continues until we reach the last item in the sequence\n",
    "###### the body of for loop is separated form the rest of the code using indentation"
   ]
  },
  {
   "cell_type": "markdown",
   "id": "3090038b-2046-400c-88b4-4290ad42722a",
   "metadata": {},
   "source": [
    "## Syntax:"
   ]
  },
  {
   "cell_type": "markdown",
   "id": "4643dc61-5eb1-45bd-9933-b8ade9c2159f",
   "metadata": {},
   "source": [
    "###### for element in sequence:\n",
    "###### Body of for\n",
    "###### Here elements is the variable that takes the value of the item inside the sequence on each iteration.\n",
    "###### loop continue untill we reach the last in the sequence."
   ]
  },
  {
   "cell_type": "code",
   "execution_count": 2,
   "id": "54b36a5e-6e97-46d7-b63e-748879b15646",
   "metadata": {},
   "outputs": [
    {
     "name": "stdout",
     "output_type": "stream",
     "text": [
      "1\n",
      "2\n",
      "3\n",
      "4\n",
      "5\n",
      "6\n"
     ]
    }
   ],
   "source": [
    "s=[1,2,3,4,5,6]\n",
    "for i in s:\n",
    "    print(i)"
   ]
  },
  {
   "cell_type": "code",
   "execution_count": 12,
   "id": "5b172ed6-cbf0-4d95-9b49-e1742ae2e3b6",
   "metadata": {},
   "outputs": [
    {
     "name": "stdout",
     "output_type": "stream",
     "text": [
      "1,2,3,4,5,6,"
     ]
    }
   ],
   "source": [
    "s=[1,2,3,4,5,6]\n",
    "for no in s:\n",
    "    print(no,end=',')"
   ]
  },
  {
   "cell_type": "code",
   "execution_count": 8,
   "id": "db6c8f73-b53f-4be6-9e3a-b75c6f12667f",
   "metadata": {},
   "outputs": [
    {
     "name": "stdout",
     "output_type": "stream",
     "text": [
      "apple ,banana ,orange ,grapes ,mango ,"
     ]
    }
   ],
   "source": [
    "fruits=['apple','banana','orange','grapes','mango']\n",
    "for f in fruits:\n",
    "    print(f,end=' ,')"
   ]
  },
  {
   "cell_type": "code",
   "execution_count": 13,
   "id": "66adf4fd-9cb3-4e88-8e54-065003eb7be9",
   "metadata": {},
   "outputs": [
    {
     "name": "stdout",
     "output_type": "stream",
     "text": [
      "1 2 3 4 5 6 "
     ]
    }
   ],
   "source": [
    "s=[1,2,3,4,5,6]\n",
    "for no in s:\n",
    "    print(no,end=' ')"
   ]
  },
  {
   "cell_type": "code",
   "execution_count": 15,
   "id": "d5df2057-2537-4cdd-82d2-aececa9a0087",
   "metadata": {},
   "outputs": [
    {
     "name": "stdout",
     "output_type": "stream",
     "text": [
      "0 rama\n",
      "1 rama\n",
      "2 rama\n",
      "3 rama\n",
      "4 rama\n",
      "5 rama\n"
     ]
    }
   ],
   "source": [
    "for j in range(6):\n",
    "    print(j,\"rama\")"
   ]
  },
  {
   "cell_type": "code",
   "execution_count": 16,
   "id": "3ef7da6b-f301-4bd2-82ed-e2e0db28d63d",
   "metadata": {},
   "outputs": [
    {
     "name": "stdout",
     "output_type": "stream",
     "text": [
      "70 67 64 61 58 55 52 49 46 43 40 37 34 31 28 25 22 19 16 13 "
     ]
    }
   ],
   "source": [
    "for x in range(70,10,-3):\n",
    "    print(x,end=' ')"
   ]
  },
  {
   "cell_type": "code",
   "execution_count": 19,
   "id": "0d897651-3617-4a75-adc1-46992d590100",
   "metadata": {},
   "outputs": [
    {
     "name": "stdout",
     "output_type": "stream",
     "text": [
      "item at index 0 is: l1\n",
      "item at index 1 is: l2\n",
      "item at index 2 is: l3\n",
      "item at index 3 is: l4\n",
      "item at index 4 is: l5\n",
      "item at index 5 is: l6\n"
     ]
    }
   ],
   "source": [
    "list=['l1','l2','l3','l4','l5','l6']\n",
    "for x in range(len(list)):\n",
    "    print('item at index',x,'is:',list[x])"
   ]
  },
  {
   "cell_type": "code",
   "execution_count": 6,
   "id": "c6ccdf0c-b711-4c58-9ad2-2f116d345d74",
   "metadata": {},
   "outputs": [
    {
     "name": "stdout",
     "output_type": "stream",
     "text": [
      "sum: 100\n"
     ]
    }
   ],
   "source": [
    "# To print sum of n whole numbers\n",
    "A=[10,20,30,40]\n",
    "add1=0 # Initialization\n",
    "\n",
    "for i in A:\n",
    "    add1=add1+i\n",
    "print(\"sum:\",add1)"
   ]
  },
  {
   "cell_type": "code",
   "execution_count": 9,
   "id": "30f98498-0116-4b87-a833-d6526466f549",
   "metadata": {},
   "outputs": [
    {
     "name": "stdout",
     "output_type": "stream",
     "text": [
      "sum: 10\n",
      "sum: 30\n",
      "sum: 60\n",
      "sum: 100\n"
     ]
    }
   ],
   "source": [
    "# To print sum of n whole numbers\n",
    "A=[10,20,30,40]\n",
    "add1=0 # Initialization\n",
    "\n",
    "for i in A:\n",
    "    add1=add1+i\n",
    "    print(\"sum:\",add1)"
   ]
  },
  {
   "cell_type": "code",
   "execution_count": 10,
   "id": "5f529bda-526b-4389-a5e6-35ac056429e4",
   "metadata": {},
   "outputs": [
    {
     "name": "stdout",
     "output_type": "stream",
     "text": [
      "5,6,7,8,9,10,"
     ]
    }
   ],
   "source": [
    "a=5\n",
    "b=10\n",
    "for i in range(a,b+1):\n",
    "    print(i,end=',')          "
   ]
  },
  {
   "cell_type": "code",
   "execution_count": 21,
   "id": "74e6e934-45f9-4087-9a65-513161020c18",
   "metadata": {},
   "outputs": [
    {
     "name": "stdin",
     "output_type": "stream",
     "text": [
      "enter lower bound values 10\n",
      "enter upper bound values 30\n"
     ]
    },
    {
     "name": "stdout",
     "output_type": "stream",
     "text": [
      "10,12,14,16,18,20,22,24,26,28,30,"
     ]
    }
   ],
   "source": [
    "a1=int(input('enter lower bound values'))\n",
    "b1=int(input('enter upper bound values'))\n",
    "for i in range(a1,b1+1):\n",
    "    if i%2==0:\n",
    "        print(i,end=',')"
   ]
  },
  {
   "cell_type": "code",
   "execution_count": 24,
   "id": "28f30aa4-6458-4694-b181-0265be8d0760",
   "metadata": {},
   "outputs": [
    {
     "name": "stdout",
     "output_type": "stream",
     "text": [
      "5\n",
      "10\n",
      "15\n",
      "20\n",
      "25\n",
      "30\n",
      "40\n",
      "45\n"
     ]
    }
   ],
   "source": [
    "for no in range(1,50):\n",
    "    if no%5 == 0 and no%7!=0:\n",
    "        print(no)"
   ]
  },
  {
   "cell_type": "code",
   "execution_count": 30,
   "id": "2711729b-f355-4d38-abca-167e644d250a",
   "metadata": {},
   "outputs": [
    {
     "name": "stdin",
     "output_type": "stream",
     "text": [
      "enter multiplication table 12\n"
     ]
    },
    {
     "name": "stdout",
     "output_type": "stream",
     "text": [
      "12 * 1 = 12\n",
      "12 * 2 = 24\n",
      "12 * 3 = 36\n",
      "12 * 4 = 48\n",
      "12 * 5 = 60\n",
      "12 * 6 = 72\n",
      "12 * 7 = 84\n",
      "12 * 8 = 96\n",
      "12 * 9 = 108\n",
      "12 * 10 = 120\n"
     ]
    }
   ],
   "source": [
    "a2=int(input('enter multiplication table'))\n",
    "for x in range(1,11):\n",
    "    print(a2,'*',x,'=',a2*x)"
   ]
  },
  {
   "cell_type": "code",
   "execution_count": 32,
   "id": "d3bf7df7-43a6-4b51-83da-51453af8ba00",
   "metadata": {},
   "outputs": [
    {
     "name": "stdin",
     "output_type": "stream",
     "text": [
      "enter the no:- 4\n"
     ]
    },
    {
     "name": "stdout",
     "output_type": "stream",
     "text": [
      "* * * * * * * * * * * * * * * * * * * * "
     ]
    }
   ],
   "source": [
    "n=int(input('enter the no:-'))\n",
    "for y in range(n):\n",
    "    for z in range(n+1,):\n",
    "        print(\"*\",end=\" \")"
   ]
  },
  {
   "cell_type": "markdown",
   "id": "45d57710-2aeb-40a2-a9f9-81ed8a7f660c",
   "metadata": {},
   "source": [
    "## list comprehension\n",
    "###### List comprehension provide a concise way to create lists.\n",
    "###### Common application are to make new list where each elements is the result of some operations applied to each member of another sequence or iterable, or to create a subsequence of those elements that satisfy a certain codition. "
   ]
  },
  {
   "cell_type": "code",
   "execution_count": 39,
   "id": "38cb4903-d8f3-49c1-abc7-8ff6cd3808ee",
   "metadata": {},
   "outputs": [
    {
     "name": "stdout",
     "output_type": "stream",
     "text": [
      "[0, 1, 4, 9, 16, 25, 36, 49, 64, 81, 100, 121, 144, 169, 196]\n"
     ]
    }
   ],
   "source": [
    "# without list comparehension\n",
    "l=[]\n",
    "for i in range(15):\n",
    "    l.append(i**2)\n",
    "print(l)"
   ]
  },
  {
   "cell_type": "code",
   "execution_count": 41,
   "id": "3016e597-210e-4867-954c-adb8182cb8c2",
   "metadata": {},
   "outputs": [
    {
     "name": "stdout",
     "output_type": "stream",
     "text": [
      "[0, 1, 4, 9, 16, 25, 36, 49, 64, 81]\n"
     ]
    }
   ],
   "source": [
    "# using list comparehension\n",
    "l=[i**2 for i in range(10)]\n",
    "print(l)"
   ]
  },
  {
   "cell_type": "code",
   "execution_count": 22,
   "id": "09895c8c-1c52-400c-8a14-6bd54b44c761",
   "metadata": {},
   "outputs": [
    {
     "data": {
      "text/plain": [
       "[5, 3, 8, 3, 6]"
      ]
     },
     "execution_count": 22,
     "metadata": {},
     "output_type": "execute_result"
    }
   ],
   "source": [
    "flims=['kalki','kgf','bahubali','rrr','jalier']\n",
    "[len(x)for x in flims]"
   ]
  },
  {
   "cell_type": "code",
   "execution_count": 4,
   "id": "d6a555fc-221e-4a0d-b2e0-837309038dc0",
   "metadata": {},
   "outputs": [
    {
     "data": {
      "text/plain": [
       "[4, 3, 8, 9, 1, 6, 36, 4]"
      ]
     },
     "execution_count": 4,
     "metadata": {},
     "output_type": "execute_result"
    }
   ],
   "source": [
    "l1=[-4,-3,-8,-9,-1,-6,6,2]\n",
    "both=[]\n",
    "for y in l1:\n",
    "    if y < 0:\n",
    "        both.append(abs(y))\n",
    "    else:\n",
    "        both.append(y**2)\n",
    "both"
   ]
  },
  {
   "cell_type": "code",
   "execution_count": 5,
   "id": "502fad8b-b9d7-41d5-8108-eb5349662b32",
   "metadata": {},
   "outputs": [
    {
     "data": {
      "text/plain": [
       "[4, 3, 8, 9, 1, 6, 216, 8]"
      ]
     },
     "execution_count": 5,
     "metadata": {},
     "output_type": "execute_result"
    }
   ],
   "source": [
    "[abs(y) if y < 0 else y**3 for y in l1]"
   ]
  },
  {
   "cell_type": "code",
   "execution_count": 1,
   "id": "12990fd9-535d-410a-8290-d52b8dc56445",
   "metadata": {},
   "outputs": [
    {
     "name": "stdout",
     "output_type": "stream",
     "text": [
      "20\n",
      "35\n",
      "38\n"
     ]
    }
   ],
   "source": [
    "l1=[20,'rama','prabhas',35,38,'jaga']\n",
    "for x in l1:\n",
    "    if type(x)==int:\n",
    "        print(x)"
   ]
  },
  {
   "cell_type": "markdown",
   "id": "5fec6b0c-1c01-4985-9b94-44ac94caea67",
   "metadata": {},
   "source": [
    "### Set Comprehension "
   ]
  },
  {
   "cell_type": "code",
   "execution_count": 9,
   "id": "c0b26f71-0504-4967-b7a0-b55f9ba45843",
   "metadata": {},
   "outputs": [
    {
     "name": "stdout",
     "output_type": "stream",
     "text": [
      "{3, 5, 6, 7}\n"
     ]
    }
   ],
   "source": [
    "flims=['kalki','bahubal','RRR','pathon','jawan']\n",
    "a=set()\n",
    "for x in flims:\n",
    "    a.add(len(x))\n",
    "print(a)"
   ]
  },
  {
   "cell_type": "code",
   "execution_count": 12,
   "id": "a2bde374-b98e-45a6-8f22-3e62a40ccd13",
   "metadata": {},
   "outputs": [
    {
     "data": {
      "text/plain": [
       "{3, 5, 6, 8}"
      ]
     },
     "execution_count": 12,
     "metadata": {},
     "output_type": "execute_result"
    }
   ],
   "source": [
    "flims=['kalki','bahubali','RRR','pathon','jawan']\n",
    "{len(y) for y in flims}"
   ]
  },
  {
   "cell_type": "markdown",
   "id": "21116e7d-fedf-44c1-8368-6c7b1cd11520",
   "metadata": {},
   "source": [
    "### Enumerate\n",
    "##### Enumerate use see the index no "
   ]
  },
  {
   "cell_type": "code",
   "execution_count": 25,
   "id": "19695406-c753-473e-8670-e6a8e584ae31",
   "metadata": {},
   "outputs": [
    {
     "data": {
      "text/plain": [
       "{0: 'kalki', 1: 'bahubal', 2: 'RRR', 3: 'pathon', 4: 'jawan'}"
      ]
     },
     "execution_count": 25,
     "metadata": {},
     "output_type": "execute_result"
    }
   ],
   "source": [
    "flims={'kalki':7,'bahubal':8,'RRR':5,'pathon':3,'jawan':9}\n",
    "{x:y for x , y in enumerate(flims)}"
   ]
  },
  {
   "cell_type": "markdown",
   "id": "35173986-69d2-42c2-bc97-6d65b4f5a040",
   "metadata": {},
   "source": [
    "### Python break Statement\n",
    "###### in Python,break and continue statements can alter the flow of a noraml loop.\n",
    "###### Loop iterate over a block of code until test expression is false,but sometimes we wish to terminate the current iteration or even the whole loop without chekng test expression."
   ]
  },
  {
   "cell_type": "code",
   "execution_count": 18,
   "id": "d858703b-278a-4862-a4a5-976761225cf2",
   "metadata": {},
   "outputs": [
    {
     "name": "stdout",
     "output_type": "stream",
     "text": [
      "1\n",
      "2\n",
      "3\n"
     ]
    }
   ],
   "source": [
    "n=[1,2,3,4,5]\n",
    "for no in n:\n",
    "    if no == 4:\n",
    "        break\n",
    "    print(no)"
   ]
  },
  {
   "cell_type": "code",
   "execution_count": 43,
   "id": "6da5acbd-4a9d-413d-83d9-00c3de5c55e6",
   "metadata": {},
   "outputs": [
    {
     "name": "stdout",
     "output_type": "stream",
     "text": [
      "1\n",
      "2\n",
      "3\n",
      "5\n"
     ]
    }
   ],
   "source": [
    "n=[1,2,3,4,5]\n",
    "for no in n:\n",
    "    if no == 4:\n",
    "        # print(no)\n",
    "        # print(no)\n",
    "        # break\n",
    "        continue\n",
    "    print(no)"
   ]
  },
  {
   "cell_type": "code",
   "execution_count": 57,
   "id": "21389a3f-6d45-479c-91a1-cf53f846432f",
   "metadata": {},
   "outputs": [
    {
     "ename": "IndentationError",
     "evalue": "unexpected indent (1385178059.py, line 3)",
     "output_type": "error",
     "traceback": [
      "\u001b[1;36m  Cell \u001b[1;32mIn[57], line 3\u001b[1;36m\u001b[0m\n\u001b[1;33m    if no==4:\u001b[0m\n\u001b[1;37m    ^\u001b[0m\n\u001b[1;31mIndentationError\u001b[0m\u001b[1;31m:\u001b[0m unexpected indent\n"
     ]
    }
   ],
   "source": [
    "n=[1,2,3,4,5,6]\n",
    "for no in n:4\n",
    "    if no==4:\n",
    "        # print(no)\n",
    "        continue\n",
    "        print(no)"
   ]
  },
  {
   "cell_type": "code",
   "execution_count": 65,
   "id": "81fbe708-357d-4a36-95d3-ee57596a9b00",
   "metadata": {},
   "outputs": [
    {
     "name": "stdout",
     "output_type": "stream",
     "text": [
      "This is the end one- 1\n",
      "This is the end one- 2\n",
      "This is the end one- 3\n",
      "This is the end one- 5\n",
      "This is the end one- 6\n"
     ]
    }
   ],
   "source": [
    "i=[1,2,3,4,5,6]\n",
    "for n  in i:\n",
    "    if n == 4:\n",
    "        continue\n",
    "    print(\"This is the end one-\",n)"
   ]
  },
  {
   "cell_type": "code",
   "execution_count": 63,
   "id": "c0c94524-486f-46b0-a2c7-a82b1195e4c3",
   "metadata": {},
   "outputs": [
    {
     "name": "stdout",
     "output_type": "stream",
     "text": [
      "This is the end one- 6\n"
     ]
    }
   ],
   "source": [
    "i=[1,2,3,4,5,6]\n",
    "for n  in i:\n",
    "    if n == 4:\n",
    "        continue\n",
    "print(\"This is the end one-\",n)"
   ]
  },
  {
   "cell_type": "markdown",
   "id": "5523654b-8bf8-4308-82c0-8a1afb3e432d",
   "metadata": {},
   "source": [
    "### Python Continue Statement\n",
    "###### Syntax: continue"
   ]
  },
  {
   "cell_type": "markdown",
   "id": "a8b8912e-1adb-44b1-95c9-6228640bd3b7",
   "metadata": {},
   "source": [
    "#### Flow Chart"
   ]
  },
  {
   "cell_type": "code",
   "execution_count": 1,
   "id": "867d12e2-c69f-4644-9ede-71233efdefe2",
   "metadata": {},
   "outputs": [
    {
     "name": "stdout",
     "output_type": "stream",
     "text": [
      "1\n",
      "3\n",
      "5\n"
     ]
    }
   ],
   "source": [
    "no=[1,2,3,4,5]\n",
    "for n in no:\n",
    "    if n %2==0:\n",
    "        continue\n",
    "    print(n)"
   ]
  },
  {
   "cell_type": "markdown",
   "id": "e7344723-c564-4b46-b89b-c9cc5bf2187f",
   "metadata": {},
   "source": [
    "#### For loop with else"
   ]
  },
  {
   "cell_type": "markdown",
   "id": "f80d22c2-59ef-48d7-b6e9-c7b0271f1ae8",
   "metadata": {},
   "source": [
    "###### A for loop can have an optional else block as well.The else part is executed if the items in the sequence used in for loop exhausts.\n",
    "###### break statemnt can be used to stop a for loop. in such case, the else part is ignored.\n",
    "###### Hence ,a for loop's else part runs if no break occurs."
   ]
  },
  {
   "cell_type": "code",
   "execution_count": 4,
   "id": "c967287c-d5c5-4136-adec-8097141158ad",
   "metadata": {},
   "outputs": [
    {
     "name": "stdout",
     "output_type": "stream",
     "text": [
      "1\n",
      "2\n",
      "3\n",
      "no item left in the list\n"
     ]
    }
   ],
   "source": [
    "n=[1,2,3]\n",
    "for i in n:\n",
    "    print(i)\n",
    "else:\n",
    "    print('no item left in the list')"
   ]
  },
  {
   "cell_type": "code",
   "execution_count": 6,
   "id": "e952ed64-14cd-42af-9a7e-8bcb264f900c",
   "metadata": {},
   "outputs": [
    {
     "name": "stdout",
     "output_type": "stream",
     "text": [
      "2\n",
      "4\n"
     ]
    }
   ],
   "source": [
    "n=[1,2,3,4]\n",
    "for j in n:\n",
    "    if j%2==0:\n",
    "        print(j)"
   ]
  },
  {
   "cell_type": "code",
   "execution_count": 7,
   "id": "9f080f64-4bf2-48b4-8d0a-f0a4774e2be3",
   "metadata": {},
   "outputs": [
    {
     "name": "stdout",
     "output_type": "stream",
     "text": [
      "2\n"
     ]
    }
   ],
   "source": [
    "n=[1,2,3,4]\n",
    "for k in n:\n",
    "    if k%2==0:\n",
    "        print(k)\n",
    "        break"
   ]
  },
  {
   "cell_type": "markdown",
   "id": "43a4d068-e964-48e2-9a5e-9cf20bb3caec",
   "metadata": {},
   "source": [
    "#### While loop"
   ]
  },
  {
   "cell_type": "markdown",
   "id": "4157bb4a-4bfc-466e-a825-9bda412c51c9",
   "metadata": {},
   "source": [
    "###### The while loop python is used to iterate over a block of code as long as the test expression (condition) is true.\n",
    "###### We generally use this loop when we don't know beforehand, the number of times to iterate.\n",
    "###### In while loop,test expression is chacked first. The body of the loop is entered only if the test_expression evaluates to True.After one iteration ,thetest expression is checked again.This process continues untl the test_expression evaluates to False.\n",
    "###### In Python, the body of the whhile loop is determind through indention.\n",
    "###### Body starts with indention and the first unindented line marks the end.\n",
    "###### Python interprets any non-zero value as True. None and 0 are interpreted as False."
   ]
  },
  {
   "cell_type": "markdown",
   "id": "c45749bd-ec16-4952-926a-8ee1ff54c10e",
   "metadata": {},
   "source": [
    "##### While loop syntax\n",
    "###### While test_expression:\n",
    "###### Body of While\n",
    "###### The body of the loop is entered only if the test_expression evaluates to True.After one iteration,the test rxpression is checked again.\n",
    "###### thisw process continue untill the test_expression evaluates to False."
   ]
  },
  {
   "cell_type": "code",
   "execution_count": null,
   "id": "1fddf3f8-4838-4043-a5ce-59e33922fc87",
   "metadata": {},
   "outputs": [],
   "source": [
    "x=0\n",
    "while x<8:\n",
    "    print('x is ',x)\n",
    "    x=x+1"
   ]
  },
  {
   "cell_type": "code",
   "execution_count": null,
   "id": "01fc8872-1198-44ed-b6ad-6be3028ef208",
   "metadata": {},
   "outputs": [],
   "source": [
    "x=8\n",
    "while x>1:\n",
    "    print('x is {}'.format))\n",
    "    x-=1"
   ]
  },
  {
   "cell_type": "code",
   "execution_count": null,
   "id": "0540c8f7-76dc-4107-8780-b78bac3beeb5",
   "metadata": {},
   "outputs": [],
   "source": [
    "i=100\n",
    "s=20\n",
    "while i<500:\n",
    "    s=s+i\n",
    "    i=i+100\n",
    "print(s)"
   ]
  },
  {
   "cell_type": "code",
   "execution_count": null,
   "id": "007e403f-cc37-4ca0-afda-2f39a4c61683",
   "metadata": {},
   "outputs": [],
   "source": [
    "i=0\n",
    "s=0\n",
    "while (i<=5):\n",
    "    s=s+1\n",
    "    i+=2\n",
    "print(s)"
   ]
  },
  {
   "cell_type": "code",
   "execution_count": null,
   "id": "30d7aaa1-be17-42a9-9e52-568b4e273490",
   "metadata": {},
   "outputs": [],
   "source": [
    "i=0\n",
    "s=0\n",
    "while(i<=10):\n",
    "    s=s+i\n",
    "    i+=2\n",
    "print(s)"
   ]
  },
  {
   "cell_type": "code",
   "execution_count": null,
   "id": "f12cb958-f886-4448-9ea7-da352c7a440d",
   "metadata": {},
   "outputs": [],
   "source": [
    "x=0\n",
    "print(x)\n",
    "while x<5:\n",
    "    x=x+1\n",
    "print(x)"
   ]
  },
  {
   "cell_type": "code",
   "execution_count": null,
   "id": "b9e53c57-5215-4a0a-8f8a-a231e0b3fdab",
   "metadata": {},
   "outputs": [],
   "source": [
    "# program to print 0 to 100 (inclusive) whole numbers\n",
    "i=0\n",
    "while(i<=100):\n",
    "    print(i,end=' ')\n",
    "    i=i+1"
   ]
  },
  {
   "cell_type": "code",
   "execution_count": null,
   "id": "470c3dfc-ff68-4e66-872d-c3911cf20f7c",
   "metadata": {},
   "outputs": [],
   "source": [
    "# program to 'n' add naural numbers --> sum=1+2+3+...+n\n",
    "n=int(input('Enter n:'))\n",
    "sum = 0\n",
    "i=1\n",
    "while i<=n:\n",
    "    sum = sum+i\n",
    "    i=i+1\n",
    "print('The sum is',sum)"
   ]
  },
  {
   "cell_type": "code",
   "execution_count": null,
   "id": "e4e363af-0f2d-46d1-85f1-adeb87f28d42",
   "metadata": {},
   "outputs": [],
   "source": [
    "# Ask the use to enter the numbers and sum it\n",
    "s=0\n",
    "while True:\n",
    "    a=input('enter a value:')\n",
    "    if (a=='done'):\n",
    "        break\n",
    "    s=s+int(a)\n",
    "print(s)"
   ]
  },
  {
   "cell_type": "markdown",
   "id": "5098bf8a-6f38-4e28-a279-89c625506d4b",
   "metadata": {},
   "source": [
    "### While Loop with else"
   ]
  },
  {
   "cell_type": "markdown",
   "id": "979d820d-d075-45da-b901-9cf52d456073",
   "metadata": {},
   "source": [
    "###### Same as that of for loop,we can have an optional else block with while loop as well.\n",
    "###### The else part is executed if the condition in the loop evaluates to False.The while loop can be terminated with a break statement.\n",
    "###### In such case, the else part is ignored .Hence ,a while loop's else part runs if no break occurs and the condition is false."
   ]
  },
  {
   "cell_type": "code",
   "execution_count": null,
   "id": "d8be75a0-8339-4c60-8ef0-2ffdc98b7e8b",
   "metadata": {},
   "outputs": [],
   "source": [
    "x=8\n",
    "while x>1:\n",
    "    print('x is {}',format(x))\n",
    "    x-=1\n",
    "    if x==9:\n",
    "        break\n",
    "else:\n",
    "    print)'x is no longer greater than 1')"
   ]
  },
  {
   "cell_type": "code",
   "execution_count": null,
   "id": "8c87891d-51cb-413a-abe6-562cb8d59d7c",
   "metadata": {},
   "outputs": [],
   "source": [
    "x=0\n",
    "while x<8:\n",
    "    print('x is {}'.format(x))\n",
    "    x+=1\n",
    "else:\n",
    "    print('x is no longer < 8')"
   ]
  },
  {
   "cell_type": "code",
   "execution_count": null,
   "id": "2f84615e-4ed1-4249-a4cc-0854f689e9b4",
   "metadata": {},
   "outputs": [],
   "source": [
    "num =[1,2,3,4,5]\n",
    "index =0\n",
    "while index< len(num):\n",
    "    print(num[index])\n",
    "    index +=1\n",
    "else:\n",
    "    print('no item left in the list')"
   ]
  },
  {
   "cell_type": "markdown",
   "id": "61889336-9139-4888-8f2e-f80afbf091bf",
   "metadata": {},
   "source": [
    "### Factorial"
   ]
  },
  {
   "cell_type": "code",
   "execution_count": null,
   "id": "a9f13c76-1f88-47b7-b1ce-e43a546cd28c",
   "metadata": {},
   "outputs": [],
   "source": [
    "No=int(input(\"Enter a number: \"))\n",
    "if No < 0:\n",
    "    print(\"Factorial is not defined for negative numbers.\")\n",
    "else:\n",
    "    F = 1\n",
    "    X = No\n",
    "    while X > 0:\n",
    "        F=F*X\n",
    "        X=X-1\n",
    "    print(\"The factorial of\",No,\"is\",F)"
   ]
  },
  {
   "cell_type": "code",
   "execution_count": null,
   "id": "0008962d-f7e3-4430-b2f1-9969a191687c",
   "metadata": {},
   "outputs": [],
   "source": []
  }
 ],
 "metadata": {
  "kernelspec": {
   "display_name": "Python 3 (ipykernel)",
   "language": "python",
   "name": "python3"
  },
  "language_info": {
   "codemirror_mode": {
    "name": "ipython",
    "version": 3
   },
   "file_extension": ".py",
   "mimetype": "text/x-python",
   "name": "python",
   "nbconvert_exporter": "python",
   "pygments_lexer": "ipython3",
   "version": "3.11.7"
  }
 },
 "nbformat": 4,
 "nbformat_minor": 5
}
