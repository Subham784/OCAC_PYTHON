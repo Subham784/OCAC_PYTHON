{
 "cells": [
  {
   "cell_type": "code",
   "execution_count": 2,
   "id": "e30ef442-3441-4d9b-86b5-c848ed081c45",
   "metadata": {},
   "outputs": [
    {
     "name": "stdin",
     "output_type": "stream",
     "text": [
      "Enter the value of a:  56\n",
      "Enter the value of b:  45\n"
     ]
    },
    {
     "name": "stdout",
     "output_type": "stream",
     "text": [
      "ADD : 101\n",
      "sum: 101,Diff: 11, Mul: 2520 , Div:1.2444444444444445 ,Mod: 11\n"
     ]
    }
   ],
   "source": [
    "a= int(input(\"Enter the value of a: \"))\n",
    "b= int(input(\"Enter the value of b: \"))\n",
    "add=a+b\n",
    "sub=a-b\n",
    "mul=a*b\n",
    "div=a/b\n",
    "mod=a%b\n",
    "print(\"ADD :\",add)\n",
    "print(\"sum: {0},Diff: {1}, Mul: {2} , Div:{3} ,Mod: {4}\".format(add, sub ,mul,div,mod))\n"
   ]
  },
  {
   "cell_type": "code",
   "execution_count": 3,
   "id": "5e684bdd-6fb7-4782-912c-b9e5fb7acc96",
   "metadata": {},
   "outputs": [
    {
     "name": "stdout",
     "output_type": "stream",
     "text": [
      "sum: 101, Diff: 11, Mult: 2520, Div:1.2444444444444445, Mod: 11\n"
     ]
    }
   ],
   "source": [
    "print(\"sum: {}, Diff: {}, Mult: {}, Div:{}, Mod: {}\".format(add, sub ,mul,div,mod))\n"
   ]
  },
  {
   "cell_type": "code",
   "execution_count": 8,
   "id": "9d036ac3-73df-44f4-8a93-015b3c65c103",
   "metadata": {},
   "outputs": [
    {
     "name": "stdout",
     "output_type": "stream",
     "text": [
      "sum  | Diff | mult |  div\n",
      "101  |  11  | 2520 | 1.2444444444444445\n"
     ]
    }
   ],
   "source": [
    "print('{0: <4} | {1:^4} | {2:^4} | {3:>4}'.format('sum','Diff','mult','div'))\n",
    "print('{0: <4} | {1:^4} | {2:^4} | {3:>4}'.format(add,sub,mul,div))"
   ]
  },
  {
   "cell_type": "code",
   "execution_count": 9,
   "id": "3e240bdf-49d4-4996-a145-98082a456410",
   "metadata": {},
   "outputs": [
    {
     "name": "stdout",
     "output_type": "stream",
     "text": [
      "Welcime to Ocac Master Class !\n"
     ]
    }
   ],
   "source": [
    "a=\"Master Class\"\n",
    "print(f\"Welcime to Ocac {a} !\")"
   ]
  },
  {
   "cell_type": "code",
   "execution_count": 10,
   "id": "2ba9ab84-402d-44f9-9525-12fea444c197",
   "metadata": {},
   "outputs": [
    {
     "name": "stdin",
     "output_type": "stream",
     "text": [
      "Enter a company name -  tech m\n",
      "Enter the number of emplyees -  345\n"
     ]
    },
    {
     "name": "stdout",
     "output_type": "stream",
     "text": [
      "The name of the company is and the number of emplyees are  tech m 345\n"
     ]
    }
   ],
   "source": [
    "f = input(\"Enter a company name - \")\n",
    "g = input(\"Enter the number of emplyees - \")\n",
    "print(\"The name of the company is and the number of emplyees are \",f,g)"
   ]
  },
  {
   "cell_type": "code",
   "execution_count": 11,
   "id": "ea23a782-9e57-4d15-bee5-6ca653ebdea8",
   "metadata": {},
   "outputs": [
    {
     "name": "stdout",
     "output_type": "stream",
     "text": [
      "The name of the company is tech m and the number of emplyees are  345\n"
     ]
    }
   ],
   "source": [
    "print(\"The name of the company is\",f,\"and the number of emplyees are \",g)"
   ]
  },
  {
   "cell_type": "code",
   "execution_count": 13,
   "id": "f6eb5582-8408-4878-9617-33b052c13a88",
   "metadata": {},
   "outputs": [
    {
     "name": "stdin",
     "output_type": "stream",
     "text": [
      " 5\n"
     ]
    },
    {
     "data": {
      "text/plain": [
       "'5'"
      ]
     },
     "execution_count": 13,
     "metadata": {},
     "output_type": "execute_result"
    }
   ],
   "source": [
    "n=input()\n",
    "n"
   ]
  },
  {
   "cell_type": "code",
   "execution_count": 14,
   "id": "43c422e5-1a93-46dd-9f4b-763d85ef11b4",
   "metadata": {},
   "outputs": [
    {
     "data": {
      "text/plain": [
       "str"
      ]
     },
     "execution_count": 14,
     "metadata": {},
     "output_type": "execute_result"
    }
   ],
   "source": [
    "type(n)"
   ]
  },
  {
   "cell_type": "code",
   "execution_count": 15,
   "id": "cbe01207-e83e-485c-a333-0b3cc2785dae",
   "metadata": {},
   "outputs": [
    {
     "name": "stdin",
     "output_type": "stream",
     "text": [
      " subham\n"
     ]
    }
   ],
   "source": [
    "n=input()"
   ]
  },
  {
   "cell_type": "code",
   "execution_count": 16,
   "id": "620d0d02-fe1e-4649-84e1-729ba9681bc5",
   "metadata": {},
   "outputs": [
    {
     "name": "stdin",
     "output_type": "stream",
     "text": [
      "enter your age : 21\n"
     ]
    },
    {
     "data": {
      "text/plain": [
       "'21'"
      ]
     },
     "execution_count": 16,
     "metadata": {},
     "output_type": "execute_result"
    }
   ],
   "source": [
    "n1=input(\"enter your age :\")\n",
    "n1"
   ]
  },
  {
   "cell_type": "code",
   "execution_count": null,
   "id": "e9c8b777-2374-42ca-ad06-54d83ed54ef0",
   "metadata": {},
   "outputs": [],
   "source": [
    "a=10"
   ]
  },
  {
   "cell_type": "code",
   "execution_count": null,
   "id": "95646523-2193-47e1-a9e9-c8605aa8f7a6",
   "metadata": {},
   "outputs": [],
   "source": []
  }
 ],
 "metadata": {
  "kernelspec": {
   "display_name": "Python 3 (ipykernel)",
   "language": "python",
   "name": "python3"
  },
  "language_info": {
   "codemirror_mode": {
    "name": "ipython",
    "version": 3
   },
   "file_extension": ".py",
   "mimetype": "text/x-python",
   "name": "python",
   "nbconvert_exporter": "python",
   "pygments_lexer": "ipython3",
   "version": "3.11.7"
  }
 },
 "nbformat": 4,
 "nbformat_minor": 5
}
