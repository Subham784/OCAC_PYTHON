{
 "cells": [
  {
   "cell_type": "code",
   "execution_count": 7,
   "id": "cdee4f27-7d84-4c7a-828b-14f777b5e264",
   "metadata": {},
   "outputs": [],
   "source": [
    "##ghshsj\n"
   ]
  },
  {
   "cell_type": "code",
   "execution_count": 8,
   "id": "fc9dc69c-fddb-475a-9e34-d2cd6cf0b8b9",
   "metadata": {},
   "outputs": [
    {
     "name": "stdout",
     "output_type": "stream",
     "text": [
      "Hello World\n"
     ]
    }
   ],
   "source": [
    "print(\"Hello World\")\n"
   ]
  },
  {
   "cell_type": "markdown",
   "id": "1e5f5116-5c1d-4ec4-a84d-2b7fcec5a15a",
   "metadata": {},
   "source": [
    "hdhh \n"
   ]
  },
  {
   "cell_type": "markdown",
   "id": "5a10d7d1-8289-4b02-ad87-8a85a58f3079",
   "metadata": {},
   "source": []
  },
  {
   "cell_type": "markdown",
   "id": "5c57e803-5014-46ab-9ee9-efe091b1ae7c",
   "metadata": {},
   "source": [
    "###hhhshjs"
   ]
  },
  {
   "cell_type": "code",
   "execution_count": 9,
   "id": "126cca7f-ccf5-4df8-9901-b542f1fc8181",
   "metadata": {},
   "outputs": [
    {
     "data": {
      "text/plain": [
       "9"
      ]
     },
     "execution_count": 9,
     "metadata": {},
     "output_type": "execute_result"
    }
   ],
   "source": [
    "a=5\n",
    "b=4\n",
    "a+b\n"
   ]
  },
  {
   "cell_type": "code",
   "execution_count": 10,
   "id": "5fad66e2-a613-4509-8f45-dfe6aeb73dd1",
   "metadata": {},
   "outputs": [
    {
     "data": {
      "text/plain": [
       "'C:\\\\Users\\\\subha\\\\PYTHON 3'"
      ]
     },
     "execution_count": 10,
     "metadata": {},
     "output_type": "execute_result"
    }
   ],
   "source": [
    "pwd #preswnt working directory"
   ]
  },
  {
   "cell_type": "code",
   "execution_count": 13,
   "id": "f73479d4-3b29-454f-b383-0d052ba54f80",
   "metadata": {},
   "outputs": [
    {
     "ename": "SyntaxError",
     "evalue": "invalid syntax (781964535.py, line 1)",
     "output_type": "error",
     "traceback": [
      "\u001b[1;36m  Cell \u001b[1;32mIn[13], line 1\u001b[1;36m\u001b[0m\n\u001b[1;33m    @@@hiiii\u001b[0m\n\u001b[1;37m     ^\u001b[0m\n\u001b[1;31mSyntaxError\u001b[0m\u001b[1;31m:\u001b[0m invalid syntax\n"
     ]
    }
   ],
   "source": [
    "@@@hiiii"
   ]
  },
  {
   "cell_type": "code",
   "execution_count": 14,
   "id": "7022eb0f-c1ec-4991-b72b-7f12bae9bba7",
   "metadata": {},
   "outputs": [
    {
     "name": "stdout",
     "output_type": "stream",
     "text": [
      "D:\\\n"
     ]
    }
   ],
   "source": [
    "cd d:\n"
   ]
  },
  {
   "cell_type": "code",
   "execution_count": 1,
   "id": "bb0d5e2e-a2cc-4f52-90a9-20f358dbd190",
   "metadata": {},
   "outputs": [
    {
     "data": {
      "text/plain": [
       "6"
      ]
     },
     "execution_count": 1,
     "metadata": {},
     "output_type": "execute_result"
    }
   ],
   "source": [
    "AN = 1 \n",
    "b = 5\n",
    "AN +b"
   ]
  },
  {
   "cell_type": "markdown",
   "id": "182b43e5-4ac4-4978-91b2-061ee4f4efd8",
   "metadata": {},
   "source": [
    "w =type(b)"
   ]
  },
  {
   "cell_type": "code",
   "execution_count": 2,
   "id": "4ed55775-6bcb-494a-aa40-5cb7f7159955",
   "metadata": {},
   "outputs": [
    {
     "ename": "NameError",
     "evalue": "name 'W' is not defined",
     "output_type": "error",
     "traceback": [
      "\u001b[1;31m---------------------------------------------------------------------------\u001b[0m",
      "\u001b[1;31mNameError\u001b[0m                                 Traceback (most recent call last)",
      "Cell \u001b[1;32mIn[2], line 1\u001b[0m\n\u001b[1;32m----> 1\u001b[0m \u001b[38;5;28mprint\u001b[39m(W)\n",
      "\u001b[1;31mNameError\u001b[0m: name 'W' is not defined"
     ]
    }
   ],
   "source": [
    "print(W)"
   ]
  },
  {
   "cell_type": "code",
   "execution_count": 3,
   "id": "d9adecd2-483b-4ecc-a0a5-1d007d849162",
   "metadata": {},
   "outputs": [
    {
     "ename": "NameError",
     "evalue": "name 'w' is not defined",
     "output_type": "error",
     "traceback": [
      "\u001b[1;31m---------------------------------------------------------------------------\u001b[0m",
      "\u001b[1;31mNameError\u001b[0m                                 Traceback (most recent call last)",
      "Cell \u001b[1;32mIn[3], line 1\u001b[0m\n\u001b[1;32m----> 1\u001b[0m \u001b[38;5;28mprint\u001b[39m(w)\n",
      "\u001b[1;31mNameError\u001b[0m: name 'w' is not defined"
     ]
    }
   ],
   "source": [
    "print(w)"
   ]
  },
  {
   "cell_type": "code",
   "execution_count": 4,
   "id": "a6691980-36da-42b3-90a8-a392fc1aec63",
   "metadata": {},
   "outputs": [],
   "source": [
    "a=89"
   ]
  },
  {
   "cell_type": "code",
   "execution_count": 8,
   "id": "5f4ff553-c54f-4b9d-88c8-8606f974e7d6",
   "metadata": {},
   "outputs": [],
   "source": [
    "p=type(a)\n"
   ]
  },
  {
   "cell_type": "code",
   "execution_count": 9,
   "id": "9c393a0a-a3ed-4a0f-b86e-de2dac300f66",
   "metadata": {},
   "outputs": [
    {
     "name": "stdout",
     "output_type": "stream",
     "text": [
      "['False', 'None', 'True', 'and', 'as', 'assert', 'async', 'await', 'break', 'class', 'continue', 'def', 'del', 'elif', 'else', 'except', 'finally', 'for', 'from', 'global', 'if', 'import', 'in', 'is', 'lambda', 'nonlocal', 'not', 'or', 'pass', 'raise', 'return', 'try', 'while', 'with', 'yield']\n"
     ]
    }
   ],
   "source": [
    "import keyword\n",
    "keywords = keyword.kwlist\n",
    "print(keywords)"
   ]
  },
  {
   "cell_type": "code",
   "execution_count": 10,
   "id": "a6c4b013-692e-4460-8813-67e72757f207",
   "metadata": {},
   "outputs": [
    {
     "data": {
      "text/plain": [
       "35"
      ]
     },
     "execution_count": 10,
     "metadata": {},
     "output_type": "execute_result"
    }
   ],
   "source": [
    "len(keywords)\n"
   ]
  },
  {
   "cell_type": "code",
   "execution_count": 15,
   "id": "3d33063d-7bb2-46b6-9892-116c6b65fe1e",
   "metadata": {},
   "outputs": [
    {
     "name": "stdin",
     "output_type": "stream",
     "text": [
      "Enter your company name - tcs\n",
      "Enter your id - 12345\n"
     ]
    },
    {
     "name": "stdout",
     "output_type": "stream",
     "text": [
      "My Organisatin name is - tcs\n"
     ]
    }
   ],
   "source": [
    "b = input(\"Enter your company name -\")\n",
    "c= input(\"Enter your id -\")\n",
    "print(\"My Organisatin name is -\",b)"
   ]
  },
  {
   "cell_type": "code",
   "execution_count": 14,
   "id": "4fcf13aa-5aff-4488-a3ab-5aa6777762c0",
   "metadata": {},
   "outputs": [
    {
     "name": "stdout",
     "output_type": "stream",
     "text": [
      "llll Is my home \n"
     ]
    }
   ],
   "source": [
    "print(b,\"Is my home \")\n",
    "\n"
   ]
  },
  {
   "cell_type": "code",
   "execution_count": 16,
   "id": "9f569662-8121-4f89-8347-cf8258e57c21",
   "metadata": {},
   "outputs": [
    {
     "name": "stdout",
     "output_type": "stream",
     "text": [
      "i am from tcs and my id is 12345\n"
     ]
    }
   ],
   "source": [
    "print(\"i am from {} and my id is {}\".format(b,c))"
   ]
  },
  {
   "cell_type": "code",
   "execution_count": 17,
   "id": "de292890-7ba0-400a-9738-43b7132a0520",
   "metadata": {},
   "outputs": [
    {
     "data": {
      "text/plain": [
       "89"
      ]
     },
     "execution_count": 17,
     "metadata": {},
     "output_type": "execute_result"
    }
   ],
   "source": [
    "a"
   ]
  },
  {
   "cell_type": "code",
   "execution_count": 18,
   "id": "27132673-cfdc-4e4a-9167-94df766b681c",
   "metadata": {},
   "outputs": [
    {
     "ename": "NameError",
     "evalue": "name 'A' is not defined",
     "output_type": "error",
     "traceback": [
      "\u001b[1;31m---------------------------------------------------------------------------\u001b[0m",
      "\u001b[1;31mNameError\u001b[0m                                 Traceback (most recent call last)",
      "Cell \u001b[1;32mIn[18], line 1\u001b[0m\n\u001b[1;32m----> 1\u001b[0m A\n",
      "\u001b[1;31mNameError\u001b[0m: name 'A' is not defined"
     ]
    }
   ],
   "source": [
    "A"
   ]
  },
  {
   "cell_type": "code",
   "execution_count": 19,
   "id": "0ce5d077-8e28-4eb8-8a6e-0aecaf45c15f",
   "metadata": {},
   "outputs": [
    {
     "data": {
      "text/plain": [
       "89"
      ]
     },
     "execution_count": 19,
     "metadata": {},
     "output_type": "execute_result"
    }
   ],
   "source": [
    "a"
   ]
  },
  {
   "cell_type": "code",
   "execution_count": 21,
   "id": "cee8cd0e-f4d8-4775-b1d9-ce84c75bf64c",
   "metadata": {},
   "outputs": [
    {
     "ename": "NameError",
     "evalue": "name 'a' is not defined",
     "output_type": "error",
     "traceback": [
      "\u001b[1;31m---------------------------------------------------------------------------\u001b[0m",
      "\u001b[1;31mNameError\u001b[0m                                 Traceback (most recent call last)",
      "Cell \u001b[1;32mIn[21], line 1\u001b[0m\n\u001b[1;32m----> 1\u001b[0m \u001b[38;5;28;01mdel\u001b[39;00m(a)\n",
      "\u001b[1;31mNameError\u001b[0m: name 'a' is not defined"
     ]
    }
   ],
   "source": [
    "del(a)\n"
   ]
  },
  {
   "cell_type": "code",
   "execution_count": 22,
   "id": "af712f1e-0617-44f4-bd39-26bd815036fa",
   "metadata": {},
   "outputs": [
    {
     "ename": "NameError",
     "evalue": "name 'a' is not defined",
     "output_type": "error",
     "traceback": [
      "\u001b[1;31m---------------------------------------------------------------------------\u001b[0m",
      "\u001b[1;31mNameError\u001b[0m                                 Traceback (most recent call last)",
      "Cell \u001b[1;32mIn[22], line 1\u001b[0m\n\u001b[1;32m----> 1\u001b[0m a\n",
      "\u001b[1;31mNameError\u001b[0m: name 'a' is not defined"
     ]
    }
   ],
   "source": [
    "a"
   ]
  },
  {
   "cell_type": "code",
   "execution_count": 29,
   "id": "2068d300-274c-4e0c-9510-25c05747b25a",
   "metadata": {},
   "outputs": [
    {
     "name": "stdout",
     "output_type": "stream",
     "text": [
      "The story of bill ,georg and manfred \n"
     ]
    }
   ],
   "source": [
    "print('The story of {} ,{other} and {} '.format('bill','manfred',other='georg' ))"
   ]
  },
  {
   "cell_type": "code",
   "execution_count": 30,
   "id": "6135af77-ed79-4be2-91a7-498e96ecaaf4",
   "metadata": {},
   "outputs": [
    {
     "name": "stdout",
     "output_type": "stream",
     "text": [
      "the story of bill and subh\n"
     ]
    }
   ],
   "source": [
    "print('the story of {} and {}'.format('bill','subh','das','has'))"
   ]
  },
  {
   "cell_type": "code",
   "execution_count": 31,
   "id": "64b08a21-2f46-4f3e-8cbf-a310e90c5aa1",
   "metadata": {},
   "outputs": [
    {
     "ename": "IndexError",
     "evalue": "Replacement index 2 out of range for positional args tuple",
     "output_type": "error",
     "traceback": [
      "\u001b[1;31m---------------------------------------------------------------------------\u001b[0m",
      "\u001b[1;31mIndexError\u001b[0m                                Traceback (most recent call last)",
      "Cell \u001b[1;32mIn[31], line 1\u001b[0m\n\u001b[1;32m----> 1\u001b[0m \u001b[38;5;28mprint\u001b[39m(\u001b[38;5;124m'\u001b[39m\u001b[38;5;124mthe story of \u001b[39m\u001b[38;5;132;01m{}\u001b[39;00m\u001b[38;5;124m ,\u001b[39m\u001b[38;5;132;01m{}\u001b[39;00m\u001b[38;5;124m and \u001b[39m\u001b[38;5;132;01m{}\u001b[39;00m\u001b[38;5;124m'\u001b[39m\u001b[38;5;241m.\u001b[39mformat(\u001b[38;5;124m'\u001b[39m\u001b[38;5;124msubham\u001b[39m\u001b[38;5;124m'\u001b[39m,\u001b[38;5;124m'\u001b[39m\u001b[38;5;124mhari\u001b[39m\u001b[38;5;124m'\u001b[39m))\n",
      "\u001b[1;31mIndexError\u001b[0m: Replacement index 2 out of range for positional args tuple"
     ]
    }
   ],
   "source": [
    "print('the story of {} ,{} and {}'.format('subham','hari'))"
   ]
  },
  {
   "cell_type": "code",
   "execution_count": null,
   "id": "ea6b4d50-52e1-4758-a3b4-eddd75615407",
   "metadata": {},
   "outputs": [],
   "source": []
  }
 ],
 "metadata": {
  "kernelspec": {
   "display_name": "Python 3 (ipykernel)",
   "language": "python",
   "name": "python3"
  },
  "language_info": {
   "codemirror_mode": {
    "name": "ipython",
    "version": 3
   },
   "file_extension": ".py",
   "mimetype": "text/x-python",
   "name": "python",
   "nbconvert_exporter": "python",
   "pygments_lexer": "ipython3",
   "version": "3.11.7"
  }
 },
 "nbformat": 4,
 "nbformat_minor": 5
}
