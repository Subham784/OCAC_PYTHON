{
 "cells": [
  {
   "cell_type": "markdown",
   "id": "651b8da4-ad6f-4316-aaed-5a415c906455",
   "metadata": {},
   "source": [
    "# IF"
   ]
  },
  {
   "cell_type": "code",
   "execution_count": 1,
   "id": "76f4a50c-2b9f-4f55-9418-16fa9199fd12",
   "metadata": {},
   "outputs": [
    {
     "name": "stdout",
     "output_type": "stream",
     "text": [
      "subham\n",
      "rout\n"
     ]
    }
   ],
   "source": [
    "if 23>21:\n",
    "    print('subham')\n",
    "    print('rout')"
   ]
  },
  {
   "cell_type": "code",
   "execution_count": 2,
   "id": "5105afdd-2b87-4992-af16-784b85818f7f",
   "metadata": {},
   "outputs": [
    {
     "name": "stdout",
     "output_type": "stream",
     "text": [
      "rout\n"
     ]
    }
   ],
   "source": [
    "if 23>25:\n",
    "    print('subham')\n",
    "\n",
    "print('rout')"
   ]
  },
  {
   "cell_type": "code",
   "execution_count": 3,
   "id": "525ca567-db01-4d9d-99c5-d769afe783ef",
   "metadata": {},
   "outputs": [
    {
     "name": "stdin",
     "output_type": "stream",
     "text": [
      "Enter a name: subham\n"
     ]
    },
    {
     "name": "stdout",
     "output_type": "stream",
     "text": [
      "hello subham ,good morning!\n"
     ]
    }
   ],
   "source": [
    "name=input(\"Enter a name:\")\n",
    "if name == \"subham\" :\n",
    "    print(\"hello subham ,good morning!\" )"
   ]
  },
  {
   "cell_type": "markdown",
   "id": "4cc8200d-6202-4dc3-9eec-5cf3032b244e",
   "metadata": {},
   "source": [
    "# if else syntax\n"
   ]
  },
  {
   "cell_type": "code",
   "execution_count": 4,
   "id": "235af2bf-029c-4630-a1b7-a229b3a40a2e",
   "metadata": {},
   "outputs": [
    {
     "name": "stdout",
     "output_type": "stream",
     "text": [
      "lion\n"
     ]
    }
   ],
   "source": [
    "if 2>4:\n",
    "    print('tiger')\n",
    "\n",
    "else:\n",
    "    print('lion')"
   ]
  },
  {
   "cell_type": "code",
   "execution_count": 7,
   "id": "61be2af7-994d-4465-bc57-6be3c8529cb9",
   "metadata": {},
   "outputs": [
    {
     "name": "stdout",
     "output_type": "stream",
     "text": [
      "tiger\n"
     ]
    }
   ],
   "source": [
    "if 2<4:\n",
    "    print('tiger')\n",
    "\n",
    "else:\n",
    "    print('lion')"
   ]
  },
  {
   "cell_type": "code",
   "execution_count": 8,
   "id": "7c319f8f-cf93-4f1c-aadc-f304e0457166",
   "metadata": {},
   "outputs": [
    {
     "name": "stdin",
     "output_type": "stream",
     "text": [
      "enter a number  24\n"
     ]
    },
    {
     "name": "stdout",
     "output_type": "stream",
     "text": [
      "24 is a even number\n"
     ]
    }
   ],
   "source": [
    "x=int(input('enter a number '))\n",
    "if (x%2==0):\n",
    "    print(x,'is a even number')\n",
    "\n",
    "else:\n",
    "    print(x,'is a odd number')"
   ]
  },
  {
   "cell_type": "code",
   "execution_count": 9,
   "id": "e638702e-3f1f-4cb9-9a5f-fa805d170563",
   "metadata": {},
   "outputs": [
    {
     "name": "stdin",
     "output_type": "stream",
     "text": [
      "enter your name : dudu\n"
     ]
    },
    {
     "name": "stdout",
     "output_type": "stream",
     "text": [
      "Hello dudu good Afternoon\n"
     ]
    }
   ],
   "source": [
    "name=input(\"enter your name :\")\n",
    "if name==\"subham\" :\n",
    "    print(\"Hello subham good morning\")\n",
    "\n",
    "else:\n",
    "    print(\"Hello\",name,\"good Afternoon\")"
   ]
  },
  {
   "cell_type": "code",
   "execution_count": 10,
   "id": "e723e13e-f1e7-476c-9b21-06d1415a30ae",
   "metadata": {},
   "outputs": [
    {
     "name": "stdout",
     "output_type": "stream",
     "text": [
      "victory\n",
      "lose\n"
     ]
    }
   ],
   "source": [
    "lst=['tiger','lion','bear','elephant']\n",
    "if 'lion' in lst:\n",
    "    print('victory')\n",
    "\n",
    "if 'mouse' not in lst:\n",
    "    print('lose')"
   ]
  },
  {
   "cell_type": "code",
   "execution_count": 22,
   "id": "377f0c98-ef06-4b00-8754-4c6cd3fb83d6",
   "metadata": {},
   "outputs": [
    {
     "name": "stdin",
     "output_type": "stream",
     "text": [
      "enter a number : 45\n"
     ]
    },
    {
     "name": "stdout",
     "output_type": "stream",
     "text": [
      "The number is positive\n"
     ]
    }
   ],
   "source": [
    "a=int(input(\"enter a number :\"))\n",
    "if (a>=0):\n",
    "    print(\"The number is positive\")\n",
    "else :\n",
    "    (\"The number is negative \")"
   ]
  },
  {
   "cell_type": "markdown",
   "id": "bfe9b548-fe5e-49b2-bbe3-c6c3f8e7f603",
   "metadata": {},
   "source": [
    "# if elif else syntax"
   ]
  },
  {
   "cell_type": "code",
   "execution_count": 35,
   "id": "7c6a6c15-3a7d-40cb-a7ab-f8a88c40b430",
   "metadata": {},
   "outputs": [
    {
     "name": "stdout",
     "output_type": "stream",
     "text": [
      "large\n"
     ]
    }
   ],
   "source": [
    "if 2 == 2 :\n",
    "    print('large')\n",
    "elif 3 == 3 :\n",
    "    print('small')\n",
    "    "
   ]
  },
  {
   "cell_type": "code",
   "execution_count": 36,
   "id": "47b6e586-4c4d-443e-86f0-b7e7bca7713e",
   "metadata": {},
   "outputs": [
    {
     "name": "stdout",
     "output_type": "stream",
     "text": [
      "Grade B\n"
     ]
    }
   ],
   "source": [
    "y=89\n",
    "\n",
    "if y>90:\n",
    "    print(\"Grade A\")\n",
    "elif y>80:\n",
    "    print(\"Grade B\")\n",
    "elif y>70:\n",
    "    print(\"Grade C\")\n",
    "elif y>60:\n",
    "    print(\"Grade D\")\n",
    "\n",
    "else:\n",
    "    print(\"Grade F\")"
   ]
  },
  {
   "cell_type": "code",
   "execution_count": 38,
   "id": "ac99ac55-24ba-4195-b6d9-e56493afd41e",
   "metadata": {},
   "outputs": [
    {
     "name": "stdout",
     "output_type": "stream",
     "text": [
      "i am batman\n"
     ]
    }
   ],
   "source": [
    "x=-409\n",
    "\n",
    "if ((x>0)or(x==-900)):\n",
    "    print(\"x is positive value or -900\")\n",
    "    print(\"i am in if loop\")\n",
    "elif (x<0):\n",
    "          print(\"i am batman\")\n",
    "else:\n",
    "    print(\"i am superman\")\n",
    "\n",
    "\n",
    "          "
   ]
  },
  {
   "cell_type": "code",
   "execution_count": 39,
   "id": "ded8c451-0a70-4523-9493-e77ec177688b",
   "metadata": {},
   "outputs": [
    {
     "name": "stdout",
     "output_type": "stream",
     "text": [
      "i am iron man\n"
     ]
    }
   ],
   "source": [
    "x=900\n",
    "if (x>90):\n",
    "    print(\"i am iron man\")\n",
    "elif(x==0):\n",
    "    print(\"i am hulk\")\n",
    "\n",
    "else:\n",
    "    print(\"i am spiderman\")"
   ]
  },
  {
   "cell_type": "code",
   "execution_count": 41,
   "id": "6cc435d3-785d-4a6d-ae12-c0a527eb4e7f",
   "metadata": {},
   "outputs": [
    {
     "name": "stdin",
     "output_type": "stream",
     "text": [
      "enter brand name : bkw\n"
     ]
    },
    {
     "name": "stdout",
     "output_type": "stream",
     "text": [
      "its a shit \n"
     ]
    }
   ],
   "source": [
    "brand=input(\"enter brand name :\")\n",
    "if brand==\"bmw\":\n",
    "    print(\"its a premium brand\")\n",
    "elif brand == \"ktm\":\n",
    "    print(\"its a chapri brand\")\n",
    "elif brand == \"suzuki\":\n",
    "    print(\"its a normal brand\")\n",
    "else:\n",
    "    print(\"its a shit \")"
   ]
  },
  {
   "cell_type": "code",
   "execution_count": 42,
   "id": "82adfeb9-0cb6-481c-a467-e7ad54ed648d",
   "metadata": {},
   "outputs": [
    {
     "name": "stdout",
     "output_type": "stream",
     "text": [
      "i am venegance\n"
     ]
    },
    {
     "name": "stderr",
     "output_type": "stream",
     "text": [
      "<>:1: SyntaxWarning: \"is\" with a literal. Did you mean \"==\"?\n",
      "<>:1: SyntaxWarning: \"is\" with a literal. Did you mean \"==\"?\n",
      "C:\\Users\\subha\\AppData\\Local\\Temp\\ipykernel_5184\\980961296.py:1: SyntaxWarning: \"is\" with a literal. Did you mean \"==\"?\n",
      "  if 1 is 1:\n"
     ]
    }
   ],
   "source": [
    "if 1 is 1:\n",
    "    print(\"i am venegance\")\n",
    "elif 2>8:\n",
    "    print(\"i am not\")\n",
    "\n",
    "else :\n",
    "    print(\"no one\")"
   ]
  },
  {
   "cell_type": "code",
   "execution_count": 54,
   "id": "16e16346-da56-473b-8a00-13de2deb259a",
   "metadata": {},
   "outputs": [
    {
     "name": "stdin",
     "output_type": "stream",
     "text": [
      "Enter a number : 69\n"
     ]
    },
    {
     "name": "stdout",
     "output_type": "stream",
     "text": [
      "69 C Grade\n"
     ]
    }
   ],
   "source": [
    "'''\n",
    "85-100 -Grade A\n",
    "75-85 -Grade B\n",
    "65-75 -Grade C\n",
    "55-65 -Grade D\n",
    "'''\n",
    "a=int(float(input('Enter a number :')))\n",
    "\n",
    "if(a>85 and a<=100):\n",
    "    print(a,'A Grade')\n",
    "if(a>75 and a<=85):\n",
    "    print(a,'B Grade')\n",
    "if(a>65 and a<=75):\n",
    "    print(a,'C Grade')\n",
    "else :\n",
    "    print(a,'fail')\n"
   ]
  },
  {
   "cell_type": "code",
   "execution_count": 57,
   "id": "01cb45e8-3f21-4648-bff5-6b5847625816",
   "metadata": {},
   "outputs": [
    {
     "name": "stdin",
     "output_type": "stream",
     "text": [
      "enter 1st number : 67\n",
      "enter 2nd number : 0\n"
     ]
    },
    {
     "name": "stdout",
     "output_type": "stream",
     "text": [
      "i am don\n"
     ]
    }
   ],
   "source": [
    "n1=int(input(\"enter 1st number :\"))\n",
    "n2=int(input(\"enter 2nd number :\"))\n",
    "if n1>n2:\n",
    "    print(\"i am don\")\n",
    "\n",
    "else :\n",
    "    print(\"you are dog\")\n",
    "    "
   ]
  },
  {
   "cell_type": "code",
   "execution_count": 83,
   "id": "135e4ffc-fa41-473d-9b76-1dfab2ed11e8",
   "metadata": {},
   "outputs": [
    {
     "ename": "SyntaxError",
     "evalue": "invalid syntax (3816991756.py, line 12)",
     "output_type": "error",
     "traceback": [
      "\u001b[1;36m  Cell \u001b[1;32mIn[83], line 12\u001b[1;36m\u001b[0m\n\u001b[1;33m    else:\u001b[0m\n\u001b[1;37m    ^\u001b[0m\n\u001b[1;31mSyntaxError\u001b[0m\u001b[1;31m:\u001b[0m invalid syntax\n"
     ]
    }
   ],
   "source": [
    "amount=8900\n",
    "pin=4000\n",
    "if(int(input('enter your pin'))==4000):\n",
    "    \n",
    "    withdraw=int(input('withdraw amount please'))\n",
    "    \n",
    "    \n",
    "    if(withdraw<=amount):\n",
    "        \n",
    "        print(withdraw,'successfully debited from your account,Thank you')\n",
    "        \n",
    "        else:\n",
    "        print(withdraw,'Get Lost')\n",
    "    \n",
    "    else:\n",
    "         print(\"invalid pin numbr \")\n"
   ]
  },
  {
   "cell_type": "code",
   "execution_count": null,
   "id": "a51c8c3e-8317-4303-be55-728e14b04999",
   "metadata": {},
   "outputs": [],
   "source": []
  },
  {
   "cell_type": "code",
   "execution_count": null,
   "id": "72c93a71-4470-491e-a0b7-5db1a9497c11",
   "metadata": {},
   "outputs": [],
   "source": []
  },
  {
   "cell_type": "code",
   "execution_count": null,
   "id": "72a43b33-1fc9-4912-a8da-3069caff1257",
   "metadata": {},
   "outputs": [],
   "source": []
  },
  {
   "cell_type": "code",
   "execution_count": null,
   "id": "1cf1f0a4-2862-4ace-9bab-741b69b3d9aa",
   "metadata": {},
   "outputs": [],
   "source": []
  }
 ],
 "metadata": {
  "kernelspec": {
   "display_name": "Python 3 (ipykernel)",
   "language": "python",
   "name": "python3"
  },
  "language_info": {
   "codemirror_mode": {
    "name": "ipython",
    "version": 3
   },
   "file_extension": ".py",
   "mimetype": "text/x-python",
   "name": "python",
   "nbconvert_exporter": "python",
   "pygments_lexer": "ipython3",
   "version": "3.11.7"
  }
 },
 "nbformat": 4,
 "nbformat_minor": 5
}
