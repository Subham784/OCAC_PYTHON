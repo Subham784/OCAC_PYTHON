{
 "cells": [
  {
   "cell_type": "markdown",
   "id": "ff4a682b-1a9b-49f5-b487-badbc0657a17",
   "metadata": {},
   "source": [
    "## NumPy"
   ]
  },
  {
   "cell_type": "markdown",
   "id": "eed9ff8a-cb87-468c-8ca0-ce3f51f93804",
   "metadata": {},
   "source": [
    "###### NumPy (numerical Python) is an open source python library that aids in mathematical, scientific, engineering, and data science programming."
   ]
  },
  {
   "cell_type": "markdown",
   "id": "b53690af-51c1-4154-b605-39aa6fcc4f6e",
   "metadata": {},
   "source": [
    "###### NumPy is the fundamental package for scientific computing with Python. it contains:\n",
    "###### *.a powerful N-dimental array object\n",
    "###### *.extension package to python for multi-dimentional arrays\n",
    "###### *.designed for scientific computation -- liner algebra, fourier transform, and ran dom number capilities.\n",
    "###### *.Numpy can also be used as an efficient multi-dimensional container of generic data.\n",
    "###### *.this allows Numpy to seamlessly and speedily integrate with a wide variety of databases.\n",
    "###### *.numpy is an incredible library to perform mathematical and statistical operations because it is fast and memory. efficient.closer to hardware (efficiency)"
   ]
  },
  {
   "cell_type": "code",
   "execution_count": 2,
   "id": "d5c8e4bf-b67b-4b17-8287-e103097a9115",
   "metadata": {},
   "outputs": [],
   "source": [
    "### load in Numpy (Import Numpy package)\n",
    "import numpy as np"
   ]
  },
  {
   "cell_type": "markdown",
   "id": "0bca8b42-481a-4057-aef2-86e021b0be0e",
   "metadata": {},
   "source": [
    "### Ndarray Object"
   ]
  },
  {
   "cell_type": "markdown",
   "id": "dd8d4d79-4ba7-47f9-a28b-92deecec401e",
   "metadata": {},
   "source": [
    "###### The most important object defined in Numpy is an N-dimensional array type called ndarray.it describes the collection of items of the same type.item in the collection can be accessed using a zero-based index.Each element in ndarray ia an object of data-type object (called dtype)."
   ]
  },
  {
   "cell_type": "markdown",
   "id": "d43c85fe-f43a-4dba-986c-a9b3b9ed4674",
   "metadata": {},
   "source": [
    "###### The basic ndarray is created using an array function inNumpy as follows:\n",
    "###### numpy.array(object, dtype = None)"
   ]
  },
  {
   "cell_type": "markdown",
   "id": "3a7ddd94-b9db-4292-8f94-bf1d706512e0",
   "metadata": {},
   "source": [
    "##### NOTE: in Numpy,axis = 0 is cols and axis = 1 is rows."
   ]
  },
  {
   "cell_type": "code",
   "execution_count": 1,
   "id": "300a8dda-9560-42d1-84a5-87614b4b2d92",
   "metadata": {},
   "outputs": [],
   "source": [
    "i=[9,3,5,6]"
   ]
  },
  {
   "cell_type": "code",
   "execution_count": 2,
   "id": "a289d42a-315b-4c51-aec7-fb5e8212b706",
   "metadata": {},
   "outputs": [
    {
     "name": "stdout",
     "output_type": "stream",
     "text": [
      "[9, 3, 5, 6]\n"
     ]
    }
   ],
   "source": [
    "print(i)"
   ]
  },
  {
   "cell_type": "code",
   "execution_count": 3,
   "id": "99561d49-d567-4d65-a286-438fed1a6128",
   "metadata": {},
   "outputs": [
    {
     "name": "stdout",
     "output_type": "stream",
     "text": [
      "<class 'list'>\n"
     ]
    }
   ],
   "source": [
    "print(type(i))"
   ]
  },
  {
   "cell_type": "code",
   "execution_count": 12,
   "id": "b65f0d1a-7bb1-4857-8dc9-d4eabb6e6be3",
   "metadata": {},
   "outputs": [],
   "source": [
    "A=np.array(i)"
   ]
  },
  {
   "cell_type": "code",
   "execution_count": 13,
   "id": "6fcd5248-9785-4e20-99af-63c9e0f6cd69",
   "metadata": {},
   "outputs": [
    {
     "name": "stdout",
     "output_type": "stream",
     "text": [
      "[9 3 5 6]\n"
     ]
    }
   ],
   "source": [
    "print(A)"
   ]
  },
  {
   "cell_type": "code",
   "execution_count": 14,
   "id": "cc43aa33-f161-4860-864c-80f17c468a27",
   "metadata": {},
   "outputs": [
    {
     "name": "stdout",
     "output_type": "stream",
     "text": [
      "<class 'numpy.ndarray'>\n"
     ]
    }
   ],
   "source": [
    "print(type(A))"
   ]
  },
  {
   "cell_type": "markdown",
   "id": "b5bbda02-0687-4efd-9518-75bd9245805e",
   "metadata": {},
   "source": [
    "###### Why it is useful: Memory-efficient container that provides fast numerical operations."
   ]
  },
  {
   "cell_type": "code",
   "execution_count": 15,
   "id": "733b38d6-86cd-43ea-9ed6-0ab1631ccf1e",
   "metadata": {},
   "outputs": [
    {
     "name": "stdout",
     "output_type": "stream",
     "text": [
      "120 µs ± 5.22 µs per loop (mean ± std. dev. of 7 runs, 10,000 loops each)\n"
     ]
    }
   ],
   "source": [
    "# python list\n",
    "l=range(1000)\n",
    "%timeit [i**2 for i in l]"
   ]
  },
  {
   "cell_type": "code",
   "execution_count": 16,
   "id": "fd463916-a175-4a66-ae00-1d96b7501f50",
   "metadata": {},
   "outputs": [
    {
     "name": "stdout",
     "output_type": "stream",
     "text": [
      "1.88 µs ± 30.4 ns per loop (mean ± std. dev. of 7 runs, 100,000 loops each)\n"
     ]
    }
   ],
   "source": [
    "m=np.arange(1000)\n",
    "%timeit m**2"
   ]
  },
  {
   "cell_type": "markdown",
   "id": "eeb0857f-51ee-4db2-ac97-0a4602a094d4",
   "metadata": {},
   "source": [
    "##### Creating arrays (Manually creating arrays)"
   ]
  },
  {
   "cell_type": "code",
   "execution_count": 17,
   "id": "38990ff7-14c9-4fd7-845c-c0e561b5c3aa",
   "metadata": {},
   "outputs": [
    {
     "data": {
      "text/plain": [
       "array([6, 3, 1, 8])"
      ]
     },
     "execution_count": 17,
     "metadata": {},
     "output_type": "execute_result"
    }
   ],
   "source": [
    "# 1-D\n",
    "j=np.array([6,3,1,8])\n",
    "j"
   ]
  },
  {
   "cell_type": "code",
   "execution_count": 18,
   "id": "47104a3b-1d05-49f9-be45-a4dc9971c4fa",
   "metadata": {},
   "outputs": [
    {
     "data": {
      "text/plain": [
       "1"
      ]
     },
     "execution_count": 18,
     "metadata": {},
     "output_type": "execute_result"
    }
   ],
   "source": [
    "# print dimensions\n",
    "j.ndim"
   ]
  },
  {
   "cell_type": "code",
   "execution_count": 19,
   "id": "96f2cffd-6bb2-4a88-999a-ba092b8be834",
   "metadata": {},
   "outputs": [
    {
     "data": {
      "text/plain": [
       "(4,)"
      ]
     },
     "execution_count": 19,
     "metadata": {},
     "output_type": "execute_result"
    }
   ],
   "source": [
    "# Shape\n",
    "j.shape"
   ]
  },
  {
   "cell_type": "code",
   "execution_count": 20,
   "id": "2b60f543-7985-427a-a877-abd01b65a168",
   "metadata": {},
   "outputs": [
    {
     "data": {
      "text/plain": [
       "array([[2, 5, 3],\n",
       "       [9, 6, 1]])"
      ]
     },
     "execution_count": 20,
     "metadata": {},
     "output_type": "execute_result"
    }
   ],
   "source": [
    "# 2-D\n",
    "k=np.array ([[2,5,3], [9,6,1]])\n",
    "k"
   ]
  },
  {
   "cell_type": "code",
   "execution_count": 21,
   "id": "900dc1b6-ece5-453c-a8e2-5530528b8e4e",
   "metadata": {},
   "outputs": [
    {
     "data": {
      "text/plain": [
       "2"
      ]
     },
     "execution_count": 21,
     "metadata": {},
     "output_type": "execute_result"
    }
   ],
   "source": [
    "k.ndim"
   ]
  },
  {
   "cell_type": "code",
   "execution_count": 22,
   "id": "94a6f58e-86bc-4830-a038-615a2ee96455",
   "metadata": {},
   "outputs": [
    {
     "data": {
      "text/plain": [
       "(2, 3)"
      ]
     },
     "execution_count": 22,
     "metadata": {},
     "output_type": "execute_result"
    }
   ],
   "source": [
    "k.shape"
   ]
  },
  {
   "cell_type": "code",
   "execution_count": 23,
   "id": "7cf801f3-dfce-4922-9d95-cd5fb6b7dd7b",
   "metadata": {},
   "outputs": [
    {
     "data": {
      "text/plain": [
       "array([[[2, 4],\n",
       "        [5, 1]],\n",
       "\n",
       "       [[3, 8],\n",
       "        [9, 3]]])"
      ]
     },
     "execution_count": 23,
     "metadata": {},
     "output_type": "execute_result"
    }
   ],
   "source": [
    "# 3-D\n",
    "n=np.array([[[2,4], [5,1]], [[3,8], [9,3]]])\n",
    "n"
   ]
  },
  {
   "cell_type": "code",
   "execution_count": 24,
   "id": "8da817c0-e3d3-4727-9c92-61e2d83491ac",
   "metadata": {},
   "outputs": [
    {
     "data": {
      "text/plain": [
       "3"
      ]
     },
     "execution_count": 24,
     "metadata": {},
     "output_type": "execute_result"
    }
   ],
   "source": [
    "n.ndim"
   ]
  },
  {
   "cell_type": "code",
   "execution_count": 25,
   "id": "f1274a18-6245-42e3-b1fe-b1cbbf6c2781",
   "metadata": {},
   "outputs": [
    {
     "data": {
      "text/plain": [
       "(2, 2, 2)"
      ]
     },
     "execution_count": 25,
     "metadata": {},
     "output_type": "execute_result"
    }
   ],
   "source": [
    "n.shape"
   ]
  },
  {
   "cell_type": "markdown",
   "id": "87f82fee-4ba0-4e30-9a4e-90f8c298c03e",
   "metadata": {},
   "source": [
    "##### Creating NumPy Arrays From a List"
   ]
  },
  {
   "cell_type": "code",
   "execution_count": 26,
   "id": "4a7561dc-e13a-481d-b8d1-9e59effd190b",
   "metadata": {},
   "outputs": [
    {
     "data": {
      "text/plain": [
       "[3, 6, 2]"
      ]
     },
     "execution_count": 26,
     "metadata": {},
     "output_type": "execute_result"
    }
   ],
   "source": [
    "# We know how to create a list,right\n",
    "list=[3,6,2]\n",
    "list"
   ]
  },
  {
   "cell_type": "code",
   "execution_count": 27,
   "id": "8caccbac-379e-4187-8b08-b81b939b08bf",
   "metadata": {},
   "outputs": [
    {
     "data": {
      "text/plain": [
       "array([3, 6, 2])"
      ]
     },
     "execution_count": 27,
     "metadata": {},
     "output_type": "execute_result"
    }
   ],
   "source": [
    "np.array(list)"
   ]
  },
  {
   "cell_type": "code",
   "execution_count": 29,
   "id": "750303ad-329f-4f87-9b84-6e1e453759d9",
   "metadata": {},
   "outputs": [
    {
     "data": {
      "text/plain": [
       "[[3, 5, 2], [6, 1, 8], [9, 3, 6]]"
      ]
     },
     "execution_count": 29,
     "metadata": {},
     "output_type": "execute_result"
    }
   ],
   "source": [
    "# We can convert a matrix which is also a list to array\n",
    "matrix=[[3,5,2],[6,1,8],[9,3,6]]\n",
    "matrix"
   ]
  },
  {
   "cell_type": "code",
   "execution_count": 30,
   "id": "c3598a0f-0ea8-4eee-8dd6-14b3b285ed5b",
   "metadata": {},
   "outputs": [
    {
     "data": {
      "text/plain": [
       "array([[3, 5, 2],\n",
       "       [6, 1, 8],\n",
       "       [9, 3, 6]])"
      ]
     },
     "execution_count": 30,
     "metadata": {},
     "output_type": "execute_result"
    }
   ],
   "source": [
    "np.array(matrix)"
   ]
  },
  {
   "cell_type": "code",
   "execution_count": 32,
   "id": "8ef42d36-f808-4762-bbdd-d236f3bc875b",
   "metadata": {},
   "outputs": [
    {
     "data": {
      "text/plain": [
       "(3, 3)"
      ]
     },
     "execution_count": 32,
     "metadata": {},
     "output_type": "execute_result"
    }
   ],
   "source": [
    "np.array(matrix).shape"
   ]
  },
  {
   "cell_type": "markdown",
   "id": "eea32675-9555-414d-b90d-c9c3cd2e8f98",
   "metadata": {},
   "source": [
    "#### Functions of creating arrays\n",
    "##### A new ndarray object can be created by any of the following array creation routines:\n",
    "###### .list_nparray = np.array(pytjon_list,dtype)\n",
    "###### .arange_array = np.arange(start,end,step,dtype)\n",
    "###### .zero_array =np.zeros(shape,dtype)\n",
    "###### .ones_array = np.ones(shape,dtype)\n",
    "###### .linspace_array = np.linspace(start_element,end_element,num_of_elements)\n",
    "###### .empty_array = np.empty(shape,dtype)\n",
    "###### .random_array= np.random.randint(start,end,num_elements)"
   ]
  },
  {
   "cell_type": "markdown",
   "id": "319afabb-3894-405c-84f1-6b76b029998a",
   "metadata": {},
   "source": [
    "##### arange\n",
    "###### . Which will Return evenly spaced values within a given interval."
   ]
  },
  {
   "cell_type": "code",
   "execution_count": 3,
   "id": "0a126589-f917-48a9-a379-4671116d4160",
   "metadata": {},
   "outputs": [
    {
     "data": {
      "text/plain": [
       "array([0, 1, 2, 3, 4, 5, 6, 7, 8, 9])"
      ]
     },
     "execution_count": 3,
     "metadata": {},
     "output_type": "execute_result"
    }
   ],
   "source": [
    "# using arrange function -->arrange is an array-valued vrsion of the built-in pyton range function\n",
    "e = np.arange(10) # 0....n-1\n",
    "e"
   ]
  },
  {
   "cell_type": "code",
   "execution_count": 4,
   "id": "026416f4-ef94-441c-8cf7-7cb8faa50251",
   "metadata": {},
   "outputs": [
    {
     "data": {
      "text/plain": [
       "array([1, 3, 5, 7, 9])"
      ]
     },
     "execution_count": 4,
     "metadata": {},
     "output_type": "execute_result"
    }
   ],
   "source": [
    "f = np.arange(1,10,2) # start, end (exclusive),step\n",
    "f"
   ]
  },
  {
   "cell_type": "markdown",
   "id": "fee46b01-3036-42d0-b85d-d162ed8f7b47",
   "metadata": {},
   "source": [
    "##### Linespace\n",
    "###### .Return evenly spaced numbers over a specified interval."
   ]
  },
  {
   "cell_type": "code",
   "execution_count": 6,
   "id": "63d45540-62ee-4bb3-bb49-a9fcc26886e2",
   "metadata": {},
   "outputs": [
    {
     "data": {
      "text/plain": [
       "array([0., 1., 2., 3., 4., 5.])"
      ]
     },
     "execution_count": 6,
     "metadata": {},
     "output_type": "execute_result"
    }
   ],
   "source": [
    "# using Linspace\n",
    "g = np.linspace(0,5,6) # start,end,number of points\n",
    "g"
   ]
  },
  {
   "cell_type": "code",
   "execution_count": 7,
   "id": "9b47921e-d275-4c9a-9e95-86cf7f4a5dee",
   "metadata": {},
   "outputs": [
    {
     "data": {
      "text/plain": [
       "array([ 0.        ,  1.66666667,  3.33333333,  5.        ,  6.66666667,\n",
       "        8.33333333, 10.        ])"
      ]
     },
     "execution_count": 7,
     "metadata": {},
     "output_type": "execute_result"
    }
   ],
   "source": [
    "# I want to get 3 evenly spaced points between 0 to 10\n",
    "np.linspace(0,10,7)"
   ]
  },
  {
   "cell_type": "markdown",
   "id": "54da46cb-048d-497b-8729-042751678adb",
   "metadata": {},
   "source": [
    "##### zeros and ones\n",
    "###### .Generate arrays of zeros or ones"
   ]
  },
  {
   "cell_type": "code",
   "execution_count": 8,
   "id": "ed4a12f3-3d08-4342-bc4c-0b31666478be",
   "metadata": {},
   "outputs": [
    {
     "data": {
      "text/plain": [
       "array([0., 0., 0.])"
      ]
     },
     "execution_count": 8,
     "metadata": {},
     "output_type": "execute_result"
    }
   ],
   "source": [
    "np.zeros(3)"
   ]
  },
  {
   "cell_type": "code",
   "execution_count": 9,
   "id": "47bc3859-8514-46fc-a99c-61b246d32ec5",
   "metadata": {},
   "outputs": [
    {
     "data": {
      "text/plain": [
       "array([[0., 0.],\n",
       "       [0., 0.]])"
      ]
     },
     "execution_count": 9,
     "metadata": {},
     "output_type": "execute_result"
    }
   ],
   "source": [
    "h=np.zeros((2,2))\n",
    "h"
   ]
  },
  {
   "cell_type": "code",
   "execution_count": 10,
   "id": "8bbf8b7a-0fc3-452f-a851-981b4b5f997c",
   "metadata": {},
   "outputs": [
    {
     "data": {
      "text/plain": [
       "array([[1., 1., 1.],\n",
       "       [1., 1., 1.],\n",
       "       [1., 1., 1.],\n",
       "       [1., 1., 1.]])"
      ]
     },
     "execution_count": 10,
     "metadata": {},
     "output_type": "execute_result"
    }
   ],
   "source": [
    "h=np.ones((4,3))\n",
    "h"
   ]
  },
  {
   "cell_type": "markdown",
   "id": "46eb4f9a-2a1a-4609-8cb9-ffcae6dfc026",
   "metadata": {},
   "source": [
    "##### eye-->Creates an identify matrix\n",
    "###### . An identify matrix if you are not familier is used in linear algebra problem and is a two dimentional squared matrix mens number of rows are samwe as columns with diagonals of ones and everything is zero."
   ]
  },
  {
   "cell_type": "code",
   "execution_count": 3,
   "id": "f74181cf-12d4-4080-b924-a7a74fb55953",
   "metadata": {},
   "outputs": [
    {
     "data": {
      "text/plain": [
       "array([[1., 0., 0.],\n",
       "       [0., 1., 0.],\n",
       "       [0., 0., 1.]])"
      ]
     },
     "execution_count": 3,
     "metadata": {},
     "output_type": "execute_result"
    }
   ],
   "source": [
    "c = np.eye(3) #Return a 2-D array eith ones on the diagonal and zeros elsewhere.\n",
    "c"
   ]
  },
  {
   "cell_type": "code",
   "execution_count": 4,
   "id": "a4bb76da-a87f-4dd4-b050-6e4ef16bfc33",
   "metadata": {},
   "outputs": [
    {
     "data": {
      "text/plain": [
       "array([[1., 0.],\n",
       "       [0., 1.],\n",
       "       [0., 0.]])"
      ]
     },
     "execution_count": 4,
     "metadata": {},
     "output_type": "execute_result"
    }
   ],
   "source": [
    "d = np.eye(3,2) #3 is number of rows, 2 is numberof columns, index of diagonal start with 0\n",
    "d"
   ]
  },
  {
   "cell_type": "code",
   "execution_count": 5,
   "id": "cd710c4d-518e-4d16-ac3e-a8de3402abb9",
   "metadata": {},
   "outputs": [
    {
     "data": {
      "text/plain": [
       "array([[5, 0, 0, 0],\n",
       "       [0, 3, 0, 0],\n",
       "       [0, 0, 8, 0],\n",
       "       [0, 0, 0, 2]])"
      ]
     },
     "execution_count": 5,
     "metadata": {},
     "output_type": "execute_result"
    }
   ],
   "source": [
    "# Create array using diag function\n",
    "a = np.diag([5,3,8,2])\n",
    "a"
   ]
  },
  {
   "cell_type": "code",
   "execution_count": 6,
   "id": "c7538932-a94d-413c-899b-b20dd13789f8",
   "metadata": {},
   "outputs": [
    {
     "data": {
      "text/plain": [
       "array([5, 3, 8, 2])"
      ]
     },
     "execution_count": 6,
     "metadata": {},
     "output_type": "execute_result"
    }
   ],
   "source": [
    "np.diag(a)"
   ]
  },
  {
   "cell_type": "markdown",
   "id": "5a89bd72-acaa-47ce-b8b5-9b4291877f26",
   "metadata": {},
   "source": [
    "###### Random -->NumPy also has lots of ways to create random number arrays:"
   ]
  },
  {
   "cell_type": "code",
   "execution_count": 7,
   "id": "9bed5398-25e5-4f3e-a8b5-75be61c6e9f1",
   "metadata": {},
   "outputs": [
    {
     "name": "stdout",
     "output_type": "stream",
     "text": [
      "[36 36  4 39 95 44 75]\n"
     ]
    }
   ],
   "source": [
    "#randint -- return random integers from start (inclusive) to end (exclusive).\n",
    "random_array = np.random.randint(1,100,7)\n",
    "print(random_array)"
   ]
  },
  {
   "cell_type": "code",
   "execution_count": 8,
   "id": "d55655e1-1684-4c89-8ca1-6f9797efda0d",
   "metadata": {},
   "outputs": [
    {
     "data": {
      "text/plain": [
       "array([0.9916435 , 0.09983143, 0.0168997 , 0.2803746 , 0.90070175])"
      ]
     },
     "execution_count": 8,
     "metadata": {},
     "output_type": "execute_result"
    }
   ],
   "source": [
    "#rand -- create an array of the given shape and populate it with random sample s from a uniform distribution over [0,1].\n",
    "a = np.random.rand(5)\n",
    "a"
   ]
  },
  {
   "cell_type": "code",
   "execution_count": 9,
   "id": "55c74002-2154-43b9-bdaa-a3122ca62b49",
   "metadata": {},
   "outputs": [
    {
     "data": {
      "text/plain": [
       "array([-0.95513321, -0.10347411,  0.19837371, -0.83596215, -1.03567005,\n",
       "        0.93757139, -1.94058187,  0.10028406, -0.21880483, -0.30318555,\n",
       "       -0.33568526,  0.50261723,  0.12797172, -2.09906434,  0.25588121,\n",
       "       -3.48469575, -1.3339548 ,  0.43586241,  1.38811039,  2.70867199])"
      ]
     },
     "execution_count": 9,
     "metadata": {},
     "output_type": "execute_result"
    }
   ],
   "source": [
    "#randn -- return a sample (or sample) from the \"standard  normal\" distribution. **gausian**\n",
    "a = np.random.randn(20)\n",
    "a"
   ]
  },
  {
   "cell_type": "markdown",
   "id": "10840807-b564-4da6-b9aa-3fa65160d288",
   "metadata": {},
   "source": [
    "### Copy array"
   ]
  },
  {
   "cell_type": "code",
   "execution_count": 10,
   "id": "205abefe-db1e-4c2a-8022-7465e2dfde6a",
   "metadata": {},
   "outputs": [
    {
     "name": "stdout",
     "output_type": "stream",
     "text": [
      "[6 9 2]\n",
      "[6 9 2]\n"
     ]
    }
   ],
   "source": [
    "a = np.array([4,9,2])\n",
    "b = a\n",
    "b[0]=6\n",
    "print(a)\n",
    "print(b)"
   ]
  },
  {
   "cell_type": "markdown",
   "id": "ea7cbd48-c9ba-4bbd-b86a-f33694e77985",
   "metadata": {},
   "source": [
    "### Reshape array"
   ]
  },
  {
   "cell_type": "code",
   "execution_count": 13,
   "id": "19ba5bee-7c4e-46d5-8afb-8b9cfe1b97ad",
   "metadata": {},
   "outputs": [
    {
     "name": "stdout",
     "output_type": "stream",
     "text": [
      "[ 0  1  2  3  4  5  6  7  8  9 10 11 12 13 14 15]\n",
      "(16,)\n"
     ]
    }
   ],
   "source": [
    "arr = np.arange(16)\n",
    "print(arr)\n",
    "print(arr.shape)"
   ]
  },
  {
   "cell_type": "code",
   "execution_count": 14,
   "id": "a2817794-b8c8-44d0-92bc-c6d74d688e05",
   "metadata": {},
   "outputs": [
    {
     "data": {
      "text/plain": [
       "array([[ 0,  1,  2,  3],\n",
       "       [ 4,  5,  6,  7],\n",
       "       [ 8,  9, 10, 11],\n",
       "       [12, 13, 14, 15]])"
      ]
     },
     "execution_count": 14,
     "metadata": {},
     "output_type": "execute_result"
    }
   ],
   "source": [
    "# Notice the two sets of brackets\n",
    "a1 = arr.reshape(4,4)\n",
    "a1"
   ]
  },
  {
   "cell_type": "code",
   "execution_count": 15,
   "id": "7de862d0-d205-455b-828d-23f66c247da0",
   "metadata": {},
   "outputs": [
    {
     "name": "stdout",
     "output_type": "stream",
     "text": [
      "[[5 3 1]\n",
      " [7 9 2]]\n",
      "shape of a:(2, 3)\n"
     ]
    }
   ],
   "source": [
    "a = np.array([[5,3,1],[7,9,2]])\n",
    "print(a)\n",
    "print('shape of a:{}'.format(a.shape))"
   ]
  },
  {
   "cell_type": "code",
   "execution_count": 16,
   "id": "98ab304d-8d3c-466f-b7b8-6b4fdfab2c1b",
   "metadata": {},
   "outputs": [
    {
     "name": "stdout",
     "output_type": "stream",
     "text": [
      "[[5 3]\n",
      " [1 7]\n",
      " [9 2]]\n",
      "shape of b:(3, 2)\n"
     ]
    }
   ],
   "source": [
    "# reshaping \n",
    "b = a.reshape(3,2)\n",
    "print(b)\n",
    "print('shape of b:{}'.format(b.shape))"
   ]
  },
  {
   "cell_type": "markdown",
   "id": "41fa4256-a2d5-4da9-abdd-2b1f7322a41d",
   "metadata": {},
   "source": [
    "### Transpose array"
   ]
  },
  {
   "cell_type": "code",
   "execution_count": 17,
   "id": "c8a0fd44-8ff0-459a-9e57-daf479b50d60",
   "metadata": {},
   "outputs": [
    {
     "name": "stdout",
     "output_type": "stream",
     "text": [
      "shape:(2, 3)\n",
      "[[5 3 1]\n",
      " [7 9 2]]\n"
     ]
    }
   ],
   "source": [
    "a = np.array([[5,3,1],[7,9,2]])\n",
    "print('shape:{}'.format(a.shape))\n",
    "print(a)"
   ]
  },
  {
   "cell_type": "code",
   "execution_count": 19,
   "id": "b6f030e4-c832-4821-b802-20db77734866",
   "metadata": {},
   "outputs": [
    {
     "name": "stdout",
     "output_type": "stream",
     "text": [
      "[[5 7]\n",
      " [3 9]\n",
      " [1 2]]\n"
     ]
    }
   ],
   "source": [
    "b=a.T\n",
    "print(b)"
   ]
  },
  {
   "cell_type": "code",
   "execution_count": 20,
   "id": "1b136423-4bda-406d-8b61-c77a1e1feaae",
   "metadata": {},
   "outputs": [
    {
     "data": {
      "text/plain": [
       "array([5, 3, 1, 7, 9, 2])"
      ]
     },
     "execution_count": 20,
     "metadata": {},
     "output_type": "execute_result"
    }
   ],
   "source": [
    "a = np.array([[5,3,1],[7,9,2]])\n",
    "a.ravel() #Return a contigious flattened array.A 1-D array, containing the element of the input, is returned. A copy is made only if needed."
   ]
  },
  {
   "cell_type": "code",
   "execution_count": 22,
   "id": "003a609a-21db-45ad-a5c1-8c96d5817a04",
   "metadata": {},
   "outputs": [
    {
     "data": {
      "text/plain": [
       "array([5, 7, 3, 9, 1, 2])"
      ]
     },
     "execution_count": 22,
     "metadata": {},
     "output_type": "execute_result"
    }
   ],
   "source": [
    "b.ravel()"
   ]
  },
  {
   "cell_type": "markdown",
   "id": "4e65aedf-2673-4ac1-913f-d4ef601623b2",
   "metadata": {},
   "source": [
    "### Sorting"
   ]
  },
  {
   "cell_type": "code",
   "execution_count": 23,
   "id": "884dfdfa-744f-4568-a270-4d46548630dd",
   "metadata": {},
   "outputs": [
    {
     "data": {
      "text/plain": [
       "array([[1, 2, 4],\n",
       "       [3, 7, 9]])"
      ]
     },
     "execution_count": 23,
     "metadata": {},
     "output_type": "execute_result"
    }
   ],
   "source": [
    "# Sorting along an axis:\n",
    "# axis=1 --> row and axis=0 --> column\n",
    "a = np.array([[4,2,1],[9,3,7]])\n",
    "b = np.sort(a, axis=1)\n",
    "b"
   ]
  },
  {
   "cell_type": "markdown",
   "id": "d01ca433-7cf6-4d0f-81a9-3ab0a08bce5a",
   "metadata": {},
   "source": [
    "### Add/Remove operation on a numpy array"
   ]
  },
  {
   "cell_type": "code",
   "execution_count": 29,
   "id": "bc9d0c3d-5d11-4169-92bb-139c0ab3f403",
   "metadata": {},
   "outputs": [
    {
     "name": "stdout",
     "output_type": "stream",
     "text": [
      "NumPy array after addition: [5 7 2 6 8 1]\n"
     ]
    }
   ],
   "source": [
    "a = np.array([5,7,2])\n",
    "a = np.append(a,[6,8,1])\n",
    "print('NumPy array after addition:',a)"
   ]
  },
  {
   "cell_type": "code",
   "execution_count": 30,
   "id": "c6c9beab-9b14-4cce-be5c-ecd49944b7ed",
   "metadata": {},
   "outputs": [
    {
     "name": "stdout",
     "output_type": "stream",
     "text": [
      "NumPy array after deletion of one element: [5 7 6 8 1]\n"
     ]
    }
   ],
   "source": [
    "a = np.delete(a,2)\n",
    "print('NumPy array after deletion of one element:',a)"
   ]
  },
  {
   "cell_type": "markdown",
   "id": "dead301d-b3ac-4ab4-831f-88f2a0bd8a0a",
   "metadata": {},
   "source": [
    "### Indexing"
   ]
  },
  {
   "cell_type": "markdown",
   "id": "84ae6572-b172-4f20-8df8-b6de695fdd7a",
   "metadata": {},
   "source": [
    "###### The items of an array can be accessed and assigned to the same way as other Python sequencees(e.g lists):"
   ]
  },
  {
   "cell_type": "code",
   "execution_count": 31,
   "id": "093d6a27-3ef0-4555-b0a8-5b7f779430df",
   "metadata": {},
   "outputs": [
    {
     "name": "stdout",
     "output_type": "stream",
     "text": [
      "[2 3 4 5 6 7 8]\n",
      "6\n"
     ]
    }
   ],
   "source": [
    "a = np.arange(2,9)\n",
    "print(a)\n",
    "print(a[4])"
   ]
  },
  {
   "cell_type": "code",
   "execution_count": 35,
   "id": "fd42594a-7eaa-4f54-b3e0-5eabee76c510",
   "metadata": {},
   "outputs": [
    {
     "name": "stdout",
     "output_type": "stream",
     "text": [
      "[[5 0 0]\n",
      " [0 8 0]\n",
      " [0 0 2]]\n",
      "0\n"
     ]
    }
   ],
   "source": [
    "# For multidimentional arrays, indexes are tuples of integers:\n",
    "a = np.diag([5,8,2])\n",
    "print(a)\n",
    "print(a[2,1])"
   ]
  },
  {
   "cell_type": "code",
   "execution_count": 36,
   "id": "09f14d99-97ca-436d-a52d-690f2982dae6",
   "metadata": {},
   "outputs": [
    {
     "data": {
      "text/plain": [
       "array([[5, 0, 0],\n",
       "       [0, 8, 0],\n",
       "       [0, 4, 2]])"
      ]
     },
     "execution_count": 36,
     "metadata": {},
     "output_type": "execute_result"
    }
   ],
   "source": [
    "a[2,1] = 4 # Assigning value\n",
    "a"
   ]
  },
  {
   "cell_type": "markdown",
   "id": "72d36ced-1b14-48c3-9338-53c5f6791b2e",
   "metadata": {},
   "source": [
    "### Slicing"
   ]
  },
  {
   "cell_type": "code",
   "execution_count": 38,
   "id": "ed086ff7-9030-4e77-b2b6-71849415c099",
   "metadata": {},
   "outputs": [
    {
     "data": {
      "text/plain": [
       "array([ 5,  6,  7,  8,  9, 10, 11, 12, 13, 14, 15, 16, 17, 18, 19])"
      ]
     },
     "execution_count": 38,
     "metadata": {},
     "output_type": "execute_result"
    }
   ],
   "source": [
    "a = np.arange(5,20)\n",
    "a"
   ]
  },
  {
   "cell_type": "code",
   "execution_count": 39,
   "id": "46639c41-36e8-4148-9ea7-9f52ffe12af3",
   "metadata": {},
   "outputs": [
    {
     "data": {
      "text/plain": [
       "array([ 7, 10, 13, 16])"
      ]
     },
     "execution_count": 39,
     "metadata": {},
     "output_type": "execute_result"
    }
   ],
   "source": [
    "a[2:12:3] # [startindex: endindex(exclusive) : step]"
   ]
  },
  {
   "cell_type": "code",
   "execution_count": 40,
   "id": "3ac3e49a-9024-4154-914f-96f212127a88",
   "metadata": {},
   "outputs": [
    {
     "data": {
      "text/plain": [
       "array([5, 6, 7, 8, 9])"
      ]
     },
     "execution_count": 40,
     "metadata": {},
     "output_type": "execute_result"
    }
   ],
   "source": [
    "# We can also can combine assignment and slicing:\n",
    "a = np.arange(10)\n",
    "a[5:]"
   ]
  },
  {
   "cell_type": "code",
   "execution_count": 42,
   "id": "ff014d19-cfed-4858-8269-6bce622cc2c3",
   "metadata": {},
   "outputs": [
    {
     "data": {
      "text/plain": [
       "array([0, 1, 2, 3, 4, 7, 7, 7, 7, 7])"
      ]
     },
     "execution_count": 42,
     "metadata": {},
     "output_type": "execute_result"
    }
   ],
   "source": [
    "a[5:] = 7\n",
    "a"
   ]
  },
  {
   "cell_type": "code",
   "execution_count": 43,
   "id": "ae9cb99d-a299-4657-b63d-f694a74cedbc",
   "metadata": {},
   "outputs": [
    {
     "data": {
      "text/plain": [
       "array([0, 1, 2, 3, 4])"
      ]
     },
     "execution_count": 43,
     "metadata": {},
     "output_type": "execute_result"
    }
   ],
   "source": [
    "b= np.arange(5)\n",
    "b"
   ]
  },
  {
   "cell_type": "code",
   "execution_count": 44,
   "id": "52885962-0cb1-4862-b450-fe2cf47ccc5c",
   "metadata": {},
   "outputs": [
    {
     "data": {
      "text/plain": [
       "array([4, 3, 2, 1, 0])"
      ]
     },
     "execution_count": 44,
     "metadata": {},
     "output_type": "execute_result"
    }
   ],
   "source": [
    "b[::-1]"
   ]
  },
  {
   "cell_type": "code",
   "execution_count": 45,
   "id": "9293cbc7-0edb-4fee-bb17-5cb3b28f2458",
   "metadata": {},
   "outputs": [
    {
     "data": {
      "text/plain": [
       "array([0, 1, 2, 3, 4, 4, 3, 2, 1, 0])"
      ]
     },
     "execution_count": 45,
     "metadata": {},
     "output_type": "execute_result"
    }
   ],
   "source": [
    "a[5:] = b [::-1]\n",
    "a"
   ]
  },
  {
   "cell_type": "markdown",
   "id": "af2f154f-c4a3-42fe-a48e-61df760186e2",
   "metadata": {},
   "source": [
    "#### Fancy indexing\n",
    "###### Numpy arrays can be indexed with slices,but also with boolean or intrger arrays (Masks). this method is called fancy indexing.it creates copies not views."
   ]
  },
  {
   "cell_type": "code",
   "execution_count": 49,
   "id": "6dee89eb-d04d-411a-a064-f5093a4d25ec",
   "metadata": {},
   "outputs": [
    {
     "data": {
      "text/plain": [
       "array([14, 13,  0, 11, 11])"
      ]
     },
     "execution_count": 49,
     "metadata": {},
     "output_type": "execute_result"
    }
   ],
   "source": [
    "a = np.random.randint(0,20,5)\n",
    "a"
   ]
  },
  {
   "cell_type": "code",
   "execution_count": 50,
   "id": "faba9769-7b52-445f-8329-4bf3c97b56d7",
   "metadata": {},
   "outputs": [
    {
     "data": {
      "text/plain": [
       "array([14,  0])"
      ]
     },
     "execution_count": 50,
     "metadata": {},
     "output_type": "execute_result"
    }
   ],
   "source": [
    "a[a%2==0]"
   ]
  },
  {
   "cell_type": "code",
   "execution_count": 51,
   "id": "8ae211d1-103d-48c1-97e7-e032b81dd495",
   "metadata": {},
   "outputs": [
    {
     "data": {
      "text/plain": [
       "array([-1, 13, -1, 11, 11])"
      ]
     },
     "execution_count": 51,
     "metadata": {},
     "output_type": "execute_result"
    }
   ],
   "source": [
    "a[a%2==0] = -1\n",
    "a"
   ]
  },
  {
   "cell_type": "markdown",
   "id": "695d779e-b3c5-4732-8f7c-23eed505851a",
   "metadata": {},
   "source": [
    "##### Indexing with an array of integers"
   ]
  },
  {
   "cell_type": "markdown",
   "id": "e3ccfba5-2fe8-478c-92a9-65630f15e5ec",
   "metadata": {},
   "source": [
    "##### This is the matrix multiplication"
   ]
  },
  {
   "cell_type": "code",
   "execution_count": 52,
   "id": "787e119b-10ed-4472-a758-8dfbb783cdae",
   "metadata": {},
   "outputs": [
    {
     "data": {
      "text/plain": [
       "array([ 0, 10, 20, 30, 40, 50, 60, 70, 80, 90])"
      ]
     },
     "execution_count": 52,
     "metadata": {},
     "output_type": "execute_result"
    }
   ],
   "source": [
    "a = np.arange(0,100,10)\n",
    "a"
   ]
  },
  {
   "cell_type": "code",
   "execution_count": 53,
   "id": "0a7b46d2-106a-4823-92d5-8049f99ab1b1",
   "metadata": {},
   "outputs": [
    {
     "data": {
      "text/plain": [
       "array([20, 50, 10, 40, 60])"
      ]
     },
     "execution_count": 53,
     "metadata": {},
     "output_type": "execute_result"
    }
   ],
   "source": [
    "# Indexing can be done with an array of integers, where the same index is repeated several time:\n",
    "a[[2,5,1,4,6]]"
   ]
  },
  {
   "cell_type": "code",
   "execution_count": 55,
   "id": "bfdc2778-5d0f-4a5b-8eec-2547e2725ea1",
   "metadata": {},
   "outputs": [
    {
     "data": {
      "text/plain": [
       "array([  0,  10, -22,  30,  40,  50, -22,  70,  80,  90])"
      ]
     },
     "execution_count": 55,
     "metadata": {},
     "output_type": "execute_result"
    }
   ],
   "source": [
    "# New values can be assigned\n",
    "a[[6,2]]=-22\n",
    "a"
   ]
  },
  {
   "cell_type": "markdown",
   "id": "74a82440-c9bb-475d-b7db-fa67184ac022",
   "metadata": {},
   "source": [
    "### Operations"
   ]
  },
  {
   "cell_type": "markdown",
   "id": "87b10e5e-f276-4279-88f0-d5f724b7fe61",
   "metadata": {},
   "source": [
    "###### 1.Basic Operations\n",
    "###### with scalars"
   ]
  },
  {
   "cell_type": "code",
   "execution_count": 56,
   "id": "3af37a07-80cf-492d-b79b-ec22ecc4bd5f",
   "metadata": {},
   "outputs": [
    {
     "name": "stdout",
     "output_type": "stream",
     "text": [
      "[4 6 9 2]\n",
      "[ 5  7 10  3]\n"
     ]
    }
   ],
   "source": [
    "a = np.array([4,6,9,2]) # create an array\n",
    "print(a)\n",
    "print(a+1)"
   ]
  },
  {
   "cell_type": "code",
   "execution_count": 57,
   "id": "29074354-7a19-4529-b2f1-5a77b83dc363",
   "metadata": {},
   "outputs": [
    {
     "data": {
      "text/plain": [
       "array([16, 36, 81,  4])"
      ]
     },
     "execution_count": 57,
     "metadata": {},
     "output_type": "execute_result"
    }
   ],
   "source": [
    "a ** 2"
   ]
  },
  {
   "cell_type": "markdown",
   "id": "9640c951-1ca5-4331-b76c-1a1798ac2295",
   "metadata": {},
   "source": [
    "###### All arithmetic operates elementwise"
   ]
  },
  {
   "cell_type": "code",
   "execution_count": 59,
   "id": "a1a46273-f969-4dc2-9508-7f9c1cbfb10d",
   "metadata": {},
   "outputs": [
    {
     "data": {
      "text/plain": [
       "array([2., 2., 2., 2.])"
      ]
     },
     "execution_count": 59,
     "metadata": {},
     "output_type": "execute_result"
    }
   ],
   "source": [
    "b = np.ones(4)+1\n",
    "b"
   ]
  },
  {
   "cell_type": "code",
   "execution_count": 60,
   "id": "ff73d424-4501-4b3d-9c6f-99c3dd00759f",
   "metadata": {},
   "outputs": [
    {
     "data": {
      "text/plain": [
       "array([2., 4., 7., 0.])"
      ]
     },
     "execution_count": 60,
     "metadata": {},
     "output_type": "execute_result"
    }
   ],
   "source": [
    "a - b"
   ]
  },
  {
   "cell_type": "code",
   "execution_count": 61,
   "id": "2e18ab1d-bd23-4c43-9933-ed4e2f350463",
   "metadata": {},
   "outputs": [
    {
     "data": {
      "text/plain": [
       "array([ 8., 12., 18.,  4.])"
      ]
     },
     "execution_count": 61,
     "metadata": {},
     "output_type": "execute_result"
    }
   ],
   "source": [
    "a * b"
   ]
  },
  {
   "cell_type": "code",
   "execution_count": 62,
   "id": "15e98290-c8f2-4075-8802-f93fdc634fa3",
   "metadata": {},
   "outputs": [
    {
     "name": "stdout",
     "output_type": "stream",
     "text": [
      "sum of a and b:\n",
      " [[ 6  5]\n",
      " [ 8  9]\n",
      " [12  4]]\n"
     ]
    }
   ],
   "source": [
    "a = np.array([[3,2],[5,6],[9,1]])\n",
    "b = np.array([[3,3],[3,3],[3,3]])\n",
    "\n",
    "# adding a and b\n",
    "print('sum of a and b:\\n',a+b)"
   ]
  },
  {
   "cell_type": "code",
   "execution_count": 63,
   "id": "73a9755d-1c2e-48e1-afe4-5ea7e462155c",
   "metadata": {},
   "outputs": [
    {
     "name": "stdout",
     "output_type": "stream",
     "text": [
      "product of and b :\n",
      " [[ 9  6]\n",
      " [15 18]\n",
      " [27  3]]\n"
     ]
    }
   ],
   "source": [
    "# multiply a and b - elementwise multiplication\n",
    "print('product of and b :\\n',a * b )"
   ]
  },
  {
   "cell_type": "code",
   "execution_count": 64,
   "id": "85fdafa9-72fe-429c-ab4b-629b38136038",
   "metadata": {},
   "outputs": [
    {
     "name": "stdout",
     "output_type": "stream",
     "text": [
      "[[16  0  0  0]\n",
      " [ 0  4  0  0]\n",
      " [ 0  0 49  0]\n",
      " [ 0  0  0 16]]\n"
     ]
    }
   ],
   "source": [
    "# array multiplication\n",
    "c = np.diag([4,2,7,4])\n",
    "print(c * c)"
   ]
  },
  {
   "cell_type": "code",
   "execution_count": 65,
   "id": "834df87e-38e5-4b1d-abc3-123c5910b392",
   "metadata": {},
   "outputs": [
    {
     "name": "stdout",
     "output_type": "stream",
     "text": [
      "matrix multipication:\n",
      " [[21 30 21]\n",
      " [26 36 26]\n",
      " [31 42 31]]\n"
     ]
    }
   ],
   "source": [
    "a=np.array([[1,2,1],[3,4,3],[5,6,5]])\n",
    "b=np.array([[4,4,1],[4,4,2],[4,4,3]])\n",
    "print('matrix multipication:\\n',np.matmul(b,a))"
   ]
  },
  {
   "cell_type": "code",
   "execution_count": 66,
   "id": "54ca0898-2d8f-4b87-9e33-49b540f6dae5",
   "metadata": {},
   "outputs": [
    {
     "name": "stdout",
     "output_type": "stream",
     "text": [
      "matrix multipication:\n",
      " [[16 16  8]\n",
      " [40 40 20]\n",
      " [64 64 32]]\n"
     ]
    }
   ],
   "source": [
    "a=np.array([[1,2,1],[3,4,3],[5,6,5]])\n",
    "b=np.array([[4,4,1],[4,4,2],[4,4,3]])\n",
    "print('matrix multipication:\\n',np.matmul(a,b))"
   ]
  },
  {
   "cell_type": "code",
   "execution_count": 27,
   "id": "dc639703-ceb7-4b8a-9458-894edc5f4877",
   "metadata": {},
   "outputs": [
    {
     "name": "stdout",
     "output_type": "stream",
     "text": [
      "matrix multipication:\n",
      " [[18 15]\n",
      " [48 41]\n",
      " [78 67]]\n"
     ]
    }
   ],
   "source": [
    "a=np.array([[1,2,1],[3,4,3],[5,6,5]])\n",
    "b=np.array([[4,6],[3,2],[8,5]])\n",
    "print('matrix multipication:\\n',np.matmul(a,b))"
   ]
  },
  {
   "cell_type": "markdown",
   "id": "04396133-9687-4a5c-a086-b5d9340d8cc7",
   "metadata": {},
   "source": [
    "##### This is the array multiplication"
   ]
  },
  {
   "cell_type": "code",
   "execution_count": 6,
   "id": "82249ea1-4df5-4988-a8b4-5212fd569621",
   "metadata": {},
   "outputs": [
    {
     "name": "stdout",
     "output_type": "stream",
     "text": [
      "[[ 6  1]\n",
      " [18  8]\n",
      " [24  6]]\n"
     ]
    }
   ],
   "source": [
    "A=np.array([[2,1],[3,4],[6,2]])\n",
    "B=np.array([[3,1],[6,2],[4,3]])\n",
    "print(A * B)"
   ]
  },
  {
   "cell_type": "code",
   "execution_count": 7,
   "id": "68eceac4-3092-40aa-b9e3-f41f1541d3e6",
   "metadata": {},
   "outputs": [
    {
     "name": "stdout",
     "output_type": "stream",
     "text": [
      "[[ 6  1]\n",
      " [18  8]\n",
      " [24  6]]\n"
     ]
    }
   ],
   "source": [
    "A=np.array([[2,1],[3,4],[6,2]])\n",
    "B=np.array([[3,1],[6,2],[4,3]])\n",
    "print(B * A)"
   ]
  },
  {
   "cell_type": "markdown",
   "id": "8225ebbe-02c9-4c3f-a47d-01efbdda5ea7",
   "metadata": {},
   "source": [
    "##### comparision"
   ]
  },
  {
   "cell_type": "code",
   "execution_count": 67,
   "id": "80dc9f05-2a92-4459-bdcb-29aa4a483229",
   "metadata": {},
   "outputs": [
    {
     "data": {
      "text/plain": [
       "array([False, False, False,  True])"
      ]
     },
     "execution_count": 67,
     "metadata": {},
     "output_type": "execute_result"
    }
   ],
   "source": [
    "a = np.array([4,2,8,9])\n",
    "b = np.array([2,6,3,9])\n",
    "a == b"
   ]
  },
  {
   "cell_type": "code",
   "execution_count": 68,
   "id": "43bc4c71-5979-43bb-8b5b-2176148b9735",
   "metadata": {},
   "outputs": [
    {
     "data": {
      "text/plain": [
       "array([ True, False,  True, False])"
      ]
     },
     "execution_count": 68,
     "metadata": {},
     "output_type": "execute_result"
    }
   ],
   "source": [
    "a > b"
   ]
  },
  {
   "cell_type": "code",
   "execution_count": 69,
   "id": "6fcd7dd5-318e-4a9d-a929-59395ebf53b1",
   "metadata": {},
   "outputs": [],
   "source": [
    "# array-wise comparisions\n",
    "a = np.array([3,6,2,1])\n",
    "b = np.array([8,2,9,6])\n",
    "c = np.array([3,6,2,1])"
   ]
  },
  {
   "cell_type": "code",
   "execution_count": 70,
   "id": "7e7c2241-b772-4f25-9dc3-d334172830cd",
   "metadata": {},
   "outputs": [
    {
     "data": {
      "text/plain": [
       "False"
      ]
     },
     "execution_count": 70,
     "metadata": {},
     "output_type": "execute_result"
    }
   ],
   "source": [
    "np.array_equal(a,b)"
   ]
  },
  {
   "cell_type": "code",
   "execution_count": 71,
   "id": "744b049e-57cd-4664-926e-eeeb1bdbf682",
   "metadata": {},
   "outputs": [
    {
     "data": {
      "text/plain": [
       "True"
      ]
     },
     "execution_count": 71,
     "metadata": {},
     "output_type": "execute_result"
    }
   ],
   "source": [
    "np.array_equal(a,c)"
   ]
  },
  {
   "cell_type": "markdown",
   "id": "4856ab51-e8f0-45c8-bdc4-1e77fda1a47b",
   "metadata": {},
   "source": [
    "###### Logical Operations"
   ]
  },
  {
   "cell_type": "code",
   "execution_count": 8,
   "id": "0d58542c-54eb-4309-a9eb-37478584c3ca",
   "metadata": {},
   "outputs": [
    {
     "data": {
      "text/plain": [
       "array([ True,  True,  True, False])"
      ]
     },
     "execution_count": 8,
     "metadata": {},
     "output_type": "execute_result"
    }
   ],
   "source": [
    "x=np.array([1,1,0,0], dtype=bool)\n",
    "y=np.array([1,0,1,0], dtype=bool)\n",
    "\n",
    "np.logical_or(x,y)"
   ]
  },
  {
   "cell_type": "code",
   "execution_count": 9,
   "id": "3ea34546-f978-4883-ac06-9ce54c1f9b25",
   "metadata": {},
   "outputs": [
    {
     "data": {
      "text/plain": [
       "array([ True, False, False, False])"
      ]
     },
     "execution_count": 9,
     "metadata": {},
     "output_type": "execute_result"
    }
   ],
   "source": [
    "np.logical_and(x,y)"
   ]
  },
  {
   "cell_type": "code",
   "execution_count": 11,
   "id": "a6fd4f41-e99a-4514-8866-b8cd5b47d50a",
   "metadata": {},
   "outputs": [
    {
     "data": {
      "text/plain": [
       "array([ True,  True,  True, False])"
      ]
     },
     "execution_count": 11,
     "metadata": {},
     "output_type": "execute_result"
    }
   ],
   "source": [
    "x=np.array([1,1,0,0])\n",
    "y=np.array([1,0,1,0])\n",
    "\n",
    "np.logical_or(x,y)"
   ]
  },
  {
   "cell_type": "code",
   "execution_count": 12,
   "id": "aa06fae0-39eb-4aa4-a414-1f1d0ad25b90",
   "metadata": {},
   "outputs": [
    {
     "data": {
      "text/plain": [
       "array([ True, False, False, False])"
      ]
     },
     "execution_count": 12,
     "metadata": {},
     "output_type": "execute_result"
    }
   ],
   "source": [
    "np.logical_and(x,y)"
   ]
  },
  {
   "cell_type": "code",
   "execution_count": 18,
   "id": "3366ee6b-a88c-419c-87ad-817a94541786",
   "metadata": {},
   "outputs": [
    {
     "data": {
      "text/plain": [
       "array([ 9, 10, 11])"
      ]
     },
     "execution_count": 18,
     "metadata": {},
     "output_type": "execute_result"
    }
   ],
   "source": [
    "x=np.array([2.3,1.4,6.2], dtype=int)\n",
    "y=np.array([7.2,9.3,5.1], dtype=int)\n",
    "x+y\n",
    "# np.logical_or(x,y)"
   ]
  },
  {
   "cell_type": "code",
   "execution_count": 16,
   "id": "607942ac-8db6-4b99-840e-4c5f4472c102",
   "metadata": {},
   "outputs": [
    {
     "data": {
      "text/plain": [
       "array([2, 1, 1, 0])"
      ]
     },
     "execution_count": 16,
     "metadata": {},
     "output_type": "execute_result"
    }
   ],
   "source": [
    "x+y"
   ]
  },
  {
   "cell_type": "code",
   "execution_count": 22,
   "id": "5ea10bfc-0ede-4fdb-a426-27b3e25cd26a",
   "metadata": {},
   "outputs": [
    {
     "data": {
      "text/plain": [
       "array([2., 1., 1., 0.])"
      ]
     },
     "execution_count": 22,
     "metadata": {},
     "output_type": "execute_result"
    }
   ],
   "source": [
    "x=np.array([1,1,0,0], dtype=float)\n",
    "y=np.array([1,0,1,0], dtype=float)\n",
    "x+y\n",
    "# np.logical_or(x,y)"
   ]
  },
  {
   "cell_type": "markdown",
   "id": "025bc642-c6cc-499c-b365-92470d1fd6d9",
   "metadata": {},
   "source": [
    "##### Transcendental function"
   ]
  },
  {
   "cell_type": "markdown",
   "id": "82ca4b88-a70d-4679-8958-6533aeb0c6a4",
   "metadata": {},
   "source": [
    "##### Basic Reduction"
   ]
  },
  {
   "cell_type": "code",
   "execution_count": 33,
   "id": "245431f0-9fa3-4e6b-95fe-efdceb91541a",
   "metadata": {},
   "outputs": [
    {
     "data": {
      "text/plain": [
       "10"
      ]
     },
     "execution_count": 33,
     "metadata": {},
     "output_type": "execute_result"
    }
   ],
   "source": [
    "i=np.array([[1,2],[3,4,]])\n",
    "i.sum()"
   ]
  },
  {
   "cell_type": "markdown",
   "id": "8a3d5b52-8e04-4fd4-8c76-df6552982955",
   "metadata": {},
   "source": [
    "###### Transcendental Functions:"
   ]
  },
  {
   "cell_type": "code",
   "execution_count": 72,
   "id": "fbaa9305-e348-4d51-952f-f8c24f7df5b7",
   "metadata": {},
   "outputs": [
    {
     "data": {
      "text/plain": [
       "array([ 0.        ,  0.84147098,  0.90929743,  0.14112001, -0.7568025 ])"
      ]
     },
     "execution_count": 72,
     "metadata": {},
     "output_type": "execute_result"
    }
   ],
   "source": [
    "a = np.arange(5)\n",
    "np.sin(a)"
   ]
  },
  {
   "cell_type": "code",
   "execution_count": 73,
   "id": "5f53ebe1-7bd5-4b4e-9d4a-acb080e60981",
   "metadata": {},
   "outputs": [
    {
     "name": "stderr",
     "output_type": "stream",
     "text": [
      "C:\\Users\\RamaB\\AppData\\Local\\Temp\\ipykernel_7772\\176755284.py:1: RuntimeWarning: divide by zero encountered in log\n",
      "  np.log(a)\n"
     ]
    },
    {
     "data": {
      "text/plain": [
       "array([      -inf, 0.        , 0.69314718, 1.09861229, 1.38629436])"
      ]
     },
     "execution_count": 73,
     "metadata": {},
     "output_type": "execute_result"
    }
   ],
   "source": [
    "np.log(a)"
   ]
  },
  {
   "cell_type": "code",
   "execution_count": 74,
   "id": "f64d277a-0e34-4f89-883b-6c8ad41303ec",
   "metadata": {},
   "outputs": [
    {
     "data": {
      "text/plain": [
       "array([ 1.        ,  2.71828183,  7.3890561 , 20.08553692, 54.59815003])"
      ]
     },
     "execution_count": 74,
     "metadata": {},
     "output_type": "execute_result"
    }
   ],
   "source": [
    "np.exp(a)"
   ]
  },
  {
   "cell_type": "markdown",
   "id": "8d3de465-6333-48cc-8a1e-49b5e3a64a61",
   "metadata": {},
   "source": [
    "###### Shape Mismatch"
   ]
  },
  {
   "cell_type": "code",
   "execution_count": 75,
   "id": "d984c7f9-5c70-48f0-b73a-a2492c752f55",
   "metadata": {},
   "outputs": [
    {
     "ename": "ValueError",
     "evalue": "operands could not be broadcast together with shapes (4,) (2,) ",
     "output_type": "error",
     "traceback": [
      "\u001b[1;31m---------------------------------------------------------------------------\u001b[0m",
      "\u001b[1;31mValueError\u001b[0m                                Traceback (most recent call last)",
      "Cell \u001b[1;32mIn[75], line 2\u001b[0m\n\u001b[0;32m      1\u001b[0m a \u001b[38;5;241m=\u001b[39m np\u001b[38;5;241m.\u001b[39marange(\u001b[38;5;241m4\u001b[39m)\n\u001b[1;32m----> 2\u001b[0m a\u001b[38;5;241m+\u001b[39mnp\u001b[38;5;241m.\u001b[39marray([\u001b[38;5;241m1\u001b[39m,\u001b[38;5;241m2\u001b[39m])\n",
      "\u001b[1;31mValueError\u001b[0m: operands could not be broadcast together with shapes (4,) (2,) "
     ]
    }
   ],
   "source": [
    "a = np.arange(4)\n",
    "a+np.array([1,2])"
   ]
  },
  {
   "cell_type": "markdown",
   "id": "cc6186c0-7d6b-4a0e-ab33-e27ca79481f6",
   "metadata": {},
   "source": [
    "### Basic Reductions"
   ]
  },
  {
   "cell_type": "markdown",
   "id": "f4307507-6778-46e4-a726-6868ea712179",
   "metadata": {},
   "source": [
    "###### Computing Sums"
   ]
  },
  {
   "cell_type": "code",
   "execution_count": 76,
   "id": "faf81dc2-f1f8-4e71-bcf1-c7f131a2331d",
   "metadata": {},
   "outputs": [
    {
     "data": {
      "text/plain": [
       "19"
      ]
     },
     "execution_count": 76,
     "metadata": {},
     "output_type": "execute_result"
    }
   ],
   "source": [
    "x = np.array([3,6,9,1])\n",
    "np.sum(x)"
   ]
  },
  {
   "cell_type": "code",
   "execution_count": 77,
   "id": "b2210cea-75f1-4b20-b42f-0ff9d6552dd0",
   "metadata": {},
   "outputs": [
    {
     "data": {
      "text/plain": [
       "array([[3, 3],\n",
       "       [5, 5]])"
      ]
     },
     "execution_count": 77,
     "metadata": {},
     "output_type": "execute_result"
    }
   ],
   "source": [
    "# sum by rows and by columns\n",
    "x = np.array([[3,3],[5,5]])\n",
    "x"
   ]
  },
  {
   "cell_type": "code",
   "execution_count": 78,
   "id": "34e03f02-9828-4e6b-8aae-3309319d6884",
   "metadata": {},
   "outputs": [
    {
     "data": {
      "text/plain": [
       "array([8, 8])"
      ]
     },
     "execution_count": 78,
     "metadata": {},
     "output_type": "execute_result"
    }
   ],
   "source": [
    "#columns first dimension\n",
    "x.sum(axis=0) "
   ]
  },
  {
   "cell_type": "code",
   "execution_count": 79,
   "id": "ba81b09d-0950-45f0-b760-abe177c3e3e5",
   "metadata": {},
   "outputs": [
    {
     "data": {
      "text/plain": [
       "array([ 6, 10])"
      ]
     },
     "execution_count": 79,
     "metadata": {},
     "output_type": "execute_result"
    }
   ],
   "source": [
    "#rows second dimension\n",
    "x.sum(axis=1) "
   ]
  },
  {
   "cell_type": "markdown",
   "id": "bb844081-6c08-49b5-a37d-02af74c8bf0a",
   "metadata": {},
   "source": [
    "###### Other Reductions"
   ]
  },
  {
   "cell_type": "code",
   "execution_count": 80,
   "id": "5a3dc4b9-1302-41b1-b580-b30ea97c8aa4",
   "metadata": {},
   "outputs": [
    {
     "data": {
      "text/plain": [
       "2"
      ]
     },
     "execution_count": 80,
     "metadata": {},
     "output_type": "execute_result"
    }
   ],
   "source": [
    "x = np.array([3,6,2])\n",
    "x.min()"
   ]
  },
  {
   "cell_type": "code",
   "execution_count": 81,
   "id": "a1f8af1a-7c07-4248-88b6-d7707ee29446",
   "metadata": {},
   "outputs": [
    {
     "data": {
      "text/plain": [
       "6"
      ]
     },
     "execution_count": 81,
     "metadata": {},
     "output_type": "execute_result"
    }
   ],
   "source": [
    "x.max()"
   ]
  },
  {
   "cell_type": "code",
   "execution_count": 82,
   "id": "37846746-acee-4ee0-b99d-c7239f58fbd1",
   "metadata": {},
   "outputs": [
    {
     "data": {
      "text/plain": [
       "2"
      ]
     },
     "execution_count": 82,
     "metadata": {},
     "output_type": "execute_result"
    }
   ],
   "source": [
    "# Index of minimum element\n",
    "x.argmin()"
   ]
  },
  {
   "cell_type": "code",
   "execution_count": 83,
   "id": "e2f52557-6362-4c52-b4db-c6c230ada0bb",
   "metadata": {},
   "outputs": [
    {
     "data": {
      "text/plain": [
       "1"
      ]
     },
     "execution_count": 83,
     "metadata": {},
     "output_type": "execute_result"
    }
   ],
   "source": [
    "# Index of maximum ele,ent\n",
    "x.argmax()"
   ]
  },
  {
   "cell_type": "markdown",
   "id": "55e99fb4-2516-4c10-bca7-bc0b993d512d",
   "metadata": {},
   "source": [
    "#### Statistics"
   ]
  },
  {
   "cell_type": "code",
   "execution_count": 84,
   "id": "9454b0f3-e961-4478-b2ef-562f99678d6e",
   "metadata": {},
   "outputs": [
    {
     "name": "stdout",
     "output_type": "stream",
     "text": [
      "array is:- [ 0  1  2  3  4  5  6  7  8  9 10 11 12 13 14]\n",
      "min element is:- 0\n",
      "max element is:- 14\n",
      "Sum of elements in array is:- 105\n",
      "mean of elements in array is :- 7.0\n",
      "median of elements inarray is :- 7.0\n",
      "Standard deviation of elements in array is :- 4.320493798938574\n"
     ]
    }
   ],
   "source": [
    "normal_array = np.arange(0,15,1)\n",
    "print('array is:-',format(normal_array))\n",
    "\n",
    "### Min\n",
    "print('min element is:-',np.min(normal_array))\n",
    "\n",
    "### Max\n",
    "print('max element is:-',np.max(normal_array))\n",
    "\n",
    "### Sum\n",
    "print('Sum of elements in array is:-',np.sum(normal_array))\n",
    "\n",
    "### Mean\n",
    "print('mean of elements in array is :-',np.mean(normal_array))\n",
    "\n",
    "### Median\n",
    "print('median of elements inarray is :-',np.median(normal_array))\n",
    "\n",
    "### Sd\n",
    "print('Standard deviation of elements in array is :-',np.std(normal_array))"
   ]
  },
  {
   "cell_type": "code",
   "execution_count": null,
   "id": "05743cef-fcd6-4cfd-9141-df98c310d1d9",
   "metadata": {},
   "outputs": [],
   "source": []
  }
 ],
 "metadata": {
  "kernelspec": {
   "display_name": "Python 3 (ipykernel)",
   "language": "python",
   "name": "python3"
  },
  "language_info": {
   "codemirror_mode": {
    "name": "ipython",
    "version": 3
   },
   "file_extension": ".py",
   "mimetype": "text/x-python",
   "name": "python",
   "nbconvert_exporter": "python",
   "pygments_lexer": "ipython3",
   "version": "3.11.7"
  }
 },
 "nbformat": 4,
 "nbformat_minor": 5
}
