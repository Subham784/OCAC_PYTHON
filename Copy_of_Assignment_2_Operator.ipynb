{
  "cells": [
    {
      "cell_type": "markdown",
      "id": "697caf9e-6072-490e-8131-e14edf6dcdfe",
      "metadata": {
        "id": "697caf9e-6072-490e-8131-e14edf6dcdfe"
      },
      "source": [
        "### A . Assignment Questions on Operators\n",
        "\n",
        "1. **Arithmetic Operators**\n",
        "    - Write a program that takes two numbers from the user.\n",
        "    - Perform and print the results of addition, subtraction, multiplication, division, and modulus operations.\n",
        "\n",
        "2. **Relational Operators**\n",
        "    - Write a program that takes two numbers from the user.\n",
        "    - Use relational operators (`>`, `<`, `>=`, `<=`, `==`, `!=`) to compare these numbers and print the results.\n",
        "\n",
        "3. **Logical Operators**\n",
        "    - Write a program that takes two boolean values from the user.\n",
        "    - Perform and print the results of logical AND, logical OR, and logical NOT operations.\n",
        "\n",
        "4. **Assignment Operators**\n",
        "    - Write a program that initializes a variable `x` with the value `10`.\n",
        "    - Use assignment operators (`+=`, `-=`, `*=`, `/=`, `%=`, `**=`, `//=`) to modify `x` and print the results after each operation.\n",
        "\n",
        "5. **Bitwise Operators**\n",
        "    - Write a program that takes two integers from the user.\n",
        "    - Perform and print the results of bitwise AND, OR, XOR, NOT, left shift, and right shift operations.\n",
        "\n",
        "6. **Compound Expressions**\n",
        "    - Write a program that evaluates a compound expression involving multiple arithmetic and relational operators.\n",
        "    - Example: Calculate the value of `3 * (x + y) / 2 > z` where `x`, `y`, and `z` are inputs from the user.\n",
        "\n",
        "7. **Membership Operators**\n",
        "    - Write a program that takes a string and a character from the user.\n",
        "    - Use membership operators (`in`, `not in`) to check if the character is present in the string and print the result.\n",
        "\n",
        "8. **Identity Operators**\n",
        "    - Write a program that initializes two lists with the same values.\n",
        "    - Use identity operators (`is`, `is not`) to check if the lists are the same object and print the result.\n",
        "\n",
        "9. **Precedence and Associativity**\n",
        "    - Write a program that demonstrates the precedence and associativity of different operators.\n",
        "    - Example: Evaluate the expression `3 + 4 * 2 / (1 - 5) ** 2` and print the result.\n",
        "\n",
        "10. **Operator Overloading**\n",
        "    - Create a class `Vector` that represents a mathematical vector.\n",
        "    - Implement operator overloading for addition, subtraction, and multiplication (dot product) for `Vector` objects.\n",
        "    - Write a program to demonstrate the usage of these overloaded operators.\n",
        "\n"
      ]
    },
    {
      "cell_type": "markdown",
      "id": "c98161d7-a8cc-468c-a32f-89a9daf812e0",
      "metadata": {
        "id": "c98161d7-a8cc-468c-a32f-89a9daf812e0"
      },
      "source": [
        "### B . Assignment Questions on Python Operators\n",
        "\n",
        "1. **Basic Arithmetic Operations**\n",
        "    - Write a program that asks the user to enter two numbers.\n",
        "    - Perform addition, subtraction, multiplication, division, and modulus operations on these numbers.\n",
        "    - Print the results of each operation.\n",
        "\n",
        "2. **Comparison Operators**\n",
        "    - Write a program that takes two numbers from the user.\n",
        "    - Use comparison operators to determine and print whether the first number is greater than, less than, or equal to the second number.\n",
        "\n",
        "3. **Logical Operators**\n",
        "    - Write a program that takes two boolean values from the user.\n",
        "    - Perform logical AND, OR, and NOT operations on these values.\n",
        "    - Print the results of each operation.\n",
        "\n",
        "4. **Compound Assignment Operators**\n",
        "    - Assign the value `10` to a variable `x`.\n",
        "    - Use compound assignment operators (`+=`, `-=`, `*=`, `/=`, `%=`) to modify the value of `x` and print the result after each operation.\n",
        "\n",
        "5. **Bitwise Operators**\n",
        "    - Write a program that takes two integers from the user.\n",
        "    - Perform bitwise AND, OR, XOR, and NOT operations on these numbers.\n",
        "    - Print the results of each operation.\n",
        "\n",
        "6. **Exponentiation Operator**\n",
        "    - Write a program that asks the user to enter a base and an exponent.\n",
        "    - Calculate and print the result using the exponentiation operator (`**`).\n",
        "\n",
        "7. **Floor Division Operator**\n",
        "    - Write a program that asks the user to enter two numbers.\n",
        "    - Perform floor division on these numbers and print the result.\n",
        "\n",
        "8. **Operator Precedence**\n",
        "    - Write a program that evaluates the following expression and prints the result: \\( 3 + 5 \\times 2 - 8 / 4 \\).\n",
        "    - Explain the order in which the operations are performed.\n",
        "\n",
        "9. **Ternary Operator (Conditional Expression)**\n",
        "    - Write a program that asks the user to enter two numbers.\n",
        "    - Use a ternary operator to determine and print the larger of the two numbers.\n",
        "\n",
        "10. **Membership Operators**\n",
        "    - Write a program that asks the user to enter a character.\n",
        "    - Check if the character is a vowel (a, e, i, o, u) using the `in` operator and print an appropriate message."
      ]
    },
    {
      "cell_type": "code",
      "execution_count": null,
      "id": "db060d41-72af-4f25-9dbe-8fd1f77920b4",
      "metadata": {
        "id": "db060d41-72af-4f25-9dbe-8fd1f77920b4",
        "outputId": "4ec4af94-a920-4df2-bb38-41743c16cf6d",
        "colab": {
          "base_uri": "https://localhost:8080/"
        }
      },
      "outputs": [
        {
          "output_type": "stream",
          "name": "stdout",
          "text": [
            "Enter the first number: 34.6\n",
            "Enter the second number: 24.6\n",
            "Addition: 59.2\n",
            "Subtraction: 10.0\n",
            "Multiplication: 851.1600000000001\n",
            "Division: 1.4065040650406504\n",
            "Modulus: 10.0\n"
          ]
        }
      ],
      "source": [
        "\n",
        "num1 = float(input(\"Enter the first number: \"))\n",
        "num2 = float(input(\"Enter the second number: \"))\n",
        "\n",
        "addition = num1 + num2\n",
        "subtraction = num1 - num2\n",
        "multiplication = num1 * num2\n",
        "division = num1 / num2\n",
        "modulus = num1 % num2\n",
        "\n",
        "print(\"Addition:\", addition)\n",
        "print(\"Subtraction:\", subtraction)\n",
        "print(\"Multiplication:\", multiplication)\n",
        "print(\"Division:\", division)\n",
        "print(\"Modulus:\", modulus)\n"
      ]
    },
    {
      "cell_type": "code",
      "source": [
        "\n",
        "num1 = float(input(\"Enter the first number: \"))\n",
        "num2 = float(input(\"Enter the second number: \"))\n",
        "\n",
        "\n",
        "greater_than = num1 > num2\n",
        "less_than = num1 < num2\n",
        "greater_than_or_equal = num1 >= num2\n",
        "less_than_or_equal = num1 <= num2\n",
        "equal = num1 == num2\n",
        "not_equal = num1!= num2\n",
        "\n",
        "print(\"Is\", num1, \">\", num2, \":\", greater_than)\n",
        "print(\"Is\", num1, \"<\", num2, \":\", less_than)\n",
        "print(\"Is\", num1, \">=\", num2, \":\", greater_than_or_equal)\n",
        "print(\"Is\", num1, \"<=\", num2, \":\", less_than_or_equal)\n",
        "print(\"Is\", num1, \"=\", num2, \":\", equal)\n",
        "print(\"Is\", num1, \"!=\", num2, \":\", not_equal)"
      ],
      "metadata": {
        "id": "FW7zuipBmed4",
        "outputId": "17f527f4-1e0e-49d4-d3e5-ccf0a60781a7",
        "colab": {
          "base_uri": "https://localhost:8080/"
        }
      },
      "id": "FW7zuipBmed4",
      "execution_count": null,
      "outputs": [
        {
          "output_type": "stream",
          "name": "stdout",
          "text": [
            "Enter the first number: 34\n",
            "Enter the second number: 34\n",
            "Is 34.0 > 34.0\n",
            "Is 34.0 < 34.0 : False\n",
            "Is 34.0 >= 34.0 : True\n",
            "Is 34.0 <= 34.0 : False\n",
            "Is 34.0 = 34.0 : False\n",
            "Is 34.0 != 34.0 : True\n"
          ]
        }
      ]
    },
    {
      "cell_type": "code",
      "source": [
        "a = input(\"Enter the first boolean value (True/False): \")\n",
        "b = input(\"Enter the second boolean value (True/False): \")\n",
        "\n",
        "and_result = a and b\n",
        "or_result = a or b\n",
        "not_a = not a\n",
        "not_b = not b\n",
        "\n",
        "\n",
        "print(f\"\\nResults:\")\n",
        "print(\"A\",a)\n",
        "print(\"B:\",b)\n",
        "print(\"A AND B:\",and_result )\n",
        "print(\"A OR B:\" ,or_result)\n",
        "print(\"NOT A:\" ,not_a)\n",
        "print(\"NOT B:\",not_b)"
      ],
      "metadata": {
        "id": "stqJkdCcosXC",
        "outputId": "2e295c03-fe01-4ee6-d443-29ab1bab5920",
        "colab": {
          "base_uri": "https://localhost:8080/"
        }
      },
      "id": "stqJkdCcosXC",
      "execution_count": null,
      "outputs": [
        {
          "output_type": "stream",
          "name": "stdout",
          "text": [
            "Enter the first boolean value (True/False): false\n",
            "Enter the second boolean value (True/False): true\n",
            "\n",
            "Results:\n",
            "A false\n",
            "B: true\n",
            "A AND B: true\n",
            "A OR B: false\n",
            "NOT A: False\n",
            "NOT B: False\n"
          ]
        }
      ]
    },
    {
      "cell_type": "code",
      "source": [
        "\n",
        "x = 10\n",
        "print(\"Initial value of x:\", x)\n",
        "x += 5\n",
        "print(\"x += 5:\", x)\n",
        "x -= 3\n",
        "print(\"x -= 3:\", x)\n",
        "x *= 2\n",
        "print(\"x *= 2:\", x)\n",
        "x /= 4\n",
        "print(\"x /= 4:\", x)\n",
        "x %= 3\n",
        "print(\"x %= 3:\", x)\n",
        "x **= 2\n",
        "print(\"x **= 2:\", x)\n",
        "x //= 3\n",
        "print(\"x //= 3:\", x)\n",
        "\n"
      ],
      "metadata": {
        "id": "t53UITsRp-nE",
        "outputId": "394d4911-35d6-483a-aeee-b0871c569507",
        "colab": {
          "base_uri": "https://localhost:8080/"
        }
      },
      "id": "t53UITsRp-nE",
      "execution_count": null,
      "outputs": [
        {
          "output_type": "stream",
          "name": "stdout",
          "text": [
            "Initial value of x: 10\n",
            "x += 5: 15\n",
            "x -= 3: 12\n",
            "x *= 2: 24\n",
            "x /= 4: 6.0\n",
            "x %= 3: 0.0\n",
            "x **= 2: 0.0\n",
            "x //= 3: 0.0\n"
          ]
        }
      ]
    },
    {
      "cell_type": "code",
      "source": [
        "a = int(input(\"Enter first integer: \"))\n",
        "b = int(input(\"Enter second integer: \"))\n",
        "\n",
        "and_result = a & b\n",
        "or_result = a | b\n",
        "xor_result = a ^ b\n",
        "not_a = ~a\n",
        "not_b = ~b\n",
        "\n",
        "print(\"Bitwise AND:\", and_result)\n",
        "print(\"Bitwise OR:\", or_result)\n",
        "print(\"Bitwise XOR:\", xor_result)\n",
        "print(\"Bitwise NOT of first value:\", not_a)\n",
        "print(\"Bitwise NOT of second value:\", not_b)\n",
        "\n"
      ],
      "metadata": {
        "id": "Lsax902ir7iM",
        "outputId": "1dc46717-0d35-4cb4-e7cb-796babfb3347",
        "colab": {
          "base_uri": "https://localhost:8080/"
        }
      },
      "id": "Lsax902ir7iM",
      "execution_count": null,
      "outputs": [
        {
          "output_type": "stream",
          "name": "stdout",
          "text": [
            "Enter first integer: 7\n",
            "Enter second integer: 8\n",
            "Bitwise AND: 0\n",
            "Bitwise OR: 15\n",
            "Bitwise XOR: 15\n",
            "Bitwise NOT of first value: -8\n",
            "Bitwise NOT of second value: -9\n"
          ]
        }
      ]
    },
    {
      "cell_type": "code",
      "source": [
        "\n",
        "base = float(input(\"Enter base: \"))\n",
        "exponent = float(input(\"Enter exponent: \"))\n",
        "\n",
        "# Calculate result\n",
        "result = base ** exponent\n",
        "\n",
        "# Print result\n",
        "print(\"Result:\", result)\n"
      ],
      "metadata": {
        "id": "J3rfezBxvMN2",
        "outputId": "5c7e825a-b44f-4221-86d3-fbd612f9352f",
        "colab": {
          "base_uri": "https://localhost:8080/"
        }
      },
      "id": "J3rfezBxvMN2",
      "execution_count": null,
      "outputs": [
        {
          "output_type": "stream",
          "name": "stdout",
          "text": [
            "Enter base: 4\n",
            "Enter exponent: 3\n",
            "Result: 64.0\n"
          ]
        }
      ]
    },
    {
      "cell_type": "code",
      "source": [
        "\n",
        "string = input(\"Enter a string: \")\n",
        "char = input(\"Enter a character: \")\n",
        "\n",
        "if char in string:\n",
        "  print(f\"The character '{char}' is in the string '{string}'.\")\n",
        "else:\n",
        "  print(f\"The character '{char}' is not in the string '{string}'.\")\n"
      ],
      "metadata": {
        "id": "duXip8NJww0G",
        "outputId": "a8128e8a-fdfd-4b7c-aa9d-5f4de02ed613",
        "colab": {
          "base_uri": "https://localhost:8080/"
        }
      },
      "id": "duXip8NJww0G",
      "execution_count": null,
      "outputs": [
        {
          "output_type": "stream",
          "name": "stdout",
          "text": [
            "Enter a string: kkk\n",
            "Enter a character: k'\n",
            "The character 'k'' is not in the string 'kkk'.\n"
          ]
        }
      ]
    },
    {
      "cell_type": "code",
      "source": [
        "\n",
        "list1 = [1, 2, 3]\n",
        "list2 = [1, 2, 3]\n",
        "\n",
        "if list1 is list2:\n",
        "  print(\"list1 and list2 are the same object.\")\n",
        "else:\n",
        "  print(\"list1 and list2 are not the same object.\")\n",
        "\n",
        "list3 = list1\n",
        "if list1 is list3:\n",
        "  print(\"list1 and list3 are the same object.\")\n",
        "else:\n",
        "  print(\"list1 and list3 are not the same object.\")\n",
        "\n"
      ],
      "metadata": {
        "id": "H9qS8vMkxyzh",
        "outputId": "34bfe8b3-ec7f-49c7-b126-49c1d655e257",
        "colab": {
          "base_uri": "https://localhost:8080/"
        }
      },
      "id": "H9qS8vMkxyzh",
      "execution_count": null,
      "outputs": [
        {
          "output_type": "stream",
          "name": "stdout",
          "text": [
            "list1 and list2 are not the same object.\n",
            "list1 and list3 are the same object.\n"
          ]
        }
      ]
    },
    {
      "cell_type": "code",
      "source": [
        "\n",
        "result = 3 + 4 * 2 / (1 - 5) ** 2\n",
        "print(\"Result:\", result)\n"
      ],
      "metadata": {
        "id": "lRc1GB0r1R0A",
        "outputId": "701bf3de-dbf4-4309-8972-0a0ddc7d3c7a",
        "colab": {
          "base_uri": "https://localhost:8080/"
        }
      },
      "id": "lRc1GB0r1R0A",
      "execution_count": null,
      "outputs": [
        {
          "output_type": "stream",
          "name": "stdout",
          "text": [
            "Result: 3.5\n"
          ]
        }
      ]
    },
    {
      "cell_type": "code",
      "source": [],
      "metadata": {
        "id": "sRkSsfgq19F2"
      },
      "id": "sRkSsfgq19F2",
      "execution_count": null,
      "outputs": []
    }
  ],
  "metadata": {
    "kernelspec": {
      "display_name": "Python 3 (ipykernel)",
      "language": "python",
      "name": "python3"
    },
    "language_info": {
      "codemirror_mode": {
        "name": "ipython",
        "version": 3
      },
      "file_extension": ".py",
      "mimetype": "text/x-python",
      "name": "python",
      "nbconvert_exporter": "python",
      "pygments_lexer": "ipython3",
      "version": "3.11.7"
    },
    "colab": {
      "provenance": []
    }
  },
  "nbformat": 4,
  "nbformat_minor": 5
}