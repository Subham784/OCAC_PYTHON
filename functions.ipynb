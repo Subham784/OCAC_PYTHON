{
 "cells": [
  {
   "cell_type": "code",
   "execution_count": 47,
   "id": "1eecee8e-e56a-4cef-a69f-68f31d144cfb",
   "metadata": {},
   "outputs": [],
   "source": [
    "def even_odd():\n",
    "    '''Check even odd '''\n",
    "    a=int(input(\"enter a number \"))\n",
    "    if a%2==0:\n",
    "        print(\"The number is even\")\n",
    "    else:\n",
    "        print(\"The number is odd\")"
   ]
  },
  {
   "cell_type": "code",
   "execution_count": 48,
   "id": "8a91a06c-9be6-4100-91a8-08ab7b17376e",
   "metadata": {
    "editable": true,
    "slideshow": {
     "slide_type": ""
    },
    "tags": []
   },
   "outputs": [
    {
     "name": "stdin",
     "output_type": "stream",
     "text": [
      "enter a number  7\n"
     ]
    },
    {
     "name": "stdout",
     "output_type": "stream",
     "text": [
      "The number is odd\n"
     ]
    }
   ],
   "source": [
    "even_odd()"
   ]
  },
  {
   "cell_type": "code",
   "execution_count": 46,
   "id": "9cd51de0-ce5d-4b73-9014-ea8d949b7a4d",
   "metadata": {},
   "outputs": [
    {
     "name": "stdout",
     "output_type": "stream",
     "text": [
      "Check even odd \n"
     ]
    }
   ],
   "source": [
    "print(even_odd.__doc__)"
   ]
  },
  {
   "cell_type": "code",
   "execution_count": 14,
   "id": "b67d2f0d-ea86-4da6-8708-3bcc08d16bec",
   "metadata": {},
   "outputs": [],
   "source": [
    "def even_odd(a):\n",
    "    '''Check even odd with no argument'''\n",
    "    if a%2==0:\n",
    "        print(\"The number is even\")\n",
    "    else:\n",
    "        print(\"The number is odd\")"
   ]
  },
  {
   "cell_type": "code",
   "execution_count": 16,
   "id": "3e0ae74c-1647-4a33-a12a-bdb93a444077",
   "metadata": {},
   "outputs": [
    {
     "name": "stdout",
     "output_type": "stream",
     "text": [
      "The number is odd\n"
     ]
    }
   ],
   "source": [
    "even_odd(9)"
   ]
  },
  {
   "cell_type": "code",
   "execution_count": 27,
   "id": "385f0d71-c796-4c42-8965-6ebaf158cda4",
   "metadata": {},
   "outputs": [],
   "source": [
    "def even_odd():\n",
    "    '''Check even odd with no argument'''\n",
    "    a=int(input('Enter a number'))\n",
    "    b=int(input('Enter 2nd number'))\n",
    "    s=a+b\n",
    "    if s%2==0:\n",
    "        print(\"The number\",s,\"is even\")\n",
    "    else:\n",
    "        print(\"The number\",s,\"is odd\")"
   ]
  },
  {
   "cell_type": "code",
   "execution_count": 28,
   "id": "16e5792e-e3b4-43e8-a4c3-0c8d42962996",
   "metadata": {},
   "outputs": [
    {
     "name": "stdin",
     "output_type": "stream",
     "text": [
      "Enter a number 7\n",
      "Enter 2nd number 6\n"
     ]
    },
    {
     "name": "stdout",
     "output_type": "stream",
     "text": [
      "The number 13 is odd\n"
     ]
    }
   ],
   "source": [
    "even_odd()"
   ]
  },
  {
   "cell_type": "code",
   "execution_count": 29,
   "id": "b3ad229f-2974-4c0a-9f40-dc2886512555",
   "metadata": {},
   "outputs": [],
   "source": [
    "def even_odd(a,b):\n",
    "    '''Check even odd with no argument'''\n",
    "    s=a+b\n",
    "    if s%2==0:\n",
    "        print(\"The number\",s,\"is even\")\n",
    "    else:\n",
    "        print(\"The number\",s,\"is odd\")"
   ]
  },
  {
   "cell_type": "code",
   "execution_count": 30,
   "id": "56b062e4-335e-4de3-a423-9b63310facd0",
   "metadata": {},
   "outputs": [
    {
     "name": "stdout",
     "output_type": "stream",
     "text": [
      "The number 14 is even\n"
     ]
    }
   ],
   "source": [
    "even_odd(6,8)"
   ]
  },
  {
   "cell_type": "markdown",
   "id": "bfbc1d08-442b-49d6-8b5e-d337988bd74e",
   "metadata": {},
   "source": [
    "##### New Function"
   ]
  },
  {
   "cell_type": "code",
   "execution_count": 35,
   "id": "0dc35d25-a347-4ce3-925a-99235073e6c1",
   "metadata": {},
   "outputs": [],
   "source": [
    "def fact():\n",
    "    n=int(input('Enter a number to calculate the factorial'))\n",
    "    if n<0:\n",
    "        print('No Result')\n",
    "    elif n == 0:\n",
    "        print('The factorial is 1')\n",
    "    elif n >= 1:\n",
    "        fact = 1\n",
    "        for i in range (1,n+1):\n",
    "            fact = fact*i\n",
    "        print('The factorial is _',fact)"
   ]
  },
  {
   "cell_type": "code",
   "execution_count": 36,
   "id": "f4a8ca4e-24e0-496c-90ff-bbdcc298623a",
   "metadata": {},
   "outputs": [
    {
     "name": "stdin",
     "output_type": "stream",
     "text": [
      "Enter a number to calculate the factorial 9\n"
     ]
    },
    {
     "name": "stdout",
     "output_type": "stream",
     "text": [
      "The factorial is _ 362880\n"
     ]
    }
   ],
   "source": [
    "fact()"
   ]
  },
  {
   "cell_type": "code",
   "execution_count": 37,
   "id": "832fb5b5-5862-44f6-b930-935734c350c5",
   "metadata": {},
   "outputs": [],
   "source": [
    "def double():\n",
    "    n=int(input('Enter a number to square the value'))\n",
    "    return n**2"
   ]
  },
  {
   "cell_type": "code",
   "execution_count": 38,
   "id": "0cd4caea-c293-4b2a-8178-b38d79909b6a",
   "metadata": {},
   "outputs": [
    {
     "name": "stdin",
     "output_type": "stream",
     "text": [
      "Enter a number to square the value 9\n"
     ]
    },
    {
     "data": {
      "text/plain": [
       "81"
      ]
     },
     "execution_count": 38,
     "metadata": {},
     "output_type": "execute_result"
    }
   ],
   "source": [
    "double()"
   ]
  },
  {
   "cell_type": "code",
   "execution_count": 39,
   "id": "5e706d23-5d7d-4d37-bbcc-78fa54017d90",
   "metadata": {},
   "outputs": [],
   "source": [
    "def double():\n",
    "    n=int(input('Enter a number to square the value'))\n",
    "    a = n**2\n",
    "    return a"
   ]
  },
  {
   "cell_type": "code",
   "execution_count": 40,
   "id": "3408aba1-c05d-4a40-84df-edde64237afe",
   "metadata": {},
   "outputs": [
    {
     "name": "stdin",
     "output_type": "stream",
     "text": [
      "Enter a number to square the value 7\n"
     ]
    },
    {
     "data": {
      "text/plain": [
       "49"
      ]
     },
     "execution_count": 40,
     "metadata": {},
     "output_type": "execute_result"
    }
   ],
   "source": [
    "double()"
   ]
  },
  {
   "cell_type": "code",
   "execution_count": 41,
   "id": "c3876eb1-6ce3-4ae4-afa7-93d92da882bf",
   "metadata": {},
   "outputs": [],
   "source": [
    "def double():\n",
    "    n=int(input('Enter a number to square the value'))\n",
    "    a = n**2\n",
    "    a"
   ]
  },
  {
   "cell_type": "code",
   "execution_count": 42,
   "id": "ffbff6cf-7b85-4dc7-951c-6791177b1d45",
   "metadata": {},
   "outputs": [
    {
     "name": "stdin",
     "output_type": "stream",
     "text": [
      "Enter a number to square the value 8\n"
     ]
    }
   ],
   "source": [
    "double()"
   ]
  },
  {
   "cell_type": "markdown",
   "id": "10c904eb-e0ce-475c-8b83-7b823d8bcbcd",
   "metadata": {},
   "source": [
    "##### fUNCTION ARGUMENTS"
   ]
  },
  {
   "cell_type": "code",
   "execution_count": 10,
   "id": "c916d0ae-bb99-42b2-aaa7-782ac048d0c7",
   "metadata": {},
   "outputs": [],
   "source": [
    "def multiple(a,b):\n",
    "    '''Multiple of two numbers'''\n",
    "    mul= a*b\n",
    "    print('The multiplication is {} & {} is {} '.format(a,b,mul)) "
   ]
  },
  {
   "cell_type": "code",
   "execution_count": 11,
   "id": "42d0eb2c-e352-41ce-8aaa-c742f70404db",
   "metadata": {},
   "outputs": [
    {
     "name": "stdout",
     "output_type": "stream",
     "text": [
      "The multiplication is 4 & 5 is 20 \n"
     ]
    }
   ],
   "source": [
    "multiple(4,5)"
   ]
  },
  {
   "cell_type": "code",
   "execution_count": 12,
   "id": "77e9cdb2-fb80-4efb-9e5a-46878154a4db",
   "metadata": {},
   "outputs": [
    {
     "name": "stdout",
     "output_type": "stream",
     "text": [
      "Multiple of two numbers\n"
     ]
    }
   ],
   "source": [
    "print(multiple.__doc__)"
   ]
  },
  {
   "cell_type": "code",
   "execution_count": 17,
   "id": "d950c1c3-b8c4-4458-97d4-9ab9161296a3",
   "metadata": {},
   "outputs": [],
   "source": [
    "def multiple(a,b):\n",
    "    '''Multiple of two numbers'''\n",
    "    a=int(input('Enter 1st no'))\n",
    "    b=int(input('Enter 2nd no'))\n",
    "    mul= a*b\n",
    "    print('The multiplication is {} & {} is {} '.format(a,b,mul)) "
   ]
  },
  {
   "cell_type": "code",
   "execution_count": 18,
   "id": "edef4889-a3c7-4425-9d4b-f82048435efa",
   "metadata": {},
   "outputs": [
    {
     "name": "stdin",
     "output_type": "stream",
     "text": [
      "Enter 1st no 5\n",
      "Enter 2nd no 3\n"
     ]
    },
    {
     "name": "stdout",
     "output_type": "stream",
     "text": [
      "The multiplication is 5 & 3 is 15 \n"
     ]
    }
   ],
   "source": [
    "multiple(4,5)"
   ]
  },
  {
   "cell_type": "code",
   "execution_count": 21,
   "id": "c1f57cbb-8adb-4f90-b8b7-61c4237ebdda",
   "metadata": {},
   "outputs": [],
   "source": [
    "def mul(c,a=3,b=8):\n",
    "    m=(a*b)+c\n",
    "    print('The multiplication is {} & {} is {} '.format(a,b,m)) "
   ]
  },
  {
   "cell_type": "code",
   "execution_count": 22,
   "id": "d951b35b-dba3-4310-9b1f-58eaf2712d32",
   "metadata": {},
   "outputs": [
    {
     "name": "stdout",
     "output_type": "stream",
     "text": [
      "The multiplication is 3 & 8 is 28 \n"
     ]
    }
   ],
   "source": [
    "mul(4)"
   ]
  },
  {
   "cell_type": "code",
   "execution_count": 23,
   "id": "2cfa4143-12a8-402e-beca-47d16ce2ea94",
   "metadata": {},
   "outputs": [
    {
     "ename": "SyntaxError",
     "evalue": "non-default argument follows default argument (3430358917.py, line 1)",
     "output_type": "error",
     "traceback": [
      "\u001b[1;36m  Cell \u001b[1;32mIn[23], line 1\u001b[1;36m\u001b[0m\n\u001b[1;33m    def mul(a=3,b=8,c):\u001b[0m\n\u001b[1;37m                    ^\u001b[0m\n\u001b[1;31mSyntaxError\u001b[0m\u001b[1;31m:\u001b[0m non-default argument follows default argument\n"
     ]
    }
   ],
   "source": [
    "def mul(a=3,b=8,c):\n",
    "    m=(a*b)+c\n",
    "    print('The multiplication is {} & {} is {} '.format(a,b,m)) "
   ]
  },
  {
   "cell_type": "code",
   "execution_count": 24,
   "id": "2d516b64-668d-4374-b515-cb3e2c180534",
   "metadata": {},
   "outputs": [],
   "source": [
    "def mul(c,a=3,b=8):\n",
    "    m=(a*b)+c\n",
    "    print('The multiplication is {} & {} is {} '.format(a,b,m)) "
   ]
  },
  {
   "cell_type": "code",
   "execution_count": 25,
   "id": "dc89fca7-4634-4714-958d-694576a25b2c",
   "metadata": {},
   "outputs": [
    {
     "name": "stdout",
     "output_type": "stream",
     "text": [
      "The multiplication is 3 & 8 is 31 \n"
     ]
    }
   ],
   "source": [
    "mul(7,3)      # 3 is the value of (a) because you again one value is asign then he asign tha value in (a)"
   ]
  },
  {
   "cell_type": "markdown",
   "id": "6fc271bb-ac77-452c-a610-22cb57774d71",
   "metadata": {},
   "source": [
    "#### 3:KEYWORD ARGUMENTS"
   ]
  },
  {
   "cell_type": "markdown",
   "id": "dd08db22-e73f-48b5-ad01-d985498ae7dd",
   "metadata": {},
   "source": [
    "###### kwargs allows you to pass keyword variable length of arguments to a function. you should use (**kwargs) if you want to handle named arguments in a function"
   ]
  },
  {
   "cell_type": "code",
   "execution_count": 37,
   "id": "d4c44e91-30d7-421c-a247-da551474f841",
   "metadata": {},
   "outputs": [
    {
     "name": "stdout",
     "output_type": "stream",
     "text": [
      "hello Rama, good mornuing\n"
     ]
    }
   ],
   "source": [
    "def mor(**rama):\n",
    "    if rama:\n",
    "        print('hello {}, {}'.format(rama['name'], rama['msg']))\n",
    "mor(name='Rama', msg='good mornuing')"
   ]
  },
  {
   "cell_type": "markdown",
   "id": "2c1a4df8-f110-4400-b30f-ba13dd8dfc08",
   "metadata": {},
   "source": [
    "###### *(**kwargs) is not a keyword you know this concept easily so this keyword name is kwargs,so you randomly choose this keyword name*."
   ]
  },
  {
   "cell_type": "code",
   "execution_count": 39,
   "id": "357a1041-3dc0-491e-a56d-b3e1a46b75ed",
   "metadata": {},
   "outputs": [
    {
     "ename": "TypeError",
     "evalue": "mor() got an unexpected keyword argument 'name'",
     "output_type": "error",
     "traceback": [
      "\u001b[1;31m---------------------------------------------------------------------------\u001b[0m",
      "\u001b[1;31mTypeError\u001b[0m                                 Traceback (most recent call last)",
      "Cell \u001b[1;32mIn[39], line 4\u001b[0m\n\u001b[0;32m      2\u001b[0m     \u001b[38;5;28;01mif\u001b[39;00m rama:\n\u001b[0;32m      3\u001b[0m         \u001b[38;5;28mprint\u001b[39m(\u001b[38;5;124m'\u001b[39m\u001b[38;5;124mhello \u001b[39m\u001b[38;5;132;01m{}\u001b[39;00m\u001b[38;5;124m, \u001b[39m\u001b[38;5;132;01m{}\u001b[39;00m\u001b[38;5;124m'\u001b[39m\u001b[38;5;241m.\u001b[39mformat(rama[\u001b[38;5;124m'\u001b[39m\u001b[38;5;124mname\u001b[39m\u001b[38;5;124m'\u001b[39m], rama[\u001b[38;5;124m'\u001b[39m\u001b[38;5;124mmsg\u001b[39m\u001b[38;5;124m'\u001b[39m]))\n\u001b[1;32m----> 4\u001b[0m mor(name\u001b[38;5;241m=\u001b[39m\u001b[38;5;124m'\u001b[39m\u001b[38;5;124mRama\u001b[39m\u001b[38;5;124m'\u001b[39m, msg\u001b[38;5;241m=\u001b[39m\u001b[38;5;124m'\u001b[39m\u001b[38;5;124mgood mornuing\u001b[39m\u001b[38;5;124m'\u001b[39m)\n",
      "\u001b[1;31mTypeError\u001b[0m: mor() got an unexpected keyword argument 'name'"
     ]
    }
   ],
   "source": [
    "def mor(*rama):\n",
    "    if rama:\n",
    "        print('hello {}, {}'.format(rama['name'], rama['msg']))\n",
    "mor(name='Rama', msg='good mornuing')"
   ]
  },
  {
   "cell_type": "markdown",
   "id": "b74905ba-662d-4f3e-91f0-244c201ed13a",
   "metadata": {},
   "source": [
    "###### *when you try single (star) then result is unexpected keyword argument because the single(star) is not supported in keyword arguments*."
   ]
  },
  {
   "cell_type": "markdown",
   "id": "6d6e1da2-433d-4887-8803-76690b78b58a",
   "metadata": {},
   "source": [
    "#### 4:ARBITARY ARGUMENTS\n",
    "###### Sometimes, we do not know in advance the number of arguments that will be passed in to a function.Python allows us to handle this kind of situation through function calls with arbitary number of arguments.  "
   ]
  },
  {
   "cell_type": "code",
   "execution_count": 40,
   "id": "24845718-6bd2-4374-8f59-0e6a8d7ace08",
   "metadata": {},
   "outputs": [],
   "source": [
    "def morn(*r):\n",
    "    print(r)\n",
    "    for R in r:\n",
    "        print('Hello, {0} '.format(R))"
   ]
  },
  {
   "cell_type": "code",
   "execution_count": 42,
   "id": "4b9c40d7-36a9-45d4-9fa5-38d8b5b4e5a6",
   "metadata": {},
   "outputs": [
    {
     "name": "stdout",
     "output_type": "stream",
     "text": [
      "('Rama', 'Raja')\n",
      "Hello, Rama \n",
      "Hello, Raja \n"
     ]
    }
   ],
   "source": [
    "morn('Rama','Raja')"
   ]
  },
  {
   "cell_type": "markdown",
   "id": "3effbf61-15ad-4bd6-a106-fe933116c009",
   "metadata": {},
   "source": [
    "##### 5:RECUSSIVE FUNCTION OR RECURSION\n",
    "###### We know that in Python, a function can call other functions.it is very possible for the function to call itself.These type of constant are termed as recursive functions."
   ]
  },
  {
   "cell_type": "code",
   "execution_count": 66,
   "id": "03d1a75c-4543-4684-a430-9c0bf2fe05e6",
   "metadata": {},
   "outputs": [
    {
     "name": "stdout",
     "output_type": "stream",
     "text": [
      "Select an operation\n",
      "1-addition\n",
      "2-subtraction\n",
      "3-multiplication\n",
      "4-division\n",
      "5-module\n"
     ]
    },
    {
     "name": "stdin",
     "output_type": "stream",
     "text": [
      "Choose operation as per your need 3\n",
      "Enter 1st number 5\n",
      "Enter 2nd number 3\n"
     ]
    },
    {
     "name": "stdout",
     "output_type": "stream",
     "text": [
      "The multiplication of 5 & 3 is 15:\n"
     ]
    }
   ],
   "source": [
    "def addition(a,b):\n",
    "    return a+b\n",
    "    \n",
    "def subtraction(a,b):\n",
    "    return a-b\n",
    "    \n",
    "def multiplication(a,b):\n",
    "    return a*b\n",
    "    \n",
    "def division(a,b):\n",
    "    return a/b\n",
    "    \n",
    "def module(a,b):\n",
    "    return a%b\n",
    "    \n",
    "print('Select an operation')\n",
    "print('1-addition')\n",
    "print('2-subtraction')\n",
    "print('3-multiplication')\n",
    "print('4-division')\n",
    "print('5-module')\n",
    "c=int(input('Choose operation as per your need'))\n",
    "a=int(input('Enter 1st number'))\n",
    "b=int(input('Enter 2nd number'))\n",
    "if c==1:\n",
    "    print('The summation of {} & {} is {}:'.format(a,b,addition(a,b))) \n",
    "elif c==2:\n",
    "    print('The subtraction of {} & {} is {}:'.format(a,b,subtraction(a,b))) \n",
    "elif c==3:\n",
    "    print('The multiplication of {} & {} is {}:'.format(a,b,multiplication(a,b))) \n",
    "elif c==4:\n",
    "    print('The division of {} & {} is {}:'.format(a,b,division(a,b))) \n",
    "elif c==5:\n",
    "    print('The module of {} & {} is {}:'.format(a,b,module(a,b))) "
   ]
  }
 ],
 "metadata": {
  "kernelspec": {
   "display_name": "Python 3 (ipykernel)",
   "language": "python",
   "name": "python3"
  },
  "language_info": {
   "codemirror_mode": {
    "name": "ipython",
    "version": 3
   },
   "file_extension": ".py",
   "mimetype": "text/x-python",
   "name": "python",
   "nbconvert_exporter": "python",
   "pygments_lexer": "ipython3",
   "version": "3.11.7"
  }
 },
 "nbformat": 4,
 "nbformat_minor": 5
}
