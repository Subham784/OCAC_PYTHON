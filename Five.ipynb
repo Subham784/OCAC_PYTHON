{
 "cells": [
  {
   "cell_type": "markdown",
   "id": "4c2e397f-e9c2-4481-bfed-f04ca9cf2f63",
   "metadata": {},
   "source": [
    "# Type Casting"
   ]
  },
  {
   "cell_type": "code",
   "execution_count": 5,
   "id": "17b14c96-dda5-46c6-8fa0-316e8845f4b2",
   "metadata": {},
   "outputs": [
    {
     "data": {
      "text/plain": [
       "29"
      ]
     },
     "execution_count": 5,
     "metadata": {},
     "output_type": "execute_result"
    }
   ],
   "source": [
    "b=29.4\n",
    "int(b)"
   ]
  },
  {
   "cell_type": "code",
   "execution_count": 4,
   "id": "26c73181-0803-445a-9b51-8b6f3ed1806d",
   "metadata": {},
   "outputs": [
    {
     "data": {
      "text/plain": [
       "100"
      ]
     },
     "execution_count": 4,
     "metadata": {},
     "output_type": "execute_result"
    }
   ],
   "source": [
    "int(100.9999)"
   ]
  },
  {
   "cell_type": "markdown",
   "id": "2007f29b-b7bd-4e83-9ab3-438824b3f87d",
   "metadata": {},
   "source": [
    "# Boolean"
   ]
  },
  {
   "cell_type": "code",
   "execution_count": 6,
   "id": "0fc2b730-dea2-47ab-b80f-a3b3fb6c3527",
   "metadata": {},
   "outputs": [
    {
     "data": {
      "text/plain": [
       "bool"
      ]
     },
     "execution_count": 6,
     "metadata": {},
     "output_type": "execute_result"
    }
   ],
   "source": [
    "c1=False\n",
    "type(c1)"
   ]
  },
  {
   "cell_type": "code",
   "execution_count": 7,
   "id": "d1d5e7b0-3923-4aff-839a-e5d9c2ebf6e6",
   "metadata": {},
   "outputs": [
    {
     "data": {
      "text/plain": [
       "bool"
      ]
     },
     "execution_count": 7,
     "metadata": {},
     "output_type": "execute_result"
    }
   ],
   "source": [
    "type(False)"
   ]
  },
  {
   "cell_type": "code",
   "execution_count": 8,
   "id": "0e2b647b-0a60-4b60-b521-c8c1803090f2",
   "metadata": {},
   "outputs": [
    {
     "data": {
      "text/plain": [
       "1"
      ]
     },
     "execution_count": 8,
     "metadata": {},
     "output_type": "execute_result"
    }
   ],
   "source": [
    "int(True)"
   ]
  },
  {
   "cell_type": "code",
   "execution_count": 9,
   "id": "18ecad69-4b1d-4c71-92ae-1bcb7d2d6375",
   "metadata": {},
   "outputs": [
    {
     "data": {
      "text/plain": [
       "0"
      ]
     },
     "execution_count": 9,
     "metadata": {},
     "output_type": "execute_result"
    }
   ],
   "source": [
    "False+False"
   ]
  },
  {
   "cell_type": "code",
   "execution_count": 10,
   "id": "e759202a-deee-4c79-b64b-01187ca50770",
   "metadata": {},
   "outputs": [
    {
     "ename": "NameError",
     "evalue": "name 'false' is not defined",
     "output_type": "error",
     "traceback": [
      "\u001b[1;31m---------------------------------------------------------------------------\u001b[0m",
      "\u001b[1;31mNameError\u001b[0m                                 Traceback (most recent call last)",
      "Cell \u001b[1;32mIn[10], line 1\u001b[0m\n\u001b[1;32m----> 1\u001b[0m false\u001b[38;5;241m+\u001b[39mfalse\n",
      "\u001b[1;31mNameError\u001b[0m: name 'false' is not defined"
     ]
    }
   ],
   "source": [
    "false+false"
   ]
  },
  {
   "cell_type": "code",
   "execution_count": 11,
   "id": "108652ad-99eb-49ef-88db-5daee4ada1bd",
   "metadata": {},
   "outputs": [
    {
     "data": {
      "text/plain": [
       "2.5"
      ]
     },
     "execution_count": 11,
     "metadata": {},
     "output_type": "execute_result"
    }
   ],
   "source": [
    "b=2.5\n",
    "c=False\n",
    "b+c"
   ]
  },
  {
   "cell_type": "markdown",
   "id": "84196ad9-8fa7-4fe0-a25f-f3ae63c24afe",
   "metadata": {},
   "source": [
    "# Complex"
   ]
  },
  {
   "cell_type": "code",
   "execution_count": 13,
   "id": "90444f22-b8ae-4535-888f-1519f2f5707f",
   "metadata": {},
   "outputs": [],
   "source": [
    "X=10+40j"
   ]
  },
  {
   "cell_type": "code",
   "execution_count": 15,
   "id": "7859e0e7-fbaa-4292-bb74-b1f869e92542",
   "metadata": {},
   "outputs": [
    {
     "data": {
      "text/plain": [
       "complex"
      ]
     },
     "execution_count": 15,
     "metadata": {},
     "output_type": "execute_result"
    }
   ],
   "source": [
    "type(X)"
   ]
  },
  {
   "cell_type": "code",
   "execution_count": 16,
   "id": "be7b5aaa-a169-4978-9903-d0dc7de3ca2e",
   "metadata": {},
   "outputs": [
    {
     "data": {
      "text/plain": [
       "10.0"
      ]
     },
     "execution_count": 16,
     "metadata": {},
     "output_type": "execute_result"
    }
   ],
   "source": [
    "X.real"
   ]
  },
  {
   "cell_type": "code",
   "execution_count": 17,
   "id": "ea426c66-afca-4851-bbc6-49e1e3cc8e7b",
   "metadata": {},
   "outputs": [
    {
     "data": {
      "text/plain": [
       "40.0"
      ]
     },
     "execution_count": 17,
     "metadata": {},
     "output_type": "execute_result"
    }
   ],
   "source": [
    "X.imag"
   ]
  },
  {
   "cell_type": "code",
   "execution_count": 18,
   "id": "c909cf42-7765-426b-a512-4d0b70b6d327",
   "metadata": {},
   "outputs": [
    {
     "data": {
      "text/plain": [
       "10"
      ]
     },
     "execution_count": 18,
     "metadata": {},
     "output_type": "execute_result"
    }
   ],
   "source": [
    "int(X.real)"
   ]
  },
  {
   "cell_type": "code",
   "execution_count": 19,
   "id": "33aea6c8-372b-4ba5-bb66-f3921ae3078d",
   "metadata": {},
   "outputs": [
    {
     "name": "stdout",
     "output_type": "stream",
     "text": [
      "1.0 -5.0\n"
     ]
    }
   ],
   "source": [
    "y=1.0-5.0j\n",
    "print(y.real,y.imag)"
   ]
  },
  {
   "cell_type": "markdown",
   "id": "b5bdd3bb-a4ab-486f-822d-056beadf655a",
   "metadata": {},
   "source": [
    "# Strings"
   ]
  },
  {
   "cell_type": "code",
   "execution_count": 25,
   "id": "fd75c406-6746-4e29-8200-ca75d5d09661",
   "metadata": {},
   "outputs": [
    {
     "name": "stdout",
     "output_type": "stream",
     "text": [
      "let's go\n"
     ]
    }
   ],
   "source": [
    "myString1 = 'let\\'s go' \n",
    "print(myString1)"
   ]
  },
  {
   "cell_type": "code",
   "execution_count": 27,
   "id": "84e76b67-30ab-44d5-aa43-e2e272c70caa",
   "metadata": {},
   "outputs": [
    {
     "data": {
      "text/plain": [
       "str"
      ]
     },
     "execution_count": 27,
     "metadata": {},
     "output_type": "execute_result"
    }
   ],
   "source": [
    "A= 'SUBHAM '\n",
    "type(A)"
   ]
  },
  {
   "cell_type": "code",
   "execution_count": 28,
   "id": "7bb321f5-7dfa-45bc-b616-1be725e01d6c",
   "metadata": {},
   "outputs": [
    {
     "ename": "ValueError",
     "evalue": "invalid literal for int() with base 10: 'SUBHAM '",
     "output_type": "error",
     "traceback": [
      "\u001b[1;31m---------------------------------------------------------------------------\u001b[0m",
      "\u001b[1;31mValueError\u001b[0m                                Traceback (most recent call last)",
      "Cell \u001b[1;32mIn[28], line 1\u001b[0m\n\u001b[1;32m----> 1\u001b[0m \u001b[38;5;28mint\u001b[39m(A)\n",
      "\u001b[1;31mValueError\u001b[0m: invalid literal for int() with base 10: 'SUBHAM '"
     ]
    }
   ],
   "source": [
    "int(A)"
   ]
  },
  {
   "cell_type": "code",
   "execution_count": 29,
   "id": "45317ab1-c92a-4685-b54e-f507e35ac7d3",
   "metadata": {},
   "outputs": [
    {
     "data": {
      "text/plain": [
       "str"
      ]
     },
     "execution_count": 29,
     "metadata": {},
     "output_type": "execute_result"
    }
   ],
   "source": [
    "type(\"SUBHAM\")"
   ]
  },
  {
   "cell_type": "code",
   "execution_count": 30,
   "id": "5f1aca79-f477-424e-8b3a-67fc2d7149bc",
   "metadata": {},
   "outputs": [
    {
     "data": {
      "text/plain": [
       "str"
      ]
     },
     "execution_count": 30,
     "metadata": {},
     "output_type": "execute_result"
    }
   ],
   "source": [
    "var = \"234534\"\n",
    "type(var)"
   ]
  },
  {
   "cell_type": "code",
   "execution_count": 31,
   "id": "17f37a82-70dd-47a1-ad5d-7e14f617a7ef",
   "metadata": {},
   "outputs": [
    {
     "data": {
      "text/plain": [
       "'234534'"
      ]
     },
     "execution_count": 31,
     "metadata": {},
     "output_type": "execute_result"
    }
   ],
   "source": [
    "var"
   ]
  },
  {
   "cell_type": "code",
   "execution_count": 32,
   "id": "affa0d92-2945-44f0-a0e4-5bd5b0582145",
   "metadata": {},
   "outputs": [
    {
     "data": {
      "text/plain": [
       "234534"
      ]
     },
     "execution_count": 32,
     "metadata": {},
     "output_type": "execute_result"
    }
   ],
   "source": [
    "z=int(var)\n",
    "z"
   ]
  },
  {
   "cell_type": "code",
   "execution_count": 33,
   "id": "115dd45a-c3b6-4a9f-a9fa-9b433af16e8c",
   "metadata": {},
   "outputs": [],
   "source": [
    "a='12321'"
   ]
  },
  {
   "cell_type": "code",
   "execution_count": 34,
   "id": "85f8926e-ffde-4c00-b114-faf2ca38b531",
   "metadata": {},
   "outputs": [
    {
     "data": {
      "text/plain": [
       "12321"
      ]
     },
     "execution_count": 34,
     "metadata": {},
     "output_type": "execute_result"
    }
   ],
   "source": [
    "int(a)"
   ]
  },
  {
   "cell_type": "markdown",
   "id": "55833d34-ad33-42ba-bcf4-1b8524e024dc",
   "metadata": {},
   "source": [
    "# Concateation"
   ]
  },
  {
   "cell_type": "code",
   "execution_count": 35,
   "id": "80c89632-1f6e-4d0b-896c-da50aaa771ba",
   "metadata": {},
   "outputs": [
    {
     "data": {
      "text/plain": [
       "'502'"
      ]
     },
     "execution_count": 35,
     "metadata": {},
     "output_type": "execute_result"
    }
   ],
   "source": [
    "a=\"50\"\n",
    "b=\"2\"\n",
    "a+b"
   ]
  },
  {
   "cell_type": "code",
   "execution_count": 36,
   "id": "39917c09-07cf-4b6b-a832-6a2eee790150",
   "metadata": {},
   "outputs": [
    {
     "data": {
      "text/plain": [
       "502"
      ]
     },
     "execution_count": 36,
     "metadata": {},
     "output_type": "execute_result"
    }
   ],
   "source": [
    "int(a+b)"
   ]
  },
  {
   "cell_type": "code",
   "execution_count": 37,
   "id": "9440386f-fe4d-4e88-83b9-cb7befeb3c35",
   "metadata": {},
   "outputs": [
    {
     "data": {
      "text/plain": [
       "52"
      ]
     },
     "execution_count": 37,
     "metadata": {},
     "output_type": "execute_result"
    }
   ],
   "source": [
    "int(a)+int(b)"
   ]
  },
  {
   "cell_type": "code",
   "execution_count": 42,
   "id": "f5a53e0f-c0f7-498b-80e3-cf8b664506ac",
   "metadata": {},
   "outputs": [
    {
     "ename": "TypeError",
     "evalue": "can only concatenate str (not \"int\") to str",
     "output_type": "error",
     "traceback": [
      "\u001b[1;31m---------------------------------------------------------------------------\u001b[0m",
      "\u001b[1;31mTypeError\u001b[0m                                 Traceback (most recent call last)",
      "Cell \u001b[1;32mIn[42], line 3\u001b[0m\n\u001b[0;32m      1\u001b[0m f  \u001b[38;5;241m=\u001b[39m \u001b[38;5;124m'\u001b[39m\u001b[38;5;124m 67 \u001b[39m\u001b[38;5;124m'\u001b[39m\n\u001b[0;32m      2\u001b[0m g \u001b[38;5;241m=\u001b[39m \u001b[38;5;241m5\u001b[39m\n\u001b[1;32m----> 3\u001b[0m f\u001b[38;5;241m+\u001b[39mg\n",
      "\u001b[1;31mTypeError\u001b[0m: can only concatenate str (not \"int\") to str"
     ]
    }
   ],
   "source": [
    "f  = ' 67 '\n",
    "g = 5\n",
    "f+g"
   ]
  },
  {
   "cell_type": "code",
   "execution_count": 39,
   "id": "49727192-bd8d-4a64-a888-ce4adb93f727",
   "metadata": {},
   "outputs": [
    {
     "data": {
      "text/plain": [
       "72"
      ]
     },
     "execution_count": 39,
     "metadata": {},
     "output_type": "execute_result"
    }
   ],
   "source": [
    "int(f)+g"
   ]
  },
  {
   "cell_type": "code",
   "execution_count": 45,
   "id": "150e2f24-a8c1-48ba-b985-c7edfdb746d5",
   "metadata": {},
   "outputs": [
    {
     "ename": "TypeError",
     "evalue": "unsupported operand type(s) for +: 'int' and 'str'",
     "output_type": "error",
     "traceback": [
      "\u001b[1;31m---------------------------------------------------------------------------\u001b[0m",
      "\u001b[1;31mTypeError\u001b[0m                                 Traceback (most recent call last)",
      "Cell \u001b[1;32mIn[45], line 1\u001b[0m\n\u001b[1;32m----> 1\u001b[0m \u001b[38;5;28mint\u001b[39m(f)\u001b[38;5;241m+\u001b[39m\u001b[38;5;28mstr\u001b[39m(g)\n",
      "\u001b[1;31mTypeError\u001b[0m: unsupported operand type(s) for +: 'int' and 'str'"
     ]
    }
   ],
   "source": [
    "int(f)+str(g)"
   ]
  },
  {
   "cell_type": "code",
   "execution_count": 46,
   "id": "e1ced5e5-4506-4396-96b8-c51841ae1114",
   "metadata": {},
   "outputs": [
    {
     "data": {
      "text/plain": [
       "' navin navin'"
      ]
     },
     "execution_count": 46,
     "metadata": {},
     "output_type": "execute_result"
    }
   ],
   "source": [
    "' navin ' + 'navin'"
   ]
  },
  {
   "cell_type": "code",
   "execution_count": 48,
   "id": "76814864-e2f9-4142-a4a1-77da8e9e7a4c",
   "metadata": {},
   "outputs": [],
   "source": [
    "user = \"subham\"\n",
    "lines =100\n"
   ]
  },
  {
   "cell_type": "code",
   "execution_count": 49,
   "id": "76beaa76-e5c7-45f6-a699-f5ceda492ef1",
   "metadata": {},
   "outputs": [
    {
     "name": "stdout",
     "output_type": "stream",
     "text": [
      "Congratulations, subham! You just write 100 lines of code \n"
     ]
    }
   ],
   "source": [
    "print(\"Congratulations, \" + user + \"! You just write \" + str(lines) + \" lines of code \")"
   ]
  },
  {
   "cell_type": "markdown",
   "id": "caeebc37-4f21-43f5-ad6a-630cd528959f",
   "metadata": {},
   "source": [
    "# Length of string"
   ]
  },
  {
   "cell_type": "code",
   "execution_count": 2,
   "id": "97347d04-3ad8-4e3a-9582-12357e05ea31",
   "metadata": {},
   "outputs": [
    {
     "data": {
      "text/plain": [
       "True"
      ]
     },
     "execution_count": 2,
     "metadata": {},
     "output_type": "execute_result"
    }
   ],
   "source": [
    "45==45"
   ]
  },
  {
   "cell_type": "code",
   "execution_count": 3,
   "id": "f48795ba-a01e-48f9-89ac-3b4c2b1dbbda",
   "metadata": {},
   "outputs": [
    {
     "ename": "SyntaxError",
     "evalue": "leading zeros in decimal integer literals are not permitted; use an 0o prefix for octal integers (3882804013.py, line 1)",
     "output_type": "error",
     "traceback": [
      "\u001b[1;36m  Cell \u001b[1;32mIn[3], line 1\u001b[1;36m\u001b[0m\n\u001b[1;33m    dec(01111)\u001b[0m\n\u001b[1;37m        ^\u001b[0m\n\u001b[1;31mSyntaxError\u001b[0m\u001b[1;31m:\u001b[0m leading zeros in decimal integer literals are not permitted; use an 0o prefix for octal integers\n"
     ]
    }
   ],
   "source": [
    "dec(01111)"
   ]
  },
  {
   "cell_type": "code",
   "execution_count": 4,
   "id": "3028c5bf-17d6-4dd1-85ff-5d8b8916a691",
   "metadata": {},
   "outputs": [
    {
     "data": {
      "text/plain": [
       "15"
      ]
     },
     "execution_count": 4,
     "metadata": {},
     "output_type": "execute_result"
    }
   ],
   "source": [
    "0b01111y"
   ]
  },
  {
   "cell_type": "markdown",
   "id": "76c20877-a0f7-4dc1-adfd-448469588f9a",
   "metadata": {},
   "source": [
    "# Arithmetic Operator"
   ]
  },
  {
   "cell_type": "code",
   "execution_count": 8,
   "id": "4198afb3-704a-48a5-a767-11b309213570",
   "metadata": {},
   "outputs": [
    {
     "data": {
      "text/plain": [
       "10"
      ]
     },
     "execution_count": 8,
     "metadata": {},
     "output_type": "execute_result"
    }
   ],
   "source": [
    "3+7\n"
   ]
  },
  {
   "cell_type": "code",
   "execution_count": 7,
   "id": "e4d480e5-802e-47a6-b78c-5e648ca17fd2",
   "metadata": {},
   "outputs": [
    {
     "data": {
      "text/plain": [
       "11"
      ]
     },
     "execution_count": 7,
     "metadata": {},
     "output_type": "execute_result"
    }
   ],
   "source": [
    "54-43"
   ]
  },
  {
   "cell_type": "code",
   "execution_count": 9,
   "id": "735382b3-25c2-4bc0-b217-2efdc97ce117",
   "metadata": {},
   "outputs": [
    {
     "data": {
      "text/plain": [
       "20"
      ]
     },
     "execution_count": 9,
     "metadata": {},
     "output_type": "execute_result"
    }
   ],
   "source": [
    "4*5"
   ]
  },
  {
   "cell_type": "code",
   "execution_count": 10,
   "id": "2af1d575-9fa7-4f05-a05e-b86c588d0832",
   "metadata": {},
   "outputs": [
    {
     "data": {
      "text/plain": [
       "1.6666666666666667"
      ]
     },
     "execution_count": 10,
     "metadata": {},
     "output_type": "execute_result"
    }
   ],
   "source": [
    "5/3"
   ]
  },
  {
   "cell_type": "code",
   "execution_count": 11,
   "id": "dfe3cbf0-4579-4bb1-8763-65ffb8970e86",
   "metadata": {},
   "outputs": [
    {
     "data": {
      "text/plain": [
       "400"
      ]
     },
     "execution_count": 11,
     "metadata": {},
     "output_type": "execute_result"
    }
   ],
   "source": [
    "20**2"
   ]
  },
  {
   "cell_type": "code",
   "execution_count": 12,
   "id": "a1b85a1e-7bae-4a65-9965-e633a990f599",
   "metadata": {},
   "outputs": [
    {
     "data": {
      "text/plain": [
       "11"
      ]
     },
     "execution_count": 12,
     "metadata": {},
     "output_type": "execute_result"
    }
   ],
   "source": [
    "23//2"
   ]
  },
  {
   "cell_type": "code",
   "execution_count": 13,
   "id": "7bf14b45-97cc-403b-8fc5-2d91af384004",
   "metadata": {},
   "outputs": [
    {
     "data": {
      "text/plain": [
       "2"
      ]
     },
     "execution_count": 13,
     "metadata": {},
     "output_type": "execute_result"
    }
   ],
   "source": [
    "23%3"
   ]
  },
  {
   "cell_type": "code",
   "execution_count": 14,
   "id": "06449010-727a-48d0-8794-9c40c6844d59",
   "metadata": {},
   "outputs": [
    {
     "data": {
      "text/plain": [
       "90"
      ]
     },
     "execution_count": 14,
     "metadata": {},
     "output_type": "execute_result"
    }
   ],
   "source": [
    "(4+5)*(6+4)"
   ]
  },
  {
   "cell_type": "code",
   "execution_count": 15,
   "id": "d6e4c6d6-a748-4c3f-9025-46860cb7b91f",
   "metadata": {},
   "outputs": [
    {
     "name": "stdout",
     "output_type": "stream",
     "text": [
      "36\n",
      "1\n"
     ]
    }
   ],
   "source": [
    "a=9\n",
    "b=4\n",
    "print(a*b)\n",
    "print(a%b)"
   ]
  },
  {
   "cell_type": "code",
   "execution_count": 16,
   "id": "1ebec19a-c9d0-41f4-82c2-245499b35ea9",
   "metadata": {},
   "outputs": [
    {
     "data": {
      "text/plain": [
       "-26.555555555555557"
      ]
     },
     "execution_count": 16,
     "metadata": {},
     "output_type": "execute_result"
    }
   ],
   "source": [
    "a+b/a-b*a"
   ]
  },
  {
   "cell_type": "code",
   "execution_count": 18,
   "id": "eded7c23-dadf-474c-96f6-e09e381e910a",
   "metadata": {},
   "outputs": [
    {
     "data": {
      "text/plain": [
       "20"
      ]
     },
     "execution_count": 18,
     "metadata": {},
     "output_type": "execute_result"
    }
   ],
   "source": [
    "(2*(2+8))"
   ]
  },
  {
   "cell_type": "markdown",
   "id": "8f0375d5-1ddb-4266-8f65-d3e493416b05",
   "metadata": {},
   "source": [
    "# Comparison Operartor"
   ]
  },
  {
   "cell_type": "code",
   "execution_count": 19,
   "id": "c9b9d4fe-b7a0-4bc0-8923-666ccc3d5e1c",
   "metadata": {},
   "outputs": [
    {
     "data": {
      "text/plain": [
       "True"
      ]
     },
     "execution_count": 19,
     "metadata": {},
     "output_type": "execute_result"
    }
   ],
   "source": [
    "45>42"
   ]
  },
  {
   "cell_type": "code",
   "execution_count": 20,
   "id": "03dc107b-b82b-42bf-87f4-ae81f6c9e46a",
   "metadata": {},
   "outputs": [
    {
     "data": {
      "text/plain": [
       "False"
      ]
     },
     "execution_count": 20,
     "metadata": {},
     "output_type": "execute_result"
    }
   ],
   "source": [
    "45<12"
   ]
  },
  {
   "cell_type": "code",
   "execution_count": 21,
   "id": "505c51e9-2a70-4ee0-991a-f477e3d2d95c",
   "metadata": {},
   "outputs": [
    {
     "data": {
      "text/plain": [
       "True"
      ]
     },
     "execution_count": 21,
     "metadata": {},
     "output_type": "execute_result"
    }
   ],
   "source": [
    "7*8>8/6"
   ]
  },
  {
   "cell_type": "code",
   "execution_count": 22,
   "id": "5590995a-d61f-43e8-9747-cf81cded257d",
   "metadata": {},
   "outputs": [
    {
     "data": {
      "text/plain": [
       "True"
      ]
     },
     "execution_count": 22,
     "metadata": {},
     "output_type": "execute_result"
    }
   ],
   "source": [
    "43==43"
   ]
  },
  {
   "cell_type": "code",
   "execution_count": 23,
   "id": "8cda78f3-4f6e-46b6-91d1-5c3edddc9a92",
   "metadata": {},
   "outputs": [
    {
     "data": {
      "text/plain": [
       "True"
      ]
     },
     "execution_count": 23,
     "metadata": {},
     "output_type": "execute_result"
    }
   ],
   "source": [
    "3!=5"
   ]
  },
  {
   "cell_type": "code",
   "execution_count": 24,
   "id": "01c8c699-e744-479b-8ffe-2ee6aa566a93",
   "metadata": {},
   "outputs": [
    {
     "data": {
      "text/plain": [
       "False"
      ]
     },
     "execution_count": 24,
     "metadata": {},
     "output_type": "execute_result"
    }
   ],
   "source": [
    "1 >=2"
   ]
  },
  {
   "cell_type": "code",
   "execution_count": 25,
   "id": "48347d21-b4f5-41bd-a337-eb2123065384",
   "metadata": {},
   "outputs": [
    {
     "data": {
      "text/plain": [
       "False"
      ]
     },
     "execution_count": 25,
     "metadata": {},
     "output_type": "execute_result"
    }
   ],
   "source": [
    "5<=3"
   ]
  },
  {
   "cell_type": "code",
   "execution_count": 26,
   "id": "5a45251c-f91d-41f1-ade2-3064266d7c00",
   "metadata": {},
   "outputs": [
    {
     "data": {
      "text/plain": [
       "True"
      ]
     },
     "execution_count": 26,
     "metadata": {},
     "output_type": "execute_result"
    }
   ],
   "source": [
    "45 == 45.0"
   ]
  },
  {
   "cell_type": "code",
   "execution_count": 30,
   "id": "7d8e88dd-9dbc-44a1-b46e-e196de4008fc",
   "metadata": {},
   "outputs": [
    {
     "data": {
      "text/plain": [
       "False"
      ]
     },
     "execution_count": 30,
     "metadata": {},
     "output_type": "execute_result"
    }
   ],
   "source": [
    "'hello' == 'Hello'"
   ]
  },
  {
   "cell_type": "markdown",
   "id": "0d1c6e18-5988-421e-8a0f-d8d9602daae0",
   "metadata": {},
   "source": [
    "# Bitwise Operator"
   ]
  },
  {
   "cell_type": "markdown",
   "id": "40052e66-adcc-4b89-ba57-71809ea7f420",
   "metadata": {},
   "source": []
  },
  {
   "cell_type": "code",
   "execution_count": 32,
   "id": "d06a876a-4954-4d90-9670-2da768fbc18e",
   "metadata": {},
   "outputs": [
    {
     "data": {
      "text/plain": [
       "'0b1101101'"
      ]
     },
     "execution_count": 32,
     "metadata": {},
     "output_type": "execute_result"
    }
   ],
   "source": [
    "bin(109)"
   ]
  },
  {
   "cell_type": "code",
   "execution_count": 33,
   "id": "33bcd3b9-b1c5-4a05-b053-2362b7e98a7d",
   "metadata": {},
   "outputs": [
    {
     "data": {
      "text/plain": [
       "109"
      ]
     },
     "execution_count": 33,
     "metadata": {},
     "output_type": "execute_result"
    }
   ],
   "source": [
    "0b1101101"
   ]
  },
  {
   "cell_type": "code",
   "execution_count": 35,
   "id": "f82d5d3e-97b3-48e8-ad64-d7f130d4930f",
   "metadata": {},
   "outputs": [
    {
     "name": "stdout",
     "output_type": "stream",
     "text": [
      "5\n"
     ]
    }
   ],
   "source": [
    "a=1\n",
    "b=5\n",
    "print(a|b)"
   ]
  },
  {
   "cell_type": "code",
   "execution_count": 38,
   "id": "b127210f-9713-4f64-bade-38ba7fe5a222",
   "metadata": {},
   "outputs": [
    {
     "name": "stdout",
     "output_type": "stream",
     "text": [
      "0\n"
     ]
    }
   ],
   "source": [
    "a=2\n",
    "b=5\n",
    "print(a & b)"
   ]
  },
  {
   "cell_type": "code",
   "execution_count": 39,
   "id": "702afbfc-42ca-460c-89a5-949a39e9a262",
   "metadata": {},
   "outputs": [
    {
     "data": {
      "text/plain": [
       "13"
      ]
     },
     "execution_count": 39,
     "metadata": {},
     "output_type": "execute_result"
    }
   ],
   "source": [
    "4|9"
   ]
  },
  {
   "cell_type": "code",
   "execution_count": 40,
   "id": "7ed5658f-8fd1-4fb5-8966-d6bc337a4527",
   "metadata": {},
   "outputs": [
    {
     "data": {
      "text/plain": [
       "1"
      ]
     },
     "execution_count": 40,
     "metadata": {},
     "output_type": "execute_result"
    }
   ],
   "source": [
    "5&9"
   ]
  },
  {
   "cell_type": "markdown",
   "id": "0399b97e-140e-43a9-9f0d-09b458de7906",
   "metadata": {},
   "source": [
    "# Logical Operator"
   ]
  },
  {
   "cell_type": "code",
   "execution_count": 41,
   "id": "e3d5ef29-7bfd-4455-91af-fd6aea8e0aa1",
   "metadata": {},
   "outputs": [
    {
     "data": {
      "text/plain": [
       "True"
      ]
     },
     "execution_count": 41,
     "metadata": {},
     "output_type": "execute_result"
    }
   ],
   "source": [
    "(1 > 3) or (2>1)"
   ]
  },
  {
   "cell_type": "code",
   "execution_count": 42,
   "id": "c6486298-d071-42ac-8818-ed27477a511c",
   "metadata": {},
   "outputs": [
    {
     "data": {
      "text/plain": [
       "True"
      ]
     },
     "execution_count": 42,
     "metadata": {},
     "output_type": "execute_result"
    }
   ],
   "source": [
    "(2 > 4) or (1< 4)"
   ]
  },
  {
   "cell_type": "code",
   "execution_count": 43,
   "id": "d2579b3e-e3b8-402f-af55-ecb6eabcdb12",
   "metadata": {},
   "outputs": [
    {
     "data": {
      "text/plain": [
       "False"
      ]
     },
     "execution_count": 43,
     "metadata": {},
     "output_type": "execute_result"
    }
   ],
   "source": [
    "not True"
   ]
  },
  {
   "cell_type": "code",
   "execution_count": 44,
   "id": "50c96060-78eb-413b-9fe3-4efb695c6cd3",
   "metadata": {},
   "outputs": [
    {
     "data": {
      "text/plain": [
       "True"
      ]
     },
     "execution_count": 44,
     "metadata": {},
     "output_type": "execute_result"
    }
   ],
   "source": [
    " not False"
   ]
  },
  {
   "cell_type": "code",
   "execution_count": 78,
   "id": "6e29c54c-e3b9-4166-9f11-13f04ce71a4d",
   "metadata": {},
   "outputs": [
    {
     "data": {
      "text/plain": [
       "True"
      ]
     },
     "execution_count": 78,
     "metadata": {},
     "output_type": "execute_result"
    }
   ],
   "source": [
    "my_str='subham'\n",
    "my_str.isalpha()"
   ]
  },
  {
   "cell_type": "code",
   "execution_count": 79,
   "id": "b8982334-b68d-4f26-a24c-6186ced46e20",
   "metadata": {},
   "outputs": [
    {
     "data": {
      "text/plain": [
       "True"
      ]
     },
     "execution_count": 79,
     "metadata": {},
     "output_type": "execute_result"
    }
   ],
   "source": [
    "my_str.isalnum()"
   ]
  },
  {
   "cell_type": "markdown",
   "id": "8e8b1000-cca0-4b3d-9571-bbbe3d1c1855",
   "metadata": {},
   "source": [
    "# Assignment Operator"
   ]
  },
  {
   "cell_type": "code",
   "execution_count": 61,
   "id": "802a370e-9db0-4490-9f25-d640a1247f2c",
   "metadata": {},
   "outputs": [
    {
     "data": {
      "text/plain": [
       "10"
      ]
     },
     "execution_count": 61,
     "metadata": {},
     "output_type": "execute_result"
    }
   ],
   "source": [
    "a=10\n",
    "a"
   ]
  },
  {
   "cell_type": "code",
   "execution_count": 62,
   "id": "03465f88-98ee-4394-9aa8-12c150ff751c",
   "metadata": {},
   "outputs": [
    {
     "name": "stdout",
     "output_type": "stream",
     "text": [
      "12\n"
     ]
    }
   ],
   "source": [
    "a=a+2\n",
    "print(a)\n"
   ]
  },
  {
   "cell_type": "code",
   "execution_count": 63,
   "id": "a27a3279-50e0-43a0-9a4d-028a5bc8b3ab",
   "metadata": {},
   "outputs": [
    {
     "data": {
      "text/plain": [
       "13"
      ]
     },
     "execution_count": 63,
     "metadata": {},
     "output_type": "execute_result"
    }
   ],
   "source": [
    "a+=1\n",
    "a"
   ]
  },
  {
   "cell_type": "code",
   "execution_count": 66,
   "id": "1866d0c7-efa6-4ba1-acc0-08aed3a715f3",
   "metadata": {},
   "outputs": [
    {
     "name": "stdout",
     "output_type": "stream",
     "text": [
      "1\n"
     ]
    }
   ],
   "source": [
    "a-=4\n",
    "print(a)"
   ]
  },
  {
   "cell_type": "code",
   "execution_count": 67,
   "id": "db68978c-ad31-43ac-83af-20ab46fc2dfd",
   "metadata": {},
   "outputs": [
    {
     "name": "stdout",
     "output_type": "stream",
     "text": [
      "False\n"
     ]
    }
   ],
   "source": [
    "a= 5\n",
    "b= 6\n",
    "print(a is b)"
   ]
  },
  {
   "cell_type": "code",
   "execution_count": 68,
   "id": "d40ad560-647b-41b5-a58d-42b947d9c28a",
   "metadata": {},
   "outputs": [
    {
     "name": "stdout",
     "output_type": "stream",
     "text": [
      "False\n"
     ]
    }
   ],
   "source": [
    "a1=\"subham\"\n",
    "a2=\"Subham\"\n",
    "print(a1 is a2)"
   ]
  },
  {
   "cell_type": "code",
   "execution_count": 70,
   "id": "7d91dc1e-b9d6-411f-a70d-2bc52be43324",
   "metadata": {},
   "outputs": [
    {
     "data": {
      "text/plain": [
       "True"
      ]
     },
     "execution_count": 70,
     "metadata": {},
     "output_type": "execute_result"
    }
   ],
   "source": [
    "a=12\n",
    "b=32\n",
    "a is not b"
   ]
  },
  {
   "cell_type": "code",
   "execution_count": null,
   "id": "9a54e0a7-2241-44fd-8c4f-3e3674d80010",
   "metadata": {},
   "outputs": [],
   "source": [
    "a='Subham'\n",
    "am"
   ]
  }
 ],
 "metadata": {
  "kernelspec": {
   "display_name": "Python 3 (ipykernel)",
   "language": "python",
   "name": "python3"
  },
  "language_info": {
   "codemirror_mode": {
    "name": "ipython",
    "version": 3
   },
   "file_extension": ".py",
   "mimetype": "text/x-python",
   "name": "python",
   "nbconvert_exporter": "python",
   "pygments_lexer": "ipython3",
   "version": "3.11.7"
  }
 },
 "nbformat": 4,
 "nbformat_minor": 5
}
